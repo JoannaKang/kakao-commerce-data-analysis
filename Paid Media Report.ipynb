{
 "cells": [
  {
   "cell_type": "code",
   "execution_count": 4,
   "metadata": {},
   "outputs": [],
   "source": [
    "import openpyxl\n",
    "import os\n",
    "import numpy as np\n",
    "import pandas as pd"
   ]
  },
  {
   "cell_type": "code",
   "execution_count": 23,
   "metadata": {},
   "outputs": [],
   "source": [
    "file_path = \"C:\\\\Users\\\\Joanna Kang\\\\Desktop\\\\TASK\\\\5. Data Anaylsis\\\\Daily report\\\\200709_Paid Media Daily report.xlsx\"\n",
    "tab_list = ['Facebook_RawData', 'Instagram_RawData', 'Twitter_RawData', 'Google_RawData']\n",
    "#Facebook = pd.read_excel(file_path, sheet_name = tab_list[0])\n",
    "Instagram = pd.read_excel(file_path, sheet_name = tab_list[1])\n",
    "#Twitter = pd.read_excel(file_path, sheet_name = tab_list[2])\n",
    "#Google = pd.read_excel(file_path, sheet_name = tab_list[3])"
   ]
  },
  {
   "cell_type": "code",
   "execution_count": 18,
   "metadata": {},
   "outputs": [
    {
     "output_type": "execute_result",
     "data": {
      "text/plain": "      Setdata    Targeting       Creative         Day Delivery status  \\\n0      190624       APEACH           PINK  2019-06-24        inactive   \n1      190624       APEACH           PINK  2019-06-25        inactive   \n2      190715  RETARGETING     SUMMERSALE  2019-07-15        inactive   \n3      190715  RETARGETING     LASTMINUTE  2019-07-15        inactive   \n4      190715  RETARGETING     SUMMERSALE  2019-07-16        inactive   \n...       ...          ...            ...         ...             ...   \n7262   200701     PURCHASE  PLUSH&CUSHION  2020-07-08          active   \n7263   200701    LOOKEMAIL        BEDTIME  2020-07-08          active   \n7264   200701     PURCHASE     STATIONERY  2020-07-08          active   \n7265   200701    LOOKEMAIL      DAILYACCS  2020-07-08          active   \n7266   200701    LOOKEMAIL     STATIONERY  2020-07-08          active   \n\n     Delivery level  Reach  Amount spent (GBP)  Impressions  Link clicks  ...  \\\n0          campaign   2043                4.69         2073           26  ...   \n1          campaign   4444                9.37         4523           44  ...   \n2                ad    315                2.82          407           15  ...   \n3                ad    123                0.94          138            0  ...   \n4                ad   4963               11.20         5169           65  ...   \n...             ...    ...                 ...          ...          ...  ...   \n7262             ad   1806                4.64         1911           15  ...   \n7263             ad   1279                4.64         1396           17  ...   \n7264             ad   1080                4.61         1264           11  ...   \n7265             ad   1556                4.56         1599           16  ...   \n7266             ad   1358                4.27         1627            3  ...   \n\n      Frequency  Cost per 1,000 people reached  \\\n0      1.014684                       2.295644   \n1      1.017777                       2.108461   \n2      1.292063                       8.952381   \n3      1.121951                       7.642276   \n4      1.041507                       2.256700   \n...         ...                            ...   \n7262   1.058140                       2.569214   \n7263   1.091478                       3.627834   \n7264   1.170370                       4.268519   \n7265   1.027635                       2.930591   \n7266   1.198085                       3.144330   \n\n      CPM (cost per 1,000 impressions)  Post comments  Post engagement  \\\n0                             2.262422              1               63   \n1                             2.071634              0              109   \n2                             6.928747              0               77   \n3                             6.811594              0                3   \n4                             2.166763              0              737   \n...                                ...            ...              ...   \n7262                          2.428048              0               17   \n7263                          3.323782              0               17   \n7264                          3.647152              0               11   \n7265                          2.851782              0               19   \n7266                          2.624462              0                4   \n\n      Post reactions  Post saves  Post shares  Reporting starts  \\\n0                 23          10            3        2019-06-24   \n1                 32          25            8        2019-06-25   \n2                  2           0            0        2019-07-15   \n3                  3           0            0        2019-07-15   \n4                 29           6            0        2019-07-16   \n...              ...         ...          ...               ...   \n7262               2           0            0        2020-07-08   \n7263               0           0            0        2020-07-08   \n7264               0           0            0        2020-07-08   \n7265               3           0            0        2020-07-08   \n7266               1           0            0        2020-07-08   \n\n      Reporting ends  \n0         2019-06-24  \n1         2019-06-25  \n2         2019-07-15  \n3         2019-07-15  \n4         2019-07-16  \n...              ...  \n7262      2020-07-08  \n7263      2020-07-08  \n7264      2020-07-08  \n7265      2020-07-08  \n7266      2020-07-08  \n\n[7267 rows x 24 columns]",
      "text/html": "<div>\n<style scoped>\n    .dataframe tbody tr th:only-of-type {\n        vertical-align: middle;\n    }\n\n    .dataframe tbody tr th {\n        vertical-align: top;\n    }\n\n    .dataframe thead th {\n        text-align: right;\n    }\n</style>\n<table border=\"1\" class=\"dataframe\">\n  <thead>\n    <tr style=\"text-align: right;\">\n      <th></th>\n      <th>Setdata</th>\n      <th>Targeting</th>\n      <th>Creative</th>\n      <th>Day</th>\n      <th>Delivery status</th>\n      <th>Delivery level</th>\n      <th>Reach</th>\n      <th>Amount spent (GBP)</th>\n      <th>Impressions</th>\n      <th>Link clicks</th>\n      <th>...</th>\n      <th>Frequency</th>\n      <th>Cost per 1,000 people reached</th>\n      <th>CPM (cost per 1,000 impressions)</th>\n      <th>Post comments</th>\n      <th>Post engagement</th>\n      <th>Post reactions</th>\n      <th>Post saves</th>\n      <th>Post shares</th>\n      <th>Reporting starts</th>\n      <th>Reporting ends</th>\n    </tr>\n  </thead>\n  <tbody>\n    <tr>\n      <th>0</th>\n      <td>190624</td>\n      <td>APEACH</td>\n      <td>PINK</td>\n      <td>2019-06-24</td>\n      <td>inactive</td>\n      <td>campaign</td>\n      <td>2043</td>\n      <td>4.69</td>\n      <td>2073</td>\n      <td>26</td>\n      <td>...</td>\n      <td>1.014684</td>\n      <td>2.295644</td>\n      <td>2.262422</td>\n      <td>1</td>\n      <td>63</td>\n      <td>23</td>\n      <td>10</td>\n      <td>3</td>\n      <td>2019-06-24</td>\n      <td>2019-06-24</td>\n    </tr>\n    <tr>\n      <th>1</th>\n      <td>190624</td>\n      <td>APEACH</td>\n      <td>PINK</td>\n      <td>2019-06-25</td>\n      <td>inactive</td>\n      <td>campaign</td>\n      <td>4444</td>\n      <td>9.37</td>\n      <td>4523</td>\n      <td>44</td>\n      <td>...</td>\n      <td>1.017777</td>\n      <td>2.108461</td>\n      <td>2.071634</td>\n      <td>0</td>\n      <td>109</td>\n      <td>32</td>\n      <td>25</td>\n      <td>8</td>\n      <td>2019-06-25</td>\n      <td>2019-06-25</td>\n    </tr>\n    <tr>\n      <th>2</th>\n      <td>190715</td>\n      <td>RETARGETING</td>\n      <td>SUMMERSALE</td>\n      <td>2019-07-15</td>\n      <td>inactive</td>\n      <td>ad</td>\n      <td>315</td>\n      <td>2.82</td>\n      <td>407</td>\n      <td>15</td>\n      <td>...</td>\n      <td>1.292063</td>\n      <td>8.952381</td>\n      <td>6.928747</td>\n      <td>0</td>\n      <td>77</td>\n      <td>2</td>\n      <td>0</td>\n      <td>0</td>\n      <td>2019-07-15</td>\n      <td>2019-07-15</td>\n    </tr>\n    <tr>\n      <th>3</th>\n      <td>190715</td>\n      <td>RETARGETING</td>\n      <td>LASTMINUTE</td>\n      <td>2019-07-15</td>\n      <td>inactive</td>\n      <td>ad</td>\n      <td>123</td>\n      <td>0.94</td>\n      <td>138</td>\n      <td>0</td>\n      <td>...</td>\n      <td>1.121951</td>\n      <td>7.642276</td>\n      <td>6.811594</td>\n      <td>0</td>\n      <td>3</td>\n      <td>3</td>\n      <td>0</td>\n      <td>0</td>\n      <td>2019-07-15</td>\n      <td>2019-07-15</td>\n    </tr>\n    <tr>\n      <th>4</th>\n      <td>190715</td>\n      <td>RETARGETING</td>\n      <td>SUMMERSALE</td>\n      <td>2019-07-16</td>\n      <td>inactive</td>\n      <td>ad</td>\n      <td>4963</td>\n      <td>11.20</td>\n      <td>5169</td>\n      <td>65</td>\n      <td>...</td>\n      <td>1.041507</td>\n      <td>2.256700</td>\n      <td>2.166763</td>\n      <td>0</td>\n      <td>737</td>\n      <td>29</td>\n      <td>6</td>\n      <td>0</td>\n      <td>2019-07-16</td>\n      <td>2019-07-16</td>\n    </tr>\n    <tr>\n      <th>...</th>\n      <td>...</td>\n      <td>...</td>\n      <td>...</td>\n      <td>...</td>\n      <td>...</td>\n      <td>...</td>\n      <td>...</td>\n      <td>...</td>\n      <td>...</td>\n      <td>...</td>\n      <td>...</td>\n      <td>...</td>\n      <td>...</td>\n      <td>...</td>\n      <td>...</td>\n      <td>...</td>\n      <td>...</td>\n      <td>...</td>\n      <td>...</td>\n      <td>...</td>\n      <td>...</td>\n    </tr>\n    <tr>\n      <th>7262</th>\n      <td>200701</td>\n      <td>PURCHASE</td>\n      <td>PLUSH&amp;CUSHION</td>\n      <td>2020-07-08</td>\n      <td>active</td>\n      <td>ad</td>\n      <td>1806</td>\n      <td>4.64</td>\n      <td>1911</td>\n      <td>15</td>\n      <td>...</td>\n      <td>1.058140</td>\n      <td>2.569214</td>\n      <td>2.428048</td>\n      <td>0</td>\n      <td>17</td>\n      <td>2</td>\n      <td>0</td>\n      <td>0</td>\n      <td>2020-07-08</td>\n      <td>2020-07-08</td>\n    </tr>\n    <tr>\n      <th>7263</th>\n      <td>200701</td>\n      <td>LOOKEMAIL</td>\n      <td>BEDTIME</td>\n      <td>2020-07-08</td>\n      <td>active</td>\n      <td>ad</td>\n      <td>1279</td>\n      <td>4.64</td>\n      <td>1396</td>\n      <td>17</td>\n      <td>...</td>\n      <td>1.091478</td>\n      <td>3.627834</td>\n      <td>3.323782</td>\n      <td>0</td>\n      <td>17</td>\n      <td>0</td>\n      <td>0</td>\n      <td>0</td>\n      <td>2020-07-08</td>\n      <td>2020-07-08</td>\n    </tr>\n    <tr>\n      <th>7264</th>\n      <td>200701</td>\n      <td>PURCHASE</td>\n      <td>STATIONERY</td>\n      <td>2020-07-08</td>\n      <td>active</td>\n      <td>ad</td>\n      <td>1080</td>\n      <td>4.61</td>\n      <td>1264</td>\n      <td>11</td>\n      <td>...</td>\n      <td>1.170370</td>\n      <td>4.268519</td>\n      <td>3.647152</td>\n      <td>0</td>\n      <td>11</td>\n      <td>0</td>\n      <td>0</td>\n      <td>0</td>\n      <td>2020-07-08</td>\n      <td>2020-07-08</td>\n    </tr>\n    <tr>\n      <th>7265</th>\n      <td>200701</td>\n      <td>LOOKEMAIL</td>\n      <td>DAILYACCS</td>\n      <td>2020-07-08</td>\n      <td>active</td>\n      <td>ad</td>\n      <td>1556</td>\n      <td>4.56</td>\n      <td>1599</td>\n      <td>16</td>\n      <td>...</td>\n      <td>1.027635</td>\n      <td>2.930591</td>\n      <td>2.851782</td>\n      <td>0</td>\n      <td>19</td>\n      <td>3</td>\n      <td>0</td>\n      <td>0</td>\n      <td>2020-07-08</td>\n      <td>2020-07-08</td>\n    </tr>\n    <tr>\n      <th>7266</th>\n      <td>200701</td>\n      <td>LOOKEMAIL</td>\n      <td>STATIONERY</td>\n      <td>2020-07-08</td>\n      <td>active</td>\n      <td>ad</td>\n      <td>1358</td>\n      <td>4.27</td>\n      <td>1627</td>\n      <td>3</td>\n      <td>...</td>\n      <td>1.198085</td>\n      <td>3.144330</td>\n      <td>2.624462</td>\n      <td>0</td>\n      <td>4</td>\n      <td>1</td>\n      <td>0</td>\n      <td>0</td>\n      <td>2020-07-08</td>\n      <td>2020-07-08</td>\n    </tr>\n  </tbody>\n</table>\n<p>7267 rows × 24 columns</p>\n</div>"
     },
     "metadata": {},
     "execution_count": 18
    }
   ],
   "source": [
    "Facebook"
   ]
  },
  {
   "cell_type": "code",
   "execution_count": 19,
   "metadata": {},
   "outputs": [
    {
     "output_type": "execute_result",
     "data": {
      "text/plain": "Index(['Setdata', 'Targeting', 'Creative', 'Day', 'Delivery status',\n       'Delivery level', 'Reach', 'Amount spent (GBP)', 'Impressions',\n       'Link clicks', 'Purchases', 'Mobile app purchases', 'Website purchases',\n       'On-Facebook purchases', 'Frequency', 'Cost per 1,000 people reached',\n       'CPM (cost per 1,000 impressions)', 'Post comments', 'Post engagement',\n       'Post reactions', 'Post saves', 'Post shares', 'Reporting starts',\n       'Reporting ends'],\n      dtype='object')"
     },
     "metadata": {},
     "execution_count": 19
    }
   ],
   "source": [
    "Facebook.columns"
   ]
  },
  {
   "cell_type": "code",
   "execution_count": 20,
   "metadata": {},
   "outputs": [],
   "source": [
    "Facebook = Facebook [['Setdata', 'Day', 'Targeting', 'Creative', 'Amount spent (GBP)', 'Impressions', 'Link clicks', 'Purchases']]"
   ]
  },
  {
   "cell_type": "code",
   "execution_count": 21,
   "metadata": {},
   "outputs": [
    {
     "output_type": "execute_result",
     "data": {
      "text/plain": "      Setdata         Day    Targeting       Creative  Amount spent (GBP)  \\\n0      190624  2019-06-24       APEACH           PINK                4.69   \n1      190624  2019-06-25       APEACH           PINK                9.37   \n2      190715  2019-07-15  RETARGETING     SUMMERSALE                2.82   \n3      190715  2019-07-15  RETARGETING     LASTMINUTE                0.94   \n4      190715  2019-07-16  RETARGETING     SUMMERSALE               11.20   \n...       ...         ...          ...            ...                 ...   \n7262   200701  2020-07-08     PURCHASE  PLUSH&CUSHION                4.64   \n7263   200701  2020-07-08    LOOKEMAIL        BEDTIME                4.64   \n7264   200701  2020-07-08     PURCHASE     STATIONERY                4.61   \n7265   200701  2020-07-08    LOOKEMAIL      DAILYACCS                4.56   \n7266   200701  2020-07-08    LOOKEMAIL     STATIONERY                4.27   \n\n      Impressions  Link clicks  Purchases  \n0            2073           26          0  \n1            4523           44          2  \n2             407           15          0  \n3             138            0          0  \n4            5169           65          1  \n...           ...          ...        ...  \n7262         1911           15          0  \n7263         1396           17          0  \n7264         1264           11          0  \n7265         1599           16          0  \n7266         1627            3          0  \n\n[7267 rows x 8 columns]",
      "text/html": "<div>\n<style scoped>\n    .dataframe tbody tr th:only-of-type {\n        vertical-align: middle;\n    }\n\n    .dataframe tbody tr th {\n        vertical-align: top;\n    }\n\n    .dataframe thead th {\n        text-align: right;\n    }\n</style>\n<table border=\"1\" class=\"dataframe\">\n  <thead>\n    <tr style=\"text-align: right;\">\n      <th></th>\n      <th>Setdata</th>\n      <th>Day</th>\n      <th>Targeting</th>\n      <th>Creative</th>\n      <th>Amount spent (GBP)</th>\n      <th>Impressions</th>\n      <th>Link clicks</th>\n      <th>Purchases</th>\n    </tr>\n  </thead>\n  <tbody>\n    <tr>\n      <th>0</th>\n      <td>190624</td>\n      <td>2019-06-24</td>\n      <td>APEACH</td>\n      <td>PINK</td>\n      <td>4.69</td>\n      <td>2073</td>\n      <td>26</td>\n      <td>0</td>\n    </tr>\n    <tr>\n      <th>1</th>\n      <td>190624</td>\n      <td>2019-06-25</td>\n      <td>APEACH</td>\n      <td>PINK</td>\n      <td>9.37</td>\n      <td>4523</td>\n      <td>44</td>\n      <td>2</td>\n    </tr>\n    <tr>\n      <th>2</th>\n      <td>190715</td>\n      <td>2019-07-15</td>\n      <td>RETARGETING</td>\n      <td>SUMMERSALE</td>\n      <td>2.82</td>\n      <td>407</td>\n      <td>15</td>\n      <td>0</td>\n    </tr>\n    <tr>\n      <th>3</th>\n      <td>190715</td>\n      <td>2019-07-15</td>\n      <td>RETARGETING</td>\n      <td>LASTMINUTE</td>\n      <td>0.94</td>\n      <td>138</td>\n      <td>0</td>\n      <td>0</td>\n    </tr>\n    <tr>\n      <th>4</th>\n      <td>190715</td>\n      <td>2019-07-16</td>\n      <td>RETARGETING</td>\n      <td>SUMMERSALE</td>\n      <td>11.20</td>\n      <td>5169</td>\n      <td>65</td>\n      <td>1</td>\n    </tr>\n    <tr>\n      <th>...</th>\n      <td>...</td>\n      <td>...</td>\n      <td>...</td>\n      <td>...</td>\n      <td>...</td>\n      <td>...</td>\n      <td>...</td>\n      <td>...</td>\n    </tr>\n    <tr>\n      <th>7262</th>\n      <td>200701</td>\n      <td>2020-07-08</td>\n      <td>PURCHASE</td>\n      <td>PLUSH&amp;CUSHION</td>\n      <td>4.64</td>\n      <td>1911</td>\n      <td>15</td>\n      <td>0</td>\n    </tr>\n    <tr>\n      <th>7263</th>\n      <td>200701</td>\n      <td>2020-07-08</td>\n      <td>LOOKEMAIL</td>\n      <td>BEDTIME</td>\n      <td>4.64</td>\n      <td>1396</td>\n      <td>17</td>\n      <td>0</td>\n    </tr>\n    <tr>\n      <th>7264</th>\n      <td>200701</td>\n      <td>2020-07-08</td>\n      <td>PURCHASE</td>\n      <td>STATIONERY</td>\n      <td>4.61</td>\n      <td>1264</td>\n      <td>11</td>\n      <td>0</td>\n    </tr>\n    <tr>\n      <th>7265</th>\n      <td>200701</td>\n      <td>2020-07-08</td>\n      <td>LOOKEMAIL</td>\n      <td>DAILYACCS</td>\n      <td>4.56</td>\n      <td>1599</td>\n      <td>16</td>\n      <td>0</td>\n    </tr>\n    <tr>\n      <th>7266</th>\n      <td>200701</td>\n      <td>2020-07-08</td>\n      <td>LOOKEMAIL</td>\n      <td>STATIONERY</td>\n      <td>4.27</td>\n      <td>1627</td>\n      <td>3</td>\n      <td>0</td>\n    </tr>\n  </tbody>\n</table>\n<p>7267 rows × 8 columns</p>\n</div>"
     },
     "metadata": {},
     "execution_count": 21
    }
   ],
   "source": [
    "Facebook"
   ]
  },
  {
   "cell_type": "code",
   "execution_count": 24,
   "metadata": {},
   "outputs": [
    {
     "output_type": "execute_result",
     "data": {
      "text/plain": "Index(['Post', 'Day', 'Delivery status', 'Delivery level', 'Reach',\n       'Amount spent (GBP)', 'Impressions', 'Link clicks', 'Purchases',\n       'Mobile app purchases', 'Website purchases', 'On-Facebook purchases',\n       'Frequency', 'Cost per 1,000 people reached',\n       'CPM (cost per 1,000 impressions)', 'Post comments', 'Post engagement',\n       'Post reactions', 'Post saves', 'Post shares', 'Reporting starts',\n       'Reporting ends'],\n      dtype='object')"
     },
     "metadata": {},
     "execution_count": 24
    }
   ],
   "source": [
    "Instagram.columns"
   ]
  },
  {
   "cell_type": "code",
   "execution_count": 26,
   "metadata": {},
   "outputs": [
    {
     "output_type": "execute_result",
     "data": {
      "text/plain": "             Day                                               Post  \\\n0     2019-06-01  Instagram post: OMG, Finally It's Friday! Enjo...   \n1     2019-06-01  Instagram post: Best way to relieve stress fro...   \n2     2019-06-02  Instagram post: OMG, Finally It's Friday! Enjo...   \n3     2019-06-03  Instagram post: OMG, Finally It's Friday! Enjo...   \n4     2019-06-03   Instagram post: Anyone who feels depressed on...   \n...          ...                                                ...   \n1687  2020-07-02     Instagram post: Are you enjoying the summer...   \n1688  2020-07-03     Instagram post: Are you enjoying the summer...   \n1689  2020-07-03     Instagram post: Are you enjoying the summer...   \n1690  2020-07-04     Instagram post: Are you enjoying the summer...   \n1691  2020-07-04     Instagram post: Are you enjoying the summer...   \n\n      Amount spent (GBP)  Impressions  Link clicks  Purchases  \n0                  10.73        26052          149          0  \n1                   3.76         4693           22          0  \n2                  10.62        28303          153          0  \n3                   2.77         6179           36          0  \n4                   1.82         4355           24          0  \n...                  ...          ...          ...        ...  \n1687                0.84          918            1          0  \n1688                4.19        37449           54          0  \n1689                0.85          744            1          0  \n1690                1.56        12859           23          0  \n1691                0.29          176            1          0  \n\n[1692 rows x 6 columns]",
      "text/html": "<div>\n<style scoped>\n    .dataframe tbody tr th:only-of-type {\n        vertical-align: middle;\n    }\n\n    .dataframe tbody tr th {\n        vertical-align: top;\n    }\n\n    .dataframe thead th {\n        text-align: right;\n    }\n</style>\n<table border=\"1\" class=\"dataframe\">\n  <thead>\n    <tr style=\"text-align: right;\">\n      <th></th>\n      <th>Day</th>\n      <th>Post</th>\n      <th>Amount spent (GBP)</th>\n      <th>Impressions</th>\n      <th>Link clicks</th>\n      <th>Purchases</th>\n    </tr>\n  </thead>\n  <tbody>\n    <tr>\n      <th>0</th>\n      <td>2019-06-01</td>\n      <td>Instagram post: OMG, Finally It's Friday! Enjo...</td>\n      <td>10.73</td>\n      <td>26052</td>\n      <td>149</td>\n      <td>0</td>\n    </tr>\n    <tr>\n      <th>1</th>\n      <td>2019-06-01</td>\n      <td>Instagram post: Best way to relieve stress fro...</td>\n      <td>3.76</td>\n      <td>4693</td>\n      <td>22</td>\n      <td>0</td>\n    </tr>\n    <tr>\n      <th>2</th>\n      <td>2019-06-02</td>\n      <td>Instagram post: OMG, Finally It's Friday! Enjo...</td>\n      <td>10.62</td>\n      <td>28303</td>\n      <td>153</td>\n      <td>0</td>\n    </tr>\n    <tr>\n      <th>3</th>\n      <td>2019-06-03</td>\n      <td>Instagram post: OMG, Finally It's Friday! Enjo...</td>\n      <td>2.77</td>\n      <td>6179</td>\n      <td>36</td>\n      <td>0</td>\n    </tr>\n    <tr>\n      <th>4</th>\n      <td>2019-06-03</td>\n      <td>Instagram post: Anyone who feels depressed on...</td>\n      <td>1.82</td>\n      <td>4355</td>\n      <td>24</td>\n      <td>0</td>\n    </tr>\n    <tr>\n      <th>...</th>\n      <td>...</td>\n      <td>...</td>\n      <td>...</td>\n      <td>...</td>\n      <td>...</td>\n      <td>...</td>\n    </tr>\n    <tr>\n      <th>1687</th>\n      <td>2020-07-02</td>\n      <td>Instagram post: Are you enjoying the summer...</td>\n      <td>0.84</td>\n      <td>918</td>\n      <td>1</td>\n      <td>0</td>\n    </tr>\n    <tr>\n      <th>1688</th>\n      <td>2020-07-03</td>\n      <td>Instagram post: Are you enjoying the summer...</td>\n      <td>4.19</td>\n      <td>37449</td>\n      <td>54</td>\n      <td>0</td>\n    </tr>\n    <tr>\n      <th>1689</th>\n      <td>2020-07-03</td>\n      <td>Instagram post: Are you enjoying the summer...</td>\n      <td>0.85</td>\n      <td>744</td>\n      <td>1</td>\n      <td>0</td>\n    </tr>\n    <tr>\n      <th>1690</th>\n      <td>2020-07-04</td>\n      <td>Instagram post: Are you enjoying the summer...</td>\n      <td>1.56</td>\n      <td>12859</td>\n      <td>23</td>\n      <td>0</td>\n    </tr>\n    <tr>\n      <th>1691</th>\n      <td>2020-07-04</td>\n      <td>Instagram post: Are you enjoying the summer...</td>\n      <td>0.29</td>\n      <td>176</td>\n      <td>1</td>\n      <td>0</td>\n    </tr>\n  </tbody>\n</table>\n<p>1692 rows × 6 columns</p>\n</div>"
     },
     "metadata": {},
     "execution_count": 26
    }
   ],
   "source": [
    "Instagram = Instagram[['Day', 'Post', 'Amount spent (GBP)', 'Impressions', 'Link clicks', 'Purchases']]\n",
    "Instagram"
   ]
  }
 ],
 "metadata": {
  "kernelspec": {
   "display_name": "Python 3",
   "language": "python",
   "name": "python3"
  },
  "language_info": {
   "codemirror_mode": {
    "name": "ipython",
    "version": 3
   },
   "file_extension": ".py",
   "mimetype": "text/x-python",
   "name": "python",
   "nbconvert_exporter": "python",
   "pygments_lexer": "ipython3",
   "version": "3.7.6"
  }
 },
 "nbformat": 4,
 "nbformat_minor": 4
}
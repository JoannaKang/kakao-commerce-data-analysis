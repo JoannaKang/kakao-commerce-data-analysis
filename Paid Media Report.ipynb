{
 "cells": [
  {
   "cell_type": "code",
   "execution_count": 56,
   "metadata": {},
   "outputs": [],
   "source": [
    "import openpyxl\n",
    "import os\n",
    "import numpy as np\n",
    "import pandas as pd"
   ]
  },
  {
   "cell_type": "code",
   "execution_count": 72,
   "metadata": {},
   "outputs": [],
   "source": [
    "file_path = \"C:\\\\Users\\\\Joanna Kang\\\\Desktop\\\\TASK\\\\5. Data Anaylsis\\\\Daily report\\\\200709_Paid Media Daily report.xlsx\"\n",
    "tab_list = ['Facebook_RawData', 'Instagram_RawData', 'Twitter_RawData', 'Google_RawData']\n",
    "#Facebook = pd.read_excel(file_path, sheet_name = tab_list[0])\n",
    "#Instagram = pd.read_excel(file_path, sheet_name = tab_list[1])\n",
    "#Twitter = pd.read_excel(file_path, sheet_name = tab_list[2])\n",
    "Google = pd.read_excel(file_path, sheet_name = tab_list[3])"
   ]
  },
  {
   "cell_type": "code",
   "execution_count": 58,
   "metadata": {},
   "outputs": [
    {
     "output_type": "execute_result",
     "data": {
      "text/plain": "      Setdata         Day    Targeting       Creative  Amount spent (GBP)  \\\n0      190624  2019-06-24       APEACH           PINK                4.69   \n1      190624  2019-06-25       APEACH           PINK                9.37   \n2      190715  2019-07-15  RETARGETING     SUMMERSALE                2.82   \n3      190715  2019-07-15  RETARGETING     LASTMINUTE                0.94   \n4      190715  2019-07-16  RETARGETING     SUMMERSALE               11.20   \n...       ...         ...          ...            ...                 ...   \n7262   200701  2020-07-08     PURCHASE  PLUSH&CUSHION                4.64   \n7263   200701  2020-07-08    LOOKEMAIL        BEDTIME                4.64   \n7264   200701  2020-07-08     PURCHASE     STATIONERY                4.61   \n7265   200701  2020-07-08    LOOKEMAIL      DAILYACCS                4.56   \n7266   200701  2020-07-08    LOOKEMAIL     STATIONERY                4.27   \n\n      Impressions  Link clicks  Purchases  Platform  \n0            2073           26          0  Facebook  \n1            4523           44          2  Facebook  \n2             407           15          0  Facebook  \n3             138            0          0  Facebook  \n4            5169           65          1  Facebook  \n...           ...          ...        ...       ...  \n7262         1911           15          0  Facebook  \n7263         1396           17          0  Facebook  \n7264         1264           11          0  Facebook  \n7265         1599           16          0  Facebook  \n7266         1627            3          0  Facebook  \n\n[7267 rows x 9 columns]",
      "text/html": "<div>\n<style scoped>\n    .dataframe tbody tr th:only-of-type {\n        vertical-align: middle;\n    }\n\n    .dataframe tbody tr th {\n        vertical-align: top;\n    }\n\n    .dataframe thead th {\n        text-align: right;\n    }\n</style>\n<table border=\"1\" class=\"dataframe\">\n  <thead>\n    <tr style=\"text-align: right;\">\n      <th></th>\n      <th>Setdata</th>\n      <th>Day</th>\n      <th>Targeting</th>\n      <th>Creative</th>\n      <th>Amount spent (GBP)</th>\n      <th>Impressions</th>\n      <th>Link clicks</th>\n      <th>Purchases</th>\n      <th>Platform</th>\n    </tr>\n  </thead>\n  <tbody>\n    <tr>\n      <th>0</th>\n      <td>190624</td>\n      <td>2019-06-24</td>\n      <td>APEACH</td>\n      <td>PINK</td>\n      <td>4.69</td>\n      <td>2073</td>\n      <td>26</td>\n      <td>0</td>\n      <td>Facebook</td>\n    </tr>\n    <tr>\n      <th>1</th>\n      <td>190624</td>\n      <td>2019-06-25</td>\n      <td>APEACH</td>\n      <td>PINK</td>\n      <td>9.37</td>\n      <td>4523</td>\n      <td>44</td>\n      <td>2</td>\n      <td>Facebook</td>\n    </tr>\n    <tr>\n      <th>2</th>\n      <td>190715</td>\n      <td>2019-07-15</td>\n      <td>RETARGETING</td>\n      <td>SUMMERSALE</td>\n      <td>2.82</td>\n      <td>407</td>\n      <td>15</td>\n      <td>0</td>\n      <td>Facebook</td>\n    </tr>\n    <tr>\n      <th>3</th>\n      <td>190715</td>\n      <td>2019-07-15</td>\n      <td>RETARGETING</td>\n      <td>LASTMINUTE</td>\n      <td>0.94</td>\n      <td>138</td>\n      <td>0</td>\n      <td>0</td>\n      <td>Facebook</td>\n    </tr>\n    <tr>\n      <th>4</th>\n      <td>190715</td>\n      <td>2019-07-16</td>\n      <td>RETARGETING</td>\n      <td>SUMMERSALE</td>\n      <td>11.20</td>\n      <td>5169</td>\n      <td>65</td>\n      <td>1</td>\n      <td>Facebook</td>\n    </tr>\n    <tr>\n      <th>...</th>\n      <td>...</td>\n      <td>...</td>\n      <td>...</td>\n      <td>...</td>\n      <td>...</td>\n      <td>...</td>\n      <td>...</td>\n      <td>...</td>\n      <td>...</td>\n    </tr>\n    <tr>\n      <th>7262</th>\n      <td>200701</td>\n      <td>2020-07-08</td>\n      <td>PURCHASE</td>\n      <td>PLUSH&amp;CUSHION</td>\n      <td>4.64</td>\n      <td>1911</td>\n      <td>15</td>\n      <td>0</td>\n      <td>Facebook</td>\n    </tr>\n    <tr>\n      <th>7263</th>\n      <td>200701</td>\n      <td>2020-07-08</td>\n      <td>LOOKEMAIL</td>\n      <td>BEDTIME</td>\n      <td>4.64</td>\n      <td>1396</td>\n      <td>17</td>\n      <td>0</td>\n      <td>Facebook</td>\n    </tr>\n    <tr>\n      <th>7264</th>\n      <td>200701</td>\n      <td>2020-07-08</td>\n      <td>PURCHASE</td>\n      <td>STATIONERY</td>\n      <td>4.61</td>\n      <td>1264</td>\n      <td>11</td>\n      <td>0</td>\n      <td>Facebook</td>\n    </tr>\n    <tr>\n      <th>7265</th>\n      <td>200701</td>\n      <td>2020-07-08</td>\n      <td>LOOKEMAIL</td>\n      <td>DAILYACCS</td>\n      <td>4.56</td>\n      <td>1599</td>\n      <td>16</td>\n      <td>0</td>\n      <td>Facebook</td>\n    </tr>\n    <tr>\n      <th>7266</th>\n      <td>200701</td>\n      <td>2020-07-08</td>\n      <td>LOOKEMAIL</td>\n      <td>STATIONERY</td>\n      <td>4.27</td>\n      <td>1627</td>\n      <td>3</td>\n      <td>0</td>\n      <td>Facebook</td>\n    </tr>\n  </tbody>\n</table>\n<p>7267 rows × 9 columns</p>\n</div>"
     },
     "metadata": {},
     "execution_count": 58
    }
   ],
   "source": [
    "Facebook"
   ]
  },
  {
   "cell_type": "code",
   "execution_count": 59,
   "metadata": {},
   "outputs": [
    {
     "output_type": "execute_result",
     "data": {
      "text/plain": "Index(['Setdata', 'Day', 'Targeting', 'Creative', 'Amount spent (GBP)',\n       'Impressions', 'Link clicks', 'Purchases', 'Platform'],\n      dtype='object')"
     },
     "metadata": {},
     "execution_count": 59
    }
   ],
   "source": [
    "Facebook.columns"
   ]
  },
  {
   "cell_type": "code",
   "execution_count": 60,
   "metadata": {},
   "outputs": [],
   "source": [
    "Facebook = Facebook [['Setdata', 'Day', 'Targeting', 'Creative', 'Amount spent (GBP)', 'Impressions', 'Link clicks', 'Purchases']]"
   ]
  },
  {
   "cell_type": "code",
   "execution_count": 61,
   "metadata": {},
   "outputs": [
    {
     "output_type": "execute_result",
     "data": {
      "text/plain": "      Setdata         Day    Targeting       Creative  Amount spent (GBP)  \\\n0      190624  2019-06-24       APEACH           PINK                4.69   \n1      190624  2019-06-25       APEACH           PINK                9.37   \n2      190715  2019-07-15  RETARGETING     SUMMERSALE                2.82   \n3      190715  2019-07-15  RETARGETING     LASTMINUTE                0.94   \n4      190715  2019-07-16  RETARGETING     SUMMERSALE               11.20   \n...       ...         ...          ...            ...                 ...   \n7262   200701  2020-07-08     PURCHASE  PLUSH&CUSHION                4.64   \n7263   200701  2020-07-08    LOOKEMAIL        BEDTIME                4.64   \n7264   200701  2020-07-08     PURCHASE     STATIONERY                4.61   \n7265   200701  2020-07-08    LOOKEMAIL      DAILYACCS                4.56   \n7266   200701  2020-07-08    LOOKEMAIL     STATIONERY                4.27   \n\n      Impressions  Link clicks  Purchases  Platform  \n0            2073           26          0  Facebook  \n1            4523           44          2  Facebook  \n2             407           15          0  Facebook  \n3             138            0          0  Facebook  \n4            5169           65          1  Facebook  \n...           ...          ...        ...       ...  \n7262         1911           15          0  Facebook  \n7263         1396           17          0  Facebook  \n7264         1264           11          0  Facebook  \n7265         1599           16          0  Facebook  \n7266         1627            3          0  Facebook  \n\n[7267 rows x 9 columns]",
      "text/html": "<div>\n<style scoped>\n    .dataframe tbody tr th:only-of-type {\n        vertical-align: middle;\n    }\n\n    .dataframe tbody tr th {\n        vertical-align: top;\n    }\n\n    .dataframe thead th {\n        text-align: right;\n    }\n</style>\n<table border=\"1\" class=\"dataframe\">\n  <thead>\n    <tr style=\"text-align: right;\">\n      <th></th>\n      <th>Setdata</th>\n      <th>Day</th>\n      <th>Targeting</th>\n      <th>Creative</th>\n      <th>Amount spent (GBP)</th>\n      <th>Impressions</th>\n      <th>Link clicks</th>\n      <th>Purchases</th>\n      <th>Platform</th>\n    </tr>\n  </thead>\n  <tbody>\n    <tr>\n      <th>0</th>\n      <td>190624</td>\n      <td>2019-06-24</td>\n      <td>APEACH</td>\n      <td>PINK</td>\n      <td>4.69</td>\n      <td>2073</td>\n      <td>26</td>\n      <td>0</td>\n      <td>Facebook</td>\n    </tr>\n    <tr>\n      <th>1</th>\n      <td>190624</td>\n      <td>2019-06-25</td>\n      <td>APEACH</td>\n      <td>PINK</td>\n      <td>9.37</td>\n      <td>4523</td>\n      <td>44</td>\n      <td>2</td>\n      <td>Facebook</td>\n    </tr>\n    <tr>\n      <th>2</th>\n      <td>190715</td>\n      <td>2019-07-15</td>\n      <td>RETARGETING</td>\n      <td>SUMMERSALE</td>\n      <td>2.82</td>\n      <td>407</td>\n      <td>15</td>\n      <td>0</td>\n      <td>Facebook</td>\n    </tr>\n    <tr>\n      <th>3</th>\n      <td>190715</td>\n      <td>2019-07-15</td>\n      <td>RETARGETING</td>\n      <td>LASTMINUTE</td>\n      <td>0.94</td>\n      <td>138</td>\n      <td>0</td>\n      <td>0</td>\n      <td>Facebook</td>\n    </tr>\n    <tr>\n      <th>4</th>\n      <td>190715</td>\n      <td>2019-07-16</td>\n      <td>RETARGETING</td>\n      <td>SUMMERSALE</td>\n      <td>11.20</td>\n      <td>5169</td>\n      <td>65</td>\n      <td>1</td>\n      <td>Facebook</td>\n    </tr>\n    <tr>\n      <th>...</th>\n      <td>...</td>\n      <td>...</td>\n      <td>...</td>\n      <td>...</td>\n      <td>...</td>\n      <td>...</td>\n      <td>...</td>\n      <td>...</td>\n      <td>...</td>\n    </tr>\n    <tr>\n      <th>7262</th>\n      <td>200701</td>\n      <td>2020-07-08</td>\n      <td>PURCHASE</td>\n      <td>PLUSH&amp;CUSHION</td>\n      <td>4.64</td>\n      <td>1911</td>\n      <td>15</td>\n      <td>0</td>\n      <td>Facebook</td>\n    </tr>\n    <tr>\n      <th>7263</th>\n      <td>200701</td>\n      <td>2020-07-08</td>\n      <td>LOOKEMAIL</td>\n      <td>BEDTIME</td>\n      <td>4.64</td>\n      <td>1396</td>\n      <td>17</td>\n      <td>0</td>\n      <td>Facebook</td>\n    </tr>\n    <tr>\n      <th>7264</th>\n      <td>200701</td>\n      <td>2020-07-08</td>\n      <td>PURCHASE</td>\n      <td>STATIONERY</td>\n      <td>4.61</td>\n      <td>1264</td>\n      <td>11</td>\n      <td>0</td>\n      <td>Facebook</td>\n    </tr>\n    <tr>\n      <th>7265</th>\n      <td>200701</td>\n      <td>2020-07-08</td>\n      <td>LOOKEMAIL</td>\n      <td>DAILYACCS</td>\n      <td>4.56</td>\n      <td>1599</td>\n      <td>16</td>\n      <td>0</td>\n      <td>Facebook</td>\n    </tr>\n    <tr>\n      <th>7266</th>\n      <td>200701</td>\n      <td>2020-07-08</td>\n      <td>LOOKEMAIL</td>\n      <td>STATIONERY</td>\n      <td>4.27</td>\n      <td>1627</td>\n      <td>3</td>\n      <td>0</td>\n      <td>Facebook</td>\n    </tr>\n  </tbody>\n</table>\n<p>7267 rows × 9 columns</p>\n</div>"
     },
     "metadata": {},
     "execution_count": 61
    }
   ],
   "source": [
    "Facebook['Platform'] = 'Facebook'\n",
    "Facebook"
   ]
  },
  {
   "cell_type": "code",
   "execution_count": 62,
   "metadata": {},
   "outputs": [
    {
     "output_type": "execute_result",
     "data": {
      "text/plain": "Index(['Day', 'Post', 'Amount spent (GBP)', 'Impressions', 'Link clicks',\n       'Purchases', 'Platform'],\n      dtype='object')"
     },
     "metadata": {},
     "execution_count": 62
    }
   ],
   "source": [
    "Instagram.columns"
   ]
  },
  {
   "cell_type": "code",
   "execution_count": 63,
   "metadata": {},
   "outputs": [
    {
     "output_type": "execute_result",
     "data": {
      "text/plain": "             Day                                               Post  \\\n0     2019-06-01  Instagram post: OMG, Finally It's Friday! Enjo...   \n1     2019-06-01  Instagram post: Best way to relieve stress fro...   \n2     2019-06-02  Instagram post: OMG, Finally It's Friday! Enjo...   \n3     2019-06-03  Instagram post: OMG, Finally It's Friday! Enjo...   \n4     2019-06-03   Instagram post: Anyone who feels depressed on...   \n...          ...                                                ...   \n1687  2020-07-02     Instagram post: Are you enjoying the summer...   \n1688  2020-07-03     Instagram post: Are you enjoying the summer...   \n1689  2020-07-03     Instagram post: Are you enjoying the summer...   \n1690  2020-07-04     Instagram post: Are you enjoying the summer...   \n1691  2020-07-04     Instagram post: Are you enjoying the summer...   \n\n      Amount spent (GBP)  Impressions  Link clicks  Purchases   Platform  \n0                  10.73        26052          149          0  Instagram  \n1                   3.76         4693           22          0  Instagram  \n2                  10.62        28303          153          0  Instagram  \n3                   2.77         6179           36          0  Instagram  \n4                   1.82         4355           24          0  Instagram  \n...                  ...          ...          ...        ...        ...  \n1687                0.84          918            1          0  Instagram  \n1688                4.19        37449           54          0  Instagram  \n1689                0.85          744            1          0  Instagram  \n1690                1.56        12859           23          0  Instagram  \n1691                0.29          176            1          0  Instagram  \n\n[1692 rows x 7 columns]",
      "text/html": "<div>\n<style scoped>\n    .dataframe tbody tr th:only-of-type {\n        vertical-align: middle;\n    }\n\n    .dataframe tbody tr th {\n        vertical-align: top;\n    }\n\n    .dataframe thead th {\n        text-align: right;\n    }\n</style>\n<table border=\"1\" class=\"dataframe\">\n  <thead>\n    <tr style=\"text-align: right;\">\n      <th></th>\n      <th>Day</th>\n      <th>Post</th>\n      <th>Amount spent (GBP)</th>\n      <th>Impressions</th>\n      <th>Link clicks</th>\n      <th>Purchases</th>\n      <th>Platform</th>\n    </tr>\n  </thead>\n  <tbody>\n    <tr>\n      <th>0</th>\n      <td>2019-06-01</td>\n      <td>Instagram post: OMG, Finally It's Friday! Enjo...</td>\n      <td>10.73</td>\n      <td>26052</td>\n      <td>149</td>\n      <td>0</td>\n      <td>Instagram</td>\n    </tr>\n    <tr>\n      <th>1</th>\n      <td>2019-06-01</td>\n      <td>Instagram post: Best way to relieve stress fro...</td>\n      <td>3.76</td>\n      <td>4693</td>\n      <td>22</td>\n      <td>0</td>\n      <td>Instagram</td>\n    </tr>\n    <tr>\n      <th>2</th>\n      <td>2019-06-02</td>\n      <td>Instagram post: OMG, Finally It's Friday! Enjo...</td>\n      <td>10.62</td>\n      <td>28303</td>\n      <td>153</td>\n      <td>0</td>\n      <td>Instagram</td>\n    </tr>\n    <tr>\n      <th>3</th>\n      <td>2019-06-03</td>\n      <td>Instagram post: OMG, Finally It's Friday! Enjo...</td>\n      <td>2.77</td>\n      <td>6179</td>\n      <td>36</td>\n      <td>0</td>\n      <td>Instagram</td>\n    </tr>\n    <tr>\n      <th>4</th>\n      <td>2019-06-03</td>\n      <td>Instagram post: Anyone who feels depressed on...</td>\n      <td>1.82</td>\n      <td>4355</td>\n      <td>24</td>\n      <td>0</td>\n      <td>Instagram</td>\n    </tr>\n    <tr>\n      <th>...</th>\n      <td>...</td>\n      <td>...</td>\n      <td>...</td>\n      <td>...</td>\n      <td>...</td>\n      <td>...</td>\n      <td>...</td>\n    </tr>\n    <tr>\n      <th>1687</th>\n      <td>2020-07-02</td>\n      <td>Instagram post: Are you enjoying the summer...</td>\n      <td>0.84</td>\n      <td>918</td>\n      <td>1</td>\n      <td>0</td>\n      <td>Instagram</td>\n    </tr>\n    <tr>\n      <th>1688</th>\n      <td>2020-07-03</td>\n      <td>Instagram post: Are you enjoying the summer...</td>\n      <td>4.19</td>\n      <td>37449</td>\n      <td>54</td>\n      <td>0</td>\n      <td>Instagram</td>\n    </tr>\n    <tr>\n      <th>1689</th>\n      <td>2020-07-03</td>\n      <td>Instagram post: Are you enjoying the summer...</td>\n      <td>0.85</td>\n      <td>744</td>\n      <td>1</td>\n      <td>0</td>\n      <td>Instagram</td>\n    </tr>\n    <tr>\n      <th>1690</th>\n      <td>2020-07-04</td>\n      <td>Instagram post: Are you enjoying the summer...</td>\n      <td>1.56</td>\n      <td>12859</td>\n      <td>23</td>\n      <td>0</td>\n      <td>Instagram</td>\n    </tr>\n    <tr>\n      <th>1691</th>\n      <td>2020-07-04</td>\n      <td>Instagram post: Are you enjoying the summer...</td>\n      <td>0.29</td>\n      <td>176</td>\n      <td>1</td>\n      <td>0</td>\n      <td>Instagram</td>\n    </tr>\n  </tbody>\n</table>\n<p>1692 rows × 7 columns</p>\n</div>"
     },
     "metadata": {},
     "execution_count": 63
    }
   ],
   "source": [
    "Instagram = Instagram[['Day', 'Post', 'Amount spent (GBP)', 'Impressions', 'Link clicks', 'Purchases']]\n",
    "Instagram['Platform'] = 'Instagram'\n",
    "Instagram"
   ]
  },
  {
   "cell_type": "code",
   "execution_count": 75,
   "metadata": {},
   "outputs": [
    {
     "output_type": "execute_result",
     "data": {
      "text/plain": "         Ad type        Day            Campaign            Ad group   Cost  \\\n0         이미지 광고 2019-07-09                  UK             UK_GIFT   0.00   \n1         이미지 광고 2019-07-09                  UK             UK_HOME   0.00   \n2         이미지 광고 2019-07-09                  UK             UK_GIFT   0.00   \n3         이미지 광고 2019-07-09                  UK             UK_GIFT   0.88   \n4         이미지 광고 2019-07-09                  UK             UK_HOME   1.55   \n...          ...        ...                 ...                 ...    ...   \n1650  Product ad 2020-07-05  200504_Shopping AD  200504_Shopping AD   9.74   \n1651  Product ad 2020-07-08  200504_Shopping AD  200504_Shopping AD   7.12   \n1652  Product ad 2020-07-06  200504_Shopping AD  200504_Shopping AD   6.51   \n1653  Product ad 2020-07-03  200504_Shopping AD  200504_Shopping AD  10.41   \n1654  Product ad 2020-07-07  200504_Shopping AD  200504_Shopping AD  13.27   \n\n      Impr.  Interactions  Conversions  \n0        14             0            0  \n1         3             0            0  \n2         9             0            0  \n3       674             4            0  \n4       618            11            0  \n...     ...           ...          ...  \n1650   6600            48            0  \n1651   7197            35            0  \n1652   5276            34            1  \n1653   7129            48            1  \n1654   7867            58            2  \n\n[1655 rows x 8 columns]",
      "text/html": "<div>\n<style scoped>\n    .dataframe tbody tr th:only-of-type {\n        vertical-align: middle;\n    }\n\n    .dataframe tbody tr th {\n        vertical-align: top;\n    }\n\n    .dataframe thead th {\n        text-align: right;\n    }\n</style>\n<table border=\"1\" class=\"dataframe\">\n  <thead>\n    <tr style=\"text-align: right;\">\n      <th></th>\n      <th>Ad type</th>\n      <th>Day</th>\n      <th>Campaign</th>\n      <th>Ad group</th>\n      <th>Cost</th>\n      <th>Impr.</th>\n      <th>Interactions</th>\n      <th>Conversions</th>\n    </tr>\n  </thead>\n  <tbody>\n    <tr>\n      <th>0</th>\n      <td>이미지 광고</td>\n      <td>2019-07-09</td>\n      <td>UK</td>\n      <td>UK_GIFT</td>\n      <td>0.00</td>\n      <td>14</td>\n      <td>0</td>\n      <td>0</td>\n    </tr>\n    <tr>\n      <th>1</th>\n      <td>이미지 광고</td>\n      <td>2019-07-09</td>\n      <td>UK</td>\n      <td>UK_HOME</td>\n      <td>0.00</td>\n      <td>3</td>\n      <td>0</td>\n      <td>0</td>\n    </tr>\n    <tr>\n      <th>2</th>\n      <td>이미지 광고</td>\n      <td>2019-07-09</td>\n      <td>UK</td>\n      <td>UK_GIFT</td>\n      <td>0.00</td>\n      <td>9</td>\n      <td>0</td>\n      <td>0</td>\n    </tr>\n    <tr>\n      <th>3</th>\n      <td>이미지 광고</td>\n      <td>2019-07-09</td>\n      <td>UK</td>\n      <td>UK_GIFT</td>\n      <td>0.88</td>\n      <td>674</td>\n      <td>4</td>\n      <td>0</td>\n    </tr>\n    <tr>\n      <th>4</th>\n      <td>이미지 광고</td>\n      <td>2019-07-09</td>\n      <td>UK</td>\n      <td>UK_HOME</td>\n      <td>1.55</td>\n      <td>618</td>\n      <td>11</td>\n      <td>0</td>\n    </tr>\n    <tr>\n      <th>...</th>\n      <td>...</td>\n      <td>...</td>\n      <td>...</td>\n      <td>...</td>\n      <td>...</td>\n      <td>...</td>\n      <td>...</td>\n      <td>...</td>\n    </tr>\n    <tr>\n      <th>1650</th>\n      <td>Product ad</td>\n      <td>2020-07-05</td>\n      <td>200504_Shopping AD</td>\n      <td>200504_Shopping AD</td>\n      <td>9.74</td>\n      <td>6600</td>\n      <td>48</td>\n      <td>0</td>\n    </tr>\n    <tr>\n      <th>1651</th>\n      <td>Product ad</td>\n      <td>2020-07-08</td>\n      <td>200504_Shopping AD</td>\n      <td>200504_Shopping AD</td>\n      <td>7.12</td>\n      <td>7197</td>\n      <td>35</td>\n      <td>0</td>\n    </tr>\n    <tr>\n      <th>1652</th>\n      <td>Product ad</td>\n      <td>2020-07-06</td>\n      <td>200504_Shopping AD</td>\n      <td>200504_Shopping AD</td>\n      <td>6.51</td>\n      <td>5276</td>\n      <td>34</td>\n      <td>1</td>\n    </tr>\n    <tr>\n      <th>1653</th>\n      <td>Product ad</td>\n      <td>2020-07-03</td>\n      <td>200504_Shopping AD</td>\n      <td>200504_Shopping AD</td>\n      <td>10.41</td>\n      <td>7129</td>\n      <td>48</td>\n      <td>1</td>\n    </tr>\n    <tr>\n      <th>1654</th>\n      <td>Product ad</td>\n      <td>2020-07-07</td>\n      <td>200504_Shopping AD</td>\n      <td>200504_Shopping AD</td>\n      <td>13.27</td>\n      <td>7867</td>\n      <td>58</td>\n      <td>2</td>\n    </tr>\n  </tbody>\n</table>\n<p>1655 rows × 8 columns</p>\n</div>"
     },
     "metadata": {},
     "execution_count": 75
    }
   ],
   "source": [
    "Google = Google[['Ad type', 'Day', 'Campaign', 'Ad group', 'Cost', 'Impr.', 'Interactions', 'Conversions']]\n",
    "Google"
   ]
  },
  {
   "cell_type": "code",
   "execution_count": 65,
   "metadata": {},
   "outputs": [
    {
     "output_type": "execute_result",
     "data": {
      "text/plain": "                                           product_title variant_sku  \\\n0                          Winter Wonderland Plastic Bag         NaN   \n1                          Winter Wonderland Plastic Bag         NaN   \n2                          Winter Wonderland Plastic Bag         NaN   \n3                          Winter Wonderland Plastic Bag         NaN   \n4                                            Plastic Bag         NaN   \n...                                                  ...         ...   \n13967  KANGDANIEL EDITION, Plush Keyring - Hipster Ap...      F10577   \n13968                  Popsockets - Ryan, Iconic Pattern      G00001   \n13969                          Coin Wallet - Little Ryan      F10134   \n13970  KF X Battle Grounds Collaboration, Clear Rugge...    93008053   \n13971        TWICE Edition, Winter Fleece Socks - Apeach      F10216   \n\n              day  net_quantity  gross_sales  discounts  returns  net_sales  \\\n0      2020-01-01           108         8.71       0.00     0.00       8.71   \n1      2019-12-30           106         8.52       0.00     0.00       8.52   \n2      2019-12-27            98         7.88       0.00     0.00       7.88   \n3      2019-12-23            98         7.89      -0.20     0.00       7.69   \n4      2019-11-30            95         7.67      -0.31     0.00       7.36   \n...           ...           ...          ...        ...      ...        ...   \n13967  2020-03-09            -2         0.00       0.00   -23.48     -23.48   \n13968  2020-05-26            -2         0.00       0.00   -24.68     -24.68   \n13969  2020-03-27            -3         0.00       0.00   -37.47     -37.47   \n13970  2019-08-05            -4         0.00       0.00   -43.96     -43.96   \n13971  2019-10-30            -7         7.49       0.00   -59.92     -52.43   \n\n       taxes  total_sales  \n0       2.09        10.80  \n1       2.05        10.57  \n2       1.87         9.75  \n3       1.91         9.60  \n4       1.03         8.39  \n...      ...          ...  \n13967  -4.69       -28.17  \n13968   0.00       -24.68  \n13969  -7.49       -44.97  \n13970   0.00       -43.96  \n13971   0.00       -52.43  \n\n[13972 rows x 10 columns]",
      "text/html": "<div>\n<style scoped>\n    .dataframe tbody tr th:only-of-type {\n        vertical-align: middle;\n    }\n\n    .dataframe tbody tr th {\n        vertical-align: top;\n    }\n\n    .dataframe thead th {\n        text-align: right;\n    }\n</style>\n<table border=\"1\" class=\"dataframe\">\n  <thead>\n    <tr style=\"text-align: right;\">\n      <th></th>\n      <th>product_title</th>\n      <th>variant_sku</th>\n      <th>day</th>\n      <th>net_quantity</th>\n      <th>gross_sales</th>\n      <th>discounts</th>\n      <th>returns</th>\n      <th>net_sales</th>\n      <th>taxes</th>\n      <th>total_sales</th>\n    </tr>\n  </thead>\n  <tbody>\n    <tr>\n      <th>0</th>\n      <td>Winter Wonderland Plastic Bag</td>\n      <td>NaN</td>\n      <td>2020-01-01</td>\n      <td>108</td>\n      <td>8.71</td>\n      <td>0.00</td>\n      <td>0.00</td>\n      <td>8.71</td>\n      <td>2.09</td>\n      <td>10.80</td>\n    </tr>\n    <tr>\n      <th>1</th>\n      <td>Winter Wonderland Plastic Bag</td>\n      <td>NaN</td>\n      <td>2019-12-30</td>\n      <td>106</td>\n      <td>8.52</td>\n      <td>0.00</td>\n      <td>0.00</td>\n      <td>8.52</td>\n      <td>2.05</td>\n      <td>10.57</td>\n    </tr>\n    <tr>\n      <th>2</th>\n      <td>Winter Wonderland Plastic Bag</td>\n      <td>NaN</td>\n      <td>2019-12-27</td>\n      <td>98</td>\n      <td>7.88</td>\n      <td>0.00</td>\n      <td>0.00</td>\n      <td>7.88</td>\n      <td>1.87</td>\n      <td>9.75</td>\n    </tr>\n    <tr>\n      <th>3</th>\n      <td>Winter Wonderland Plastic Bag</td>\n      <td>NaN</td>\n      <td>2019-12-23</td>\n      <td>98</td>\n      <td>7.89</td>\n      <td>-0.20</td>\n      <td>0.00</td>\n      <td>7.69</td>\n      <td>1.91</td>\n      <td>9.60</td>\n    </tr>\n    <tr>\n      <th>4</th>\n      <td>Plastic Bag</td>\n      <td>NaN</td>\n      <td>2019-11-30</td>\n      <td>95</td>\n      <td>7.67</td>\n      <td>-0.31</td>\n      <td>0.00</td>\n      <td>7.36</td>\n      <td>1.03</td>\n      <td>8.39</td>\n    </tr>\n    <tr>\n      <th>...</th>\n      <td>...</td>\n      <td>...</td>\n      <td>...</td>\n      <td>...</td>\n      <td>...</td>\n      <td>...</td>\n      <td>...</td>\n      <td>...</td>\n      <td>...</td>\n      <td>...</td>\n    </tr>\n    <tr>\n      <th>13967</th>\n      <td>KANGDANIEL EDITION, Plush Keyring - Hipster Ap...</td>\n      <td>F10577</td>\n      <td>2020-03-09</td>\n      <td>-2</td>\n      <td>0.00</td>\n      <td>0.00</td>\n      <td>-23.48</td>\n      <td>-23.48</td>\n      <td>-4.69</td>\n      <td>-28.17</td>\n    </tr>\n    <tr>\n      <th>13968</th>\n      <td>Popsockets - Ryan, Iconic Pattern</td>\n      <td>G00001</td>\n      <td>2020-05-26</td>\n      <td>-2</td>\n      <td>0.00</td>\n      <td>0.00</td>\n      <td>-24.68</td>\n      <td>-24.68</td>\n      <td>0.00</td>\n      <td>-24.68</td>\n    </tr>\n    <tr>\n      <th>13969</th>\n      <td>Coin Wallet - Little Ryan</td>\n      <td>F10134</td>\n      <td>2020-03-27</td>\n      <td>-3</td>\n      <td>0.00</td>\n      <td>0.00</td>\n      <td>-37.47</td>\n      <td>-37.47</td>\n      <td>-7.49</td>\n      <td>-44.97</td>\n    </tr>\n    <tr>\n      <th>13970</th>\n      <td>KF X Battle Grounds Collaboration, Clear Rugge...</td>\n      <td>93008053</td>\n      <td>2019-08-05</td>\n      <td>-4</td>\n      <td>0.00</td>\n      <td>0.00</td>\n      <td>-43.96</td>\n      <td>-43.96</td>\n      <td>0.00</td>\n      <td>-43.96</td>\n    </tr>\n    <tr>\n      <th>13971</th>\n      <td>TWICE Edition, Winter Fleece Socks - Apeach</td>\n      <td>F10216</td>\n      <td>2019-10-30</td>\n      <td>-7</td>\n      <td>7.49</td>\n      <td>0.00</td>\n      <td>-59.92</td>\n      <td>-52.43</td>\n      <td>0.00</td>\n      <td>-52.43</td>\n    </tr>\n  </tbody>\n</table>\n<p>13972 rows × 10 columns</p>\n</div>"
     },
     "metadata": {},
     "execution_count": 65
    }
   ],
   "source": [
    "sales = pd.read_csv(\"C:\\\\Users\\\\Joanna Kang\\\\Desktop\\\\Data_source\\\\Saledata_Total\\\\Shopify\\\\sales_2019-03-09_2020-07-08.csv\")\n",
    "sales"
   ]
  },
  {
   "cell_type": "code",
   "execution_count": 66,
   "metadata": {},
   "outputs": [
    {
     "output_type": "execute_result",
     "data": {
      "text/plain": "            Amount spent (GBP)  Impressions  Link clicks  Purchases  Platform\nDay                                                                          \n2019-06-24                4.69         2073           26          0  Facebook\n2019-06-25                9.37         4523           44          2  Facebook\n2019-07-15                3.76          545           15          0  Facebook\n2019-07-16               12.39         5838           69          1  Facebook\n2019-07-18                4.62         1242           16          1  Facebook\n...                        ...          ...          ...        ...       ...\n2020-07-04               49.72        17978          164          1  Facebook\n2020-07-05               53.64        22057          204          1  Facebook\n2020-07-06               49.44        18178          190          3  Facebook\n2020-07-07               50.51        18735          169          0  Facebook\n2020-07-08               46.76        16696          170          0  Facebook\n\n[351 rows x 5 columns]",
      "text/html": "<div>\n<style scoped>\n    .dataframe tbody tr th:only-of-type {\n        vertical-align: middle;\n    }\n\n    .dataframe tbody tr th {\n        vertical-align: top;\n    }\n\n    .dataframe thead th {\n        text-align: right;\n    }\n</style>\n<table border=\"1\" class=\"dataframe\">\n  <thead>\n    <tr style=\"text-align: right;\">\n      <th></th>\n      <th>Amount spent (GBP)</th>\n      <th>Impressions</th>\n      <th>Link clicks</th>\n      <th>Purchases</th>\n      <th>Platform</th>\n    </tr>\n    <tr>\n      <th>Day</th>\n      <th></th>\n      <th></th>\n      <th></th>\n      <th></th>\n      <th></th>\n    </tr>\n  </thead>\n  <tbody>\n    <tr>\n      <th>2019-06-24</th>\n      <td>4.69</td>\n      <td>2073</td>\n      <td>26</td>\n      <td>0</td>\n      <td>Facebook</td>\n    </tr>\n    <tr>\n      <th>2019-06-25</th>\n      <td>9.37</td>\n      <td>4523</td>\n      <td>44</td>\n      <td>2</td>\n      <td>Facebook</td>\n    </tr>\n    <tr>\n      <th>2019-07-15</th>\n      <td>3.76</td>\n      <td>545</td>\n      <td>15</td>\n      <td>0</td>\n      <td>Facebook</td>\n    </tr>\n    <tr>\n      <th>2019-07-16</th>\n      <td>12.39</td>\n      <td>5838</td>\n      <td>69</td>\n      <td>1</td>\n      <td>Facebook</td>\n    </tr>\n    <tr>\n      <th>2019-07-18</th>\n      <td>4.62</td>\n      <td>1242</td>\n      <td>16</td>\n      <td>1</td>\n      <td>Facebook</td>\n    </tr>\n    <tr>\n      <th>...</th>\n      <td>...</td>\n      <td>...</td>\n      <td>...</td>\n      <td>...</td>\n      <td>...</td>\n    </tr>\n    <tr>\n      <th>2020-07-04</th>\n      <td>49.72</td>\n      <td>17978</td>\n      <td>164</td>\n      <td>1</td>\n      <td>Facebook</td>\n    </tr>\n    <tr>\n      <th>2020-07-05</th>\n      <td>53.64</td>\n      <td>22057</td>\n      <td>204</td>\n      <td>1</td>\n      <td>Facebook</td>\n    </tr>\n    <tr>\n      <th>2020-07-06</th>\n      <td>49.44</td>\n      <td>18178</td>\n      <td>190</td>\n      <td>3</td>\n      <td>Facebook</td>\n    </tr>\n    <tr>\n      <th>2020-07-07</th>\n      <td>50.51</td>\n      <td>18735</td>\n      <td>169</td>\n      <td>0</td>\n      <td>Facebook</td>\n    </tr>\n    <tr>\n      <th>2020-07-08</th>\n      <td>46.76</td>\n      <td>16696</td>\n      <td>170</td>\n      <td>0</td>\n      <td>Facebook</td>\n    </tr>\n  </tbody>\n</table>\n<p>351 rows × 5 columns</p>\n</div>"
     },
     "metadata": {},
     "execution_count": 66
    }
   ],
   "source": [
    "Facebook_daily = pd.pivot_table(Facebook, index = ['Day'], aggfunc=sum, fill_value = 0) \n",
    "Facebook_daily = Facebook_daily.drop(['Setdata'], axis=1)\n",
    "Facebook_daily['Platform'] = 'Facebook'\n",
    "Facebook_daily"
   ]
  },
  {
   "cell_type": "code",
   "execution_count": 67,
   "metadata": {},
   "outputs": [
    {
     "output_type": "execute_result",
     "data": {
      "text/plain": "            Amount spent (GBP)  Impressions  Link clicks  Purchases   Platform\nDay                                                                           \n2019-06-01               14.49        30745          171          0  Instagram\n2019-06-02               10.62        28303          153          0  Instagram\n2019-06-03                4.59        10534           60          0  Instagram\n2019-06-04                4.70        11331           48          0  Instagram\n2019-06-05                5.56        12096           41          1  Instagram\n...                        ...          ...          ...        ...        ...\n2020-06-30                5.03        52337           75          0  Instagram\n2020-07-01                5.09        52745           81          0  Instagram\n2020-07-02                5.23        49827           86          0  Instagram\n2020-07-03                5.04        38193           55          0  Instagram\n2020-07-04                1.85        13035           24          0  Instagram\n\n[335 rows x 5 columns]",
      "text/html": "<div>\n<style scoped>\n    .dataframe tbody tr th:only-of-type {\n        vertical-align: middle;\n    }\n\n    .dataframe tbody tr th {\n        vertical-align: top;\n    }\n\n    .dataframe thead th {\n        text-align: right;\n    }\n</style>\n<table border=\"1\" class=\"dataframe\">\n  <thead>\n    <tr style=\"text-align: right;\">\n      <th></th>\n      <th>Amount spent (GBP)</th>\n      <th>Impressions</th>\n      <th>Link clicks</th>\n      <th>Purchases</th>\n      <th>Platform</th>\n    </tr>\n    <tr>\n      <th>Day</th>\n      <th></th>\n      <th></th>\n      <th></th>\n      <th></th>\n      <th></th>\n    </tr>\n  </thead>\n  <tbody>\n    <tr>\n      <th>2019-06-01</th>\n      <td>14.49</td>\n      <td>30745</td>\n      <td>171</td>\n      <td>0</td>\n      <td>Instagram</td>\n    </tr>\n    <tr>\n      <th>2019-06-02</th>\n      <td>10.62</td>\n      <td>28303</td>\n      <td>153</td>\n      <td>0</td>\n      <td>Instagram</td>\n    </tr>\n    <tr>\n      <th>2019-06-03</th>\n      <td>4.59</td>\n      <td>10534</td>\n      <td>60</td>\n      <td>0</td>\n      <td>Instagram</td>\n    </tr>\n    <tr>\n      <th>2019-06-04</th>\n      <td>4.70</td>\n      <td>11331</td>\n      <td>48</td>\n      <td>0</td>\n      <td>Instagram</td>\n    </tr>\n    <tr>\n      <th>2019-06-05</th>\n      <td>5.56</td>\n      <td>12096</td>\n      <td>41</td>\n      <td>1</td>\n      <td>Instagram</td>\n    </tr>\n    <tr>\n      <th>...</th>\n      <td>...</td>\n      <td>...</td>\n      <td>...</td>\n      <td>...</td>\n      <td>...</td>\n    </tr>\n    <tr>\n      <th>2020-06-30</th>\n      <td>5.03</td>\n      <td>52337</td>\n      <td>75</td>\n      <td>0</td>\n      <td>Instagram</td>\n    </tr>\n    <tr>\n      <th>2020-07-01</th>\n      <td>5.09</td>\n      <td>52745</td>\n      <td>81</td>\n      <td>0</td>\n      <td>Instagram</td>\n    </tr>\n    <tr>\n      <th>2020-07-02</th>\n      <td>5.23</td>\n      <td>49827</td>\n      <td>86</td>\n      <td>0</td>\n      <td>Instagram</td>\n    </tr>\n    <tr>\n      <th>2020-07-03</th>\n      <td>5.04</td>\n      <td>38193</td>\n      <td>55</td>\n      <td>0</td>\n      <td>Instagram</td>\n    </tr>\n    <tr>\n      <th>2020-07-04</th>\n      <td>1.85</td>\n      <td>13035</td>\n      <td>24</td>\n      <td>0</td>\n      <td>Instagram</td>\n    </tr>\n  </tbody>\n</table>\n<p>335 rows × 5 columns</p>\n</div>"
     },
     "metadata": {},
     "execution_count": 67
    }
   ],
   "source": [
    "Instagram_daily = pd.pivot_table(Instagram, index = ['Day'], aggfunc=sum, fill_value = 0)\n",
    "Instagram_daily['Platform'] = 'Instagram' \n",
    "Instagram_daily"
   ]
  },
  {
   "cell_type": "code",
   "execution_count": 68,
   "metadata": {},
   "outputs": [
    {
     "output_type": "execute_result",
     "data": {
      "text/plain": "            Amount spent (GBP)  Impressions  Link clicks  Purchase Platform\nDay                                                                        \n2019-07-10           15.000000         3787           11         0  Twitter\n2019-07-11           15.000000         6212           25         0  Twitter\n2019-07-12           15.000000         5503           34         0  Twitter\n2019-07-13           15.000000         7593           40         0  Twitter\n2019-07-15           15.000000         7754           27         0  Twitter\n...                        ...          ...          ...       ...      ...\n2020-03-05           10.000000         5221          127         0  Twitter\n2020-03-06           10.000000         5226          109         0  Twitter\n2020-03-07           10.000000         5738          117         0  Twitter\n2020-03-08           10.000000         4965          116         0  Twitter\n2020-03-09            2.823645         1574           26         0  Twitter\n\n[165 rows x 5 columns]",
      "text/html": "<div>\n<style scoped>\n    .dataframe tbody tr th:only-of-type {\n        vertical-align: middle;\n    }\n\n    .dataframe tbody tr th {\n        vertical-align: top;\n    }\n\n    .dataframe thead th {\n        text-align: right;\n    }\n</style>\n<table border=\"1\" class=\"dataframe\">\n  <thead>\n    <tr style=\"text-align: right;\">\n      <th></th>\n      <th>Amount spent (GBP)</th>\n      <th>Impressions</th>\n      <th>Link clicks</th>\n      <th>Purchase</th>\n      <th>Platform</th>\n    </tr>\n    <tr>\n      <th>Day</th>\n      <th></th>\n      <th></th>\n      <th></th>\n      <th></th>\n      <th></th>\n    </tr>\n  </thead>\n  <tbody>\n    <tr>\n      <th>2019-07-10</th>\n      <td>15.000000</td>\n      <td>3787</td>\n      <td>11</td>\n      <td>0</td>\n      <td>Twitter</td>\n    </tr>\n    <tr>\n      <th>2019-07-11</th>\n      <td>15.000000</td>\n      <td>6212</td>\n      <td>25</td>\n      <td>0</td>\n      <td>Twitter</td>\n    </tr>\n    <tr>\n      <th>2019-07-12</th>\n      <td>15.000000</td>\n      <td>5503</td>\n      <td>34</td>\n      <td>0</td>\n      <td>Twitter</td>\n    </tr>\n    <tr>\n      <th>2019-07-13</th>\n      <td>15.000000</td>\n      <td>7593</td>\n      <td>40</td>\n      <td>0</td>\n      <td>Twitter</td>\n    </tr>\n    <tr>\n      <th>2019-07-15</th>\n      <td>15.000000</td>\n      <td>7754</td>\n      <td>27</td>\n      <td>0</td>\n      <td>Twitter</td>\n    </tr>\n    <tr>\n      <th>...</th>\n      <td>...</td>\n      <td>...</td>\n      <td>...</td>\n      <td>...</td>\n      <td>...</td>\n    </tr>\n    <tr>\n      <th>2020-03-05</th>\n      <td>10.000000</td>\n      <td>5221</td>\n      <td>127</td>\n      <td>0</td>\n      <td>Twitter</td>\n    </tr>\n    <tr>\n      <th>2020-03-06</th>\n      <td>10.000000</td>\n      <td>5226</td>\n      <td>109</td>\n      <td>0</td>\n      <td>Twitter</td>\n    </tr>\n    <tr>\n      <th>2020-03-07</th>\n      <td>10.000000</td>\n      <td>5738</td>\n      <td>117</td>\n      <td>0</td>\n      <td>Twitter</td>\n    </tr>\n    <tr>\n      <th>2020-03-08</th>\n      <td>10.000000</td>\n      <td>4965</td>\n      <td>116</td>\n      <td>0</td>\n      <td>Twitter</td>\n    </tr>\n    <tr>\n      <th>2020-03-09</th>\n      <td>2.823645</td>\n      <td>1574</td>\n      <td>26</td>\n      <td>0</td>\n      <td>Twitter</td>\n    </tr>\n  </tbody>\n</table>\n<p>165 rows × 5 columns</p>\n</div>"
     },
     "metadata": {},
     "execution_count": 68
    }
   ],
   "source": [
    "Twitter_daily = Twitter[['Time period', 'Spend', 'Impressions', 'Link clicks']]\n",
    "Twitter_daily['Purchase'] = 0\n",
    "Twitter_daily.columns.values[0] = 'Day'\n",
    "Twitter_daily = pd.pivot_table(Twitter_daily, index = ['Day'], aggfunc=sum, fill_value = 0)\n",
    "Twitter_daily =Twitter_daily[['Spend','Impressions', 'Link clicks', 'Purchase']]\n",
    "Twitter_daily.columns.values[0] = 'Amount spent (GBP)'\n",
    "Twitter_daily['Platform'] = 'Twitter'\n",
    "Twitter_daily"
   ]
  },
  {
   "cell_type": "code",
   "execution_count": 80,
   "metadata": {},
   "outputs": [
    {
     "output_type": "execute_result",
     "data": {
      "text/plain": "            Amount spent (GBP)  Impressions  Link clicks  Purchase Platform\nDay                                                                        \n2019-07-09               34.10        32276          222         0   Google\n2019-07-10               33.37        55527          271         0   Google\n2019-07-11               14.69        41755          247         0   Google\n2019-07-12               13.89        42439          324         0   Google\n2019-07-13               13.57        49759          312         0   Google\n...                        ...          ...          ...       ...      ...\n2020-07-04                9.42         7931           41         1   Google\n2020-07-05                9.74         6600           48         0   Google\n2020-07-06                6.51         5276           34         1   Google\n2020-07-07               13.27         7867           58         2   Google\n2020-07-08                7.12         7197           35         0   Google\n\n[321 rows x 5 columns]",
      "text/html": "<div>\n<style scoped>\n    .dataframe tbody tr th:only-of-type {\n        vertical-align: middle;\n    }\n\n    .dataframe tbody tr th {\n        vertical-align: top;\n    }\n\n    .dataframe thead th {\n        text-align: right;\n    }\n</style>\n<table border=\"1\" class=\"dataframe\">\n  <thead>\n    <tr style=\"text-align: right;\">\n      <th></th>\n      <th>Amount spent (GBP)</th>\n      <th>Impressions</th>\n      <th>Link clicks</th>\n      <th>Purchase</th>\n      <th>Platform</th>\n    </tr>\n    <tr>\n      <th>Day</th>\n      <th></th>\n      <th></th>\n      <th></th>\n      <th></th>\n      <th></th>\n    </tr>\n  </thead>\n  <tbody>\n    <tr>\n      <th>2019-07-09</th>\n      <td>34.10</td>\n      <td>32276</td>\n      <td>222</td>\n      <td>0</td>\n      <td>Google</td>\n    </tr>\n    <tr>\n      <th>2019-07-10</th>\n      <td>33.37</td>\n      <td>55527</td>\n      <td>271</td>\n      <td>0</td>\n      <td>Google</td>\n    </tr>\n    <tr>\n      <th>2019-07-11</th>\n      <td>14.69</td>\n      <td>41755</td>\n      <td>247</td>\n      <td>0</td>\n      <td>Google</td>\n    </tr>\n    <tr>\n      <th>2019-07-12</th>\n      <td>13.89</td>\n      <td>42439</td>\n      <td>324</td>\n      <td>0</td>\n      <td>Google</td>\n    </tr>\n    <tr>\n      <th>2019-07-13</th>\n      <td>13.57</td>\n      <td>49759</td>\n      <td>312</td>\n      <td>0</td>\n      <td>Google</td>\n    </tr>\n    <tr>\n      <th>...</th>\n      <td>...</td>\n      <td>...</td>\n      <td>...</td>\n      <td>...</td>\n      <td>...</td>\n    </tr>\n    <tr>\n      <th>2020-07-04</th>\n      <td>9.42</td>\n      <td>7931</td>\n      <td>41</td>\n      <td>1</td>\n      <td>Google</td>\n    </tr>\n    <tr>\n      <th>2020-07-05</th>\n      <td>9.74</td>\n      <td>6600</td>\n      <td>48</td>\n      <td>0</td>\n      <td>Google</td>\n    </tr>\n    <tr>\n      <th>2020-07-06</th>\n      <td>6.51</td>\n      <td>5276</td>\n      <td>34</td>\n      <td>1</td>\n      <td>Google</td>\n    </tr>\n    <tr>\n      <th>2020-07-07</th>\n      <td>13.27</td>\n      <td>7867</td>\n      <td>58</td>\n      <td>2</td>\n      <td>Google</td>\n    </tr>\n    <tr>\n      <th>2020-07-08</th>\n      <td>7.12</td>\n      <td>7197</td>\n      <td>35</td>\n      <td>0</td>\n      <td>Google</td>\n    </tr>\n  </tbody>\n</table>\n<p>321 rows × 5 columns</p>\n</div>"
     },
     "metadata": {},
     "execution_count": 80
    }
   ],
   "source": [
    "Google_daily = pd.pivot_table(Google, index=['Day'], aggfunc=sum, fill_value = 0)\n",
    "Google_daily = Google_daily[['Cost', 'Impr.', 'Interactions', 'Conversions']]\n",
    "Google_daily.columns.values[:] = 'Amount spent (GBP)','Impressions', 'Link clicks', 'Purchase'\n",
    "Google_daily['Platform'] = 'Google'\n",
    "Google_daily"
   ]
  }
 ],
 "metadata": {
  "kernelspec": {
   "display_name": "Python 3",
   "language": "python",
   "name": "python3"
  },
  "language_info": {
   "codemirror_mode": {
    "name": "ipython",
    "version": 3
   },
   "file_extension": ".py",
   "mimetype": "text/x-python",
   "name": "python",
   "nbconvert_exporter": "python",
   "pygments_lexer": "ipython3",
   "version": "3.7.6"
  }
 },
 "nbformat": 4,
 "nbformat_minor": 4
}
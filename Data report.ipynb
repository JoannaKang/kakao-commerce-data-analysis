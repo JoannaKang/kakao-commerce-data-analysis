{
 "cells": [
  {
   "cell_type": "code",
   "execution_count": 1,
   "metadata": {},
   "outputs": [],
   "source": [
    "import numpy as np\n",
    "import pandas as pd"
   ]
  },
  {
   "cell_type": "code",
   "execution_count": 2,
   "metadata": {},
   "outputs": [],
   "source": [
    "june_media = pd.read_excel(\"C:\\\\Users\\\\Joanna Kang\\\\Desktop\\\\TASK\\\\5. Data Anaylsis\\\\2020_June\\\\Untitled-report-Jun-1-2020-Jun-30-2020.xlsx\", sheet_name = \"Raw Data Report\")"
   ]
  },
  {
   "cell_type": "code",
   "execution_count": 3,
   "metadata": {},
   "outputs": [
    {
     "output_type": "execute_result",
     "data": {
      "text/plain": "                                                 Ad name         Day  \\\n0                         FB: 200615_PURCHASE_SUMMERSALE  2020-06-30   \n1                        FB: 200615_PURCHASE_SALEPRODUCT  2020-06-30   \n2                         FB: 200615_PURCHASE_SUMMERSALE  2020-06-28   \n3                        FB: 200615_PURCHASE_SALEPRODUCT  2020-06-28   \n4                         FB: 200615_PURCHASE_SUMMERSALE  2020-06-21   \n...                                                  ...         ...   \n37375                      FB: 200211_RETARGETING_WINTER  2020-06-11   \n37376                      FB: 200211_RETARGETING_WINTER  2020-06-14   \n37377                      FB: 200211_RETARGETING_WINTER  2020-06-15   \n37378                      FB: 200211_RETARGETING_WINTER  2020-06-19   \n37379  Instagram post: *My feeling on the last day of...  2020-06-26   \n\n      Delivery status Delivery level  Reach  Amount spent (GBP)  Impressions  \\\n0      not_delivering             ad   4900               15.14         5152   \n1      not_delivering             ad   5700               14.86         5772   \n2      not_delivering             ad   5898               14.83         6174   \n3      not_delivering             ad   6668               14.66         6857   \n4      not_delivering             ad   6012               13.85         6404   \n...               ...            ...    ...                 ...          ...   \n37375  not_delivering             ad      0                0.00            0   \n37376  not_delivering             ad      0                0.00            0   \n37377  not_delivering             ad      0                0.00            0   \n37378  not_delivering             ad      0                0.00            0   \n37379        archived             ad      0                0.00            0   \n\n       Link clicks  Purchases  Mobile app purchases  ...  Frequency  \\\n0             53.0        NaN                   NaN  ...   1.051429   \n1             61.0        1.0                   NaN  ...   1.012632   \n2             55.0        NaN                   NaN  ...   1.046796   \n3             75.0        1.0                   NaN  ...   1.028344   \n4             59.0        NaN                   NaN  ...   1.065203   \n...            ...        ...                   ...  ...        ...   \n37375          NaN        NaN                   NaN  ...   0.000000   \n37376          NaN        NaN                   NaN  ...   0.000000   \n37377          NaN        NaN                   NaN  ...   0.000000   \n37378          NaN        NaN                   NaN  ...   0.000000   \n37379          NaN        NaN                   NaN  ...   0.000000   \n\n       Cost per 1,000 people reached  CPM (cost per 1,000 impressions)  \\\n0                           3.089796                          2.938665   \n1                           2.607018                          2.574498   \n2                           2.514412                          2.402008   \n3                           2.198560                          2.137961   \n4                           2.303726                          2.162711   \n...                              ...                               ...   \n37375                            NaN                               NaN   \n37376                            NaN                               NaN   \n37377                            NaN                               NaN   \n37378                            NaN                               NaN   \n37379                            NaN                               NaN   \n\n       Post comments  Post engagement  Post reactions  Post saves  \\\n0                1.0             79.0            15.0         7.0   \n1                NaN            531.0            18.0         4.0   \n2                NaN             75.0            15.0         3.0   \n3                NaN            622.0            27.0         7.0   \n4                NaN             80.0            18.0         3.0   \n...              ...              ...             ...         ...   \n37375            NaN              NaN             NaN         NaN   \n37376            NaN              NaN             NaN         NaN   \n37377            NaN              NaN             NaN         NaN   \n37378            NaN              NaN             NaN         NaN   \n37379            NaN              NaN             NaN         NaN   \n\n       Post shares  Reporting starts  Reporting ends  \n0              3.0        2020-06-30      2020-06-30  \n1              1.0        2020-06-30      2020-06-30  \n2              2.0        2020-06-28      2020-06-28  \n3              5.0        2020-06-28      2020-06-28  \n4              NaN        2020-06-21      2020-06-21  \n...            ...               ...             ...  \n37375          NaN        2020-06-11      2020-06-11  \n37376          NaN        2020-06-14      2020-06-14  \n37377          NaN        2020-06-15      2020-06-15  \n37378          NaN        2020-06-19      2020-06-19  \n37379          NaN        2020-06-26      2020-06-26  \n\n[37380 rows x 22 columns]",
      "text/html": "<div>\n<style scoped>\n    .dataframe tbody tr th:only-of-type {\n        vertical-align: middle;\n    }\n\n    .dataframe tbody tr th {\n        vertical-align: top;\n    }\n\n    .dataframe thead th {\n        text-align: right;\n    }\n</style>\n<table border=\"1\" class=\"dataframe\">\n  <thead>\n    <tr style=\"text-align: right;\">\n      <th></th>\n      <th>Ad name</th>\n      <th>Day</th>\n      <th>Delivery status</th>\n      <th>Delivery level</th>\n      <th>Reach</th>\n      <th>Amount spent (GBP)</th>\n      <th>Impressions</th>\n      <th>Link clicks</th>\n      <th>Purchases</th>\n      <th>Mobile app purchases</th>\n      <th>...</th>\n      <th>Frequency</th>\n      <th>Cost per 1,000 people reached</th>\n      <th>CPM (cost per 1,000 impressions)</th>\n      <th>Post comments</th>\n      <th>Post engagement</th>\n      <th>Post reactions</th>\n      <th>Post saves</th>\n      <th>Post shares</th>\n      <th>Reporting starts</th>\n      <th>Reporting ends</th>\n    </tr>\n  </thead>\n  <tbody>\n    <tr>\n      <th>0</th>\n      <td>FB: 200615_PURCHASE_SUMMERSALE</td>\n      <td>2020-06-30</td>\n      <td>not_delivering</td>\n      <td>ad</td>\n      <td>4900</td>\n      <td>15.14</td>\n      <td>5152</td>\n      <td>53.0</td>\n      <td>NaN</td>\n      <td>NaN</td>\n      <td>...</td>\n      <td>1.051429</td>\n      <td>3.089796</td>\n      <td>2.938665</td>\n      <td>1.0</td>\n      <td>79.0</td>\n      <td>15.0</td>\n      <td>7.0</td>\n      <td>3.0</td>\n      <td>2020-06-30</td>\n      <td>2020-06-30</td>\n    </tr>\n    <tr>\n      <th>1</th>\n      <td>FB: 200615_PURCHASE_SALEPRODUCT</td>\n      <td>2020-06-30</td>\n      <td>not_delivering</td>\n      <td>ad</td>\n      <td>5700</td>\n      <td>14.86</td>\n      <td>5772</td>\n      <td>61.0</td>\n      <td>1.0</td>\n      <td>NaN</td>\n      <td>...</td>\n      <td>1.012632</td>\n      <td>2.607018</td>\n      <td>2.574498</td>\n      <td>NaN</td>\n      <td>531.0</td>\n      <td>18.0</td>\n      <td>4.0</td>\n      <td>1.0</td>\n      <td>2020-06-30</td>\n      <td>2020-06-30</td>\n    </tr>\n    <tr>\n      <th>2</th>\n      <td>FB: 200615_PURCHASE_SUMMERSALE</td>\n      <td>2020-06-28</td>\n      <td>not_delivering</td>\n      <td>ad</td>\n      <td>5898</td>\n      <td>14.83</td>\n      <td>6174</td>\n      <td>55.0</td>\n      <td>NaN</td>\n      <td>NaN</td>\n      <td>...</td>\n      <td>1.046796</td>\n      <td>2.514412</td>\n      <td>2.402008</td>\n      <td>NaN</td>\n      <td>75.0</td>\n      <td>15.0</td>\n      <td>3.0</td>\n      <td>2.0</td>\n      <td>2020-06-28</td>\n      <td>2020-06-28</td>\n    </tr>\n    <tr>\n      <th>3</th>\n      <td>FB: 200615_PURCHASE_SALEPRODUCT</td>\n      <td>2020-06-28</td>\n      <td>not_delivering</td>\n      <td>ad</td>\n      <td>6668</td>\n      <td>14.66</td>\n      <td>6857</td>\n      <td>75.0</td>\n      <td>1.0</td>\n      <td>NaN</td>\n      <td>...</td>\n      <td>1.028344</td>\n      <td>2.198560</td>\n      <td>2.137961</td>\n      <td>NaN</td>\n      <td>622.0</td>\n      <td>27.0</td>\n      <td>7.0</td>\n      <td>5.0</td>\n      <td>2020-06-28</td>\n      <td>2020-06-28</td>\n    </tr>\n    <tr>\n      <th>4</th>\n      <td>FB: 200615_PURCHASE_SUMMERSALE</td>\n      <td>2020-06-21</td>\n      <td>not_delivering</td>\n      <td>ad</td>\n      <td>6012</td>\n      <td>13.85</td>\n      <td>6404</td>\n      <td>59.0</td>\n      <td>NaN</td>\n      <td>NaN</td>\n      <td>...</td>\n      <td>1.065203</td>\n      <td>2.303726</td>\n      <td>2.162711</td>\n      <td>NaN</td>\n      <td>80.0</td>\n      <td>18.0</td>\n      <td>3.0</td>\n      <td>NaN</td>\n      <td>2020-06-21</td>\n      <td>2020-06-21</td>\n    </tr>\n    <tr>\n      <th>...</th>\n      <td>...</td>\n      <td>...</td>\n      <td>...</td>\n      <td>...</td>\n      <td>...</td>\n      <td>...</td>\n      <td>...</td>\n      <td>...</td>\n      <td>...</td>\n      <td>...</td>\n      <td>...</td>\n      <td>...</td>\n      <td>...</td>\n      <td>...</td>\n      <td>...</td>\n      <td>...</td>\n      <td>...</td>\n      <td>...</td>\n      <td>...</td>\n      <td>...</td>\n      <td>...</td>\n    </tr>\n    <tr>\n      <th>37375</th>\n      <td>FB: 200211_RETARGETING_WINTER</td>\n      <td>2020-06-11</td>\n      <td>not_delivering</td>\n      <td>ad</td>\n      <td>0</td>\n      <td>0.00</td>\n      <td>0</td>\n      <td>NaN</td>\n      <td>NaN</td>\n      <td>NaN</td>\n      <td>...</td>\n      <td>0.000000</td>\n      <td>NaN</td>\n      <td>NaN</td>\n      <td>NaN</td>\n      <td>NaN</td>\n      <td>NaN</td>\n      <td>NaN</td>\n      <td>NaN</td>\n      <td>2020-06-11</td>\n      <td>2020-06-11</td>\n    </tr>\n    <tr>\n      <th>37376</th>\n      <td>FB: 200211_RETARGETING_WINTER</td>\n      <td>2020-06-14</td>\n      <td>not_delivering</td>\n      <td>ad</td>\n      <td>0</td>\n      <td>0.00</td>\n      <td>0</td>\n      <td>NaN</td>\n      <td>NaN</td>\n      <td>NaN</td>\n      <td>...</td>\n      <td>0.000000</td>\n      <td>NaN</td>\n      <td>NaN</td>\n      <td>NaN</td>\n      <td>NaN</td>\n      <td>NaN</td>\n      <td>NaN</td>\n      <td>NaN</td>\n      <td>2020-06-14</td>\n      <td>2020-06-14</td>\n    </tr>\n    <tr>\n      <th>37377</th>\n      <td>FB: 200211_RETARGETING_WINTER</td>\n      <td>2020-06-15</td>\n      <td>not_delivering</td>\n      <td>ad</td>\n      <td>0</td>\n      <td>0.00</td>\n      <td>0</td>\n      <td>NaN</td>\n      <td>NaN</td>\n      <td>NaN</td>\n      <td>...</td>\n      <td>0.000000</td>\n      <td>NaN</td>\n      <td>NaN</td>\n      <td>NaN</td>\n      <td>NaN</td>\n      <td>NaN</td>\n      <td>NaN</td>\n      <td>NaN</td>\n      <td>2020-06-15</td>\n      <td>2020-06-15</td>\n    </tr>\n    <tr>\n      <th>37378</th>\n      <td>FB: 200211_RETARGETING_WINTER</td>\n      <td>2020-06-19</td>\n      <td>not_delivering</td>\n      <td>ad</td>\n      <td>0</td>\n      <td>0.00</td>\n      <td>0</td>\n      <td>NaN</td>\n      <td>NaN</td>\n      <td>NaN</td>\n      <td>...</td>\n      <td>0.000000</td>\n      <td>NaN</td>\n      <td>NaN</td>\n      <td>NaN</td>\n      <td>NaN</td>\n      <td>NaN</td>\n      <td>NaN</td>\n      <td>NaN</td>\n      <td>2020-06-19</td>\n      <td>2020-06-19</td>\n    </tr>\n    <tr>\n      <th>37379</th>\n      <td>Instagram post: *My feeling on the last day of...</td>\n      <td>2020-06-26</td>\n      <td>archived</td>\n      <td>ad</td>\n      <td>0</td>\n      <td>0.00</td>\n      <td>0</td>\n      <td>NaN</td>\n      <td>NaN</td>\n      <td>NaN</td>\n      <td>...</td>\n      <td>0.000000</td>\n      <td>NaN</td>\n      <td>NaN</td>\n      <td>NaN</td>\n      <td>NaN</td>\n      <td>NaN</td>\n      <td>NaN</td>\n      <td>NaN</td>\n      <td>2020-06-26</td>\n      <td>2020-06-26</td>\n    </tr>\n  </tbody>\n</table>\n<p>37380 rows × 22 columns</p>\n</div>"
     },
     "metadata": {},
     "execution_count": 3
    }
   ],
   "source": [
    "june_media"
   ]
  },
  {
   "cell_type": "code",
   "execution_count": 4,
   "metadata": {},
   "outputs": [
    {
     "output_type": "execute_result",
     "data": {
      "text/plain": "0                        [FB,  200615_PURCHASE_SUMMERSALE]\n1                       [FB,  200615_PURCHASE_SALEPRODUCT]\n2                        [FB,  200615_PURCHASE_SUMMERSALE]\n3                       [FB,  200615_PURCHASE_SALEPRODUCT]\n4                        [FB,  200615_PURCHASE_SUMMERSALE]\n                               ...                        \n37375                     [FB,  200211_RETARGETING_WINTER]\n37376                     [FB,  200211_RETARGETING_WINTER]\n37377                     [FB,  200211_RETARGETING_WINTER]\n37378                     [FB,  200211_RETARGETING_WINTER]\n37379    [Instagram post,  *My feeling on the last day ...\nName: Ad name, Length: 37380, dtype: object"
     },
     "metadata": {},
     "execution_count": 4
    }
   ],
   "source": [
    "june_media['Ad name'].str.split(':')"
   ]
  }
 ],
 "metadata": {
  "kernelspec": {
   "display_name": "Python 3",
   "language": "python",
   "name": "python3"
  },
  "language_info": {
   "codemirror_mode": {
    "name": "ipython",
    "version": 3
   },
   "file_extension": ".py",
   "mimetype": "text/x-python",
   "name": "python",
   "nbconvert_exporter": "python",
   "pygments_lexer": "ipython3",
   "version": "3.7.6"
  }
 },
 "nbformat": 4,
 "nbformat_minor": 4
}
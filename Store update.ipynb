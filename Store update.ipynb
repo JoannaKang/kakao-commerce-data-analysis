{
 "cells": [
  {
   "cell_type": "code",
   "execution_count": 6,
   "metadata": {},
   "outputs": [],
   "source": [
    "import pandas as pd\n",
    "import numpy as np"
   ]
  },
  {
   "cell_type": "code",
   "execution_count": 9,
   "metadata": {
    "tags": []
   },
   "outputs": [
    {
     "output_type": "stream",
     "name": "stdout",
     "text": "The google.cloud.bigquery extension is already loaded. To reload it, use:\n  %reload_ext google.cloud.bigquery\n"
    }
   ],
   "source": [
    "#import product list\n",
    "from google.cloud import bigquery\n",
    "from google.oauth2 import service_account\n",
    "\n",
    "credentials = service_account.Credentials.from_service_account_file(\"C:\\\\Users\\\\Joanna Kang\\\\Documents\\\\GitHub\\\\Sales-dashboard\\\\My First Project-c1aa474eca74.json\")\n",
    "project_id = 'rare-shuttle-279916'\n",
    "\n",
    "client = bigquery.Client()\n",
    "%load_ext google.cloud.bigquery\n",
    "\n",
    "import google.auth\n",
    "from google.cloud import bigquery\n",
    "from google.cloud import bigquery_storage_v1beta1\n",
    "\n",
    "credentials, your_project_id = google.auth.default(\n",
    "    scopes=[\"https://www.googleapis.com/auth/cloud-platform\"]\n",
    ")\n",
    "\n",
    "# Make clients.\n",
    "bqclient = bigquery.Client(\n",
    "    credentials=credentials,\n",
    "    project= 'rare-shuttle-279916',\n",
    ")\n",
    "bqstorageclient = bigquery_storage_v1beta1.BigQueryStorageClient(\n",
    "    credentials=credentials\n",
    ")\n",
    "\n",
    "query_job_1 = client.query('''SELECT * FROM `rare-shuttle-279916.Amazon.productlist_200625` LIMIT 20000\n",
    "''')\n",
    "productlist = query_job_1.to_dataframe()\n",
    "\n",
    "def column_replace(productlist, columns, new_column):\n",
    "    productlist_before = []\n",
    "    productlist_new = new_column\n",
    "    for i in range(len(columns)):\n",
    "        productlist_before.append(columns[i])\n",
    "\n",
    "    for i in range(len(new_column)):\n",
    "        productlist_new.append(new_column[i])\n",
    "\n",
    "    for i in range(len(productlist_before)):\n",
    "        productlist = productlist.rename({productlist_before[i] : productlist_new[i]}, axis = 'columns')\n",
    "    \n",
    "    productlist = productlist.drop([productlist.index[0]])\n",
    "\n",
    "    return productlist\n",
    "\n",
    "productlist = column_replace(productlist, productlist.columns, ['Batch', 'SKU', 'ASIN', 'BARCODE', 'NAME(KR)', 'SKU_2', 'ASIN_2', 'CHARACTER', 'CATEGORY', 'ITEM', 'THEME', 'PRODUCT_NAME(KR)'])\n",
    "\n",
    "#productlist = productlist.drop([productlist.index[0]])\n",
    "productlist = productlist.sort_values(by='Batch')\n",
    "productlist = productlist.drop_duplicates(['SKU'])\n"
   ]
  },
  {
   "cell_type": "code",
   "execution_count": 10,
   "metadata": {},
   "outputs": [
    {
     "output_type": "execute_result",
     "data": {
      "text/plain": "      Batch       SKU        ASIN        BARCODE             NAME(KR)  \\\n227       1  93005990  B07NNW8MP2  FRPBAPJPL0002       리틀프렌즈페이스젤펜-어피치   \n1446      1  93008324  B07NVSHVQW  8809641461728  클리어파우치 4P SET-리틀라이언   \n445       1  93007972  B07NVR3HRM  FRPBRYBPJ8407      스타 홈웨어 남성용L-라이언   \n1196      1  93008311  B07NVF19TM  8809641461599      실리콘 전신네임택-리틀라이언   \n613       1  93007924  B07NTZKD13  FRPBRYDCS0001         봉제인형 슬리퍼_라이언   \n...     ...       ...         ...            ...                  ...   \n1306  팝업 4차    F08518    93008554  8809641463951       리틀스케치북_편지지_어피치   \n857   팝업 4차    F08031        None  FRPBAPMFM0006        메리_꼬마자석인형_어피치   \n246   팝업 4차    F09906           0  8809656139094          미니잔3P세트_어피치   \n194   팝업 4차    F09650    93009475  8809656137373    리틀스케치북_3색 멀티펜 라이언   \n245   팝업 4차    F09905           0  8809656139087          미니잔3P세트_라이언   \n\n         SKU_2      ASIN_2 CHARACTER    CATEGORY            ITEM  \\\n227   93005990  B07NNW8MP2    Apeach  Stationery             Pen   \n1446  93008324  B07NVSHVQW      Ryan      Travel  Travel Pouches   \n445   93007972  B07NVR3HRM      Ryan      Living         Pyjamas   \n1196  93008311  B07NVF19TM      Ryan      Travel    Luggage Tags   \n613   93007924  B07NTZKD13      Ryan      Living        Slippers   \n...        ...         ...       ...         ...             ...   \n1306        30           0    Apeach  Stationery   Message Cards   \n857         20        None    Apeach       Plush      Plush Toys   \n246         20           0    Apeach      Living            Cups   \n194         50           0      Ryan  Stationery             Pen   \n245         20           0      Ryan      Living            Cups   \n\n               THEME     PRODUCT_NAME(KR)  \n227   Little friends       리틀프렌즈페이스젤펜-어피치  \n1446  Little friends  클리어파우치 4P SET-리틀라이언  \n445            Basic      스타 홈웨어 남성용L-라이언  \n1196  Little friends      실리콘 전신네임택-리틀라이언  \n613            Basic         봉제인형 슬리퍼_라이언  \n...              ...                  ...  \n1306  Little Friends       리틀스케치북_편지지_어피치  \n857   Little Friends        메리_꼬마자석인형_어피치  \n246            Basic          미니잔3P세트_어피치  \n194   Little Friends    리틀스케치북_3색 멀티펜 라이언  \n245            Basic          미니잔3P세트_라이언  \n\n[906 rows x 12 columns]",
      "text/html": "<div>\n<style scoped>\n    .dataframe tbody tr th:only-of-type {\n        vertical-align: middle;\n    }\n\n    .dataframe tbody tr th {\n        vertical-align: top;\n    }\n\n    .dataframe thead th {\n        text-align: right;\n    }\n</style>\n<table border=\"1\" class=\"dataframe\">\n  <thead>\n    <tr style=\"text-align: right;\">\n      <th></th>\n      <th>Batch</th>\n      <th>SKU</th>\n      <th>ASIN</th>\n      <th>BARCODE</th>\n      <th>NAME(KR)</th>\n      <th>SKU_2</th>\n      <th>ASIN_2</th>\n      <th>CHARACTER</th>\n      <th>CATEGORY</th>\n      <th>ITEM</th>\n      <th>THEME</th>\n      <th>PRODUCT_NAME(KR)</th>\n    </tr>\n  </thead>\n  <tbody>\n    <tr>\n      <th>227</th>\n      <td>1</td>\n      <td>93005990</td>\n      <td>B07NNW8MP2</td>\n      <td>FRPBAPJPL0002</td>\n      <td>리틀프렌즈페이스젤펜-어피치</td>\n      <td>93005990</td>\n      <td>B07NNW8MP2</td>\n      <td>Apeach</td>\n      <td>Stationery</td>\n      <td>Pen</td>\n      <td>Little friends</td>\n      <td>리틀프렌즈페이스젤펜-어피치</td>\n    </tr>\n    <tr>\n      <th>1446</th>\n      <td>1</td>\n      <td>93008324</td>\n      <td>B07NVSHVQW</td>\n      <td>8809641461728</td>\n      <td>클리어파우치 4P SET-리틀라이언</td>\n      <td>93008324</td>\n      <td>B07NVSHVQW</td>\n      <td>Ryan</td>\n      <td>Travel</td>\n      <td>Travel Pouches</td>\n      <td>Little friends</td>\n      <td>클리어파우치 4P SET-리틀라이언</td>\n    </tr>\n    <tr>\n      <th>445</th>\n      <td>1</td>\n      <td>93007972</td>\n      <td>B07NVR3HRM</td>\n      <td>FRPBRYBPJ8407</td>\n      <td>스타 홈웨어 남성용L-라이언</td>\n      <td>93007972</td>\n      <td>B07NVR3HRM</td>\n      <td>Ryan</td>\n      <td>Living</td>\n      <td>Pyjamas</td>\n      <td>Basic</td>\n      <td>스타 홈웨어 남성용L-라이언</td>\n    </tr>\n    <tr>\n      <th>1196</th>\n      <td>1</td>\n      <td>93008311</td>\n      <td>B07NVF19TM</td>\n      <td>8809641461599</td>\n      <td>실리콘 전신네임택-리틀라이언</td>\n      <td>93008311</td>\n      <td>B07NVF19TM</td>\n      <td>Ryan</td>\n      <td>Travel</td>\n      <td>Luggage Tags</td>\n      <td>Little friends</td>\n      <td>실리콘 전신네임택-리틀라이언</td>\n    </tr>\n    <tr>\n      <th>613</th>\n      <td>1</td>\n      <td>93007924</td>\n      <td>B07NTZKD13</td>\n      <td>FRPBRYDCS0001</td>\n      <td>봉제인형 슬리퍼_라이언</td>\n      <td>93007924</td>\n      <td>B07NTZKD13</td>\n      <td>Ryan</td>\n      <td>Living</td>\n      <td>Slippers</td>\n      <td>Basic</td>\n      <td>봉제인형 슬리퍼_라이언</td>\n    </tr>\n    <tr>\n      <th>...</th>\n      <td>...</td>\n      <td>...</td>\n      <td>...</td>\n      <td>...</td>\n      <td>...</td>\n      <td>...</td>\n      <td>...</td>\n      <td>...</td>\n      <td>...</td>\n      <td>...</td>\n      <td>...</td>\n      <td>...</td>\n    </tr>\n    <tr>\n      <th>1306</th>\n      <td>팝업 4차</td>\n      <td>F08518</td>\n      <td>93008554</td>\n      <td>8809641463951</td>\n      <td>리틀스케치북_편지지_어피치</td>\n      <td>30</td>\n      <td>0</td>\n      <td>Apeach</td>\n      <td>Stationery</td>\n      <td>Message Cards</td>\n      <td>Little Friends</td>\n      <td>리틀스케치북_편지지_어피치</td>\n    </tr>\n    <tr>\n      <th>857</th>\n      <td>팝업 4차</td>\n      <td>F08031</td>\n      <td>None</td>\n      <td>FRPBAPMFM0006</td>\n      <td>메리_꼬마자석인형_어피치</td>\n      <td>20</td>\n      <td>None</td>\n      <td>Apeach</td>\n      <td>Plush</td>\n      <td>Plush Toys</td>\n      <td>Little Friends</td>\n      <td>메리_꼬마자석인형_어피치</td>\n    </tr>\n    <tr>\n      <th>246</th>\n      <td>팝업 4차</td>\n      <td>F09906</td>\n      <td>0</td>\n      <td>8809656139094</td>\n      <td>미니잔3P세트_어피치</td>\n      <td>20</td>\n      <td>0</td>\n      <td>Apeach</td>\n      <td>Living</td>\n      <td>Cups</td>\n      <td>Basic</td>\n      <td>미니잔3P세트_어피치</td>\n    </tr>\n    <tr>\n      <th>194</th>\n      <td>팝업 4차</td>\n      <td>F09650</td>\n      <td>93009475</td>\n      <td>8809656137373</td>\n      <td>리틀스케치북_3색 멀티펜 라이언</td>\n      <td>50</td>\n      <td>0</td>\n      <td>Ryan</td>\n      <td>Stationery</td>\n      <td>Pen</td>\n      <td>Little Friends</td>\n      <td>리틀스케치북_3색 멀티펜 라이언</td>\n    </tr>\n    <tr>\n      <th>245</th>\n      <td>팝업 4차</td>\n      <td>F09905</td>\n      <td>0</td>\n      <td>8809656139087</td>\n      <td>미니잔3P세트_라이언</td>\n      <td>20</td>\n      <td>0</td>\n      <td>Ryan</td>\n      <td>Living</td>\n      <td>Cups</td>\n      <td>Basic</td>\n      <td>미니잔3P세트_라이언</td>\n    </tr>\n  </tbody>\n</table>\n<p>906 rows × 12 columns</p>\n</div>"
     },
     "metadata": {},
     "execution_count": 10
    }
   ],
   "source": [
    "productlist"
   ]
  },
  {
   "cell_type": "code",
   "execution_count": 11,
   "metadata": {
    "tags": []
   },
   "outputs": [
    {
     "output_type": "stream",
     "name": "stdout",
     "text": "<class 'pandas.core.frame.DataFrame'>\nInt64Index: 906 entries, 227 to 245\nData columns (total 12 columns):\n #   Column            Non-Null Count  Dtype \n---  ------            --------------  ----- \n 0   Batch             906 non-null    object\n 1   SKU               906 non-null    object\n 2   ASIN              761 non-null    object\n 3   BARCODE           906 non-null    object\n 4   NAME(KR)          906 non-null    object\n 5   SKU_2             906 non-null    object\n 6   ASIN_2            758 non-null    object\n 7   CHARACTER         906 non-null    object\n 8   CATEGORY          906 non-null    object\n 9   ITEM              906 non-null    object\n 10  THEME             906 non-null    object\n 11  PRODUCT_NAME(KR)  906 non-null    object\ndtypes: object(12)\nmemory usage: 92.0+ KB\n"
    }
   ],
   "source": [
    "productlist.info()"
   ]
  },
  {
   "cell_type": "code",
   "execution_count": 30,
   "metadata": {},
   "outputs": [],
   "source": [
    "saletrend = pd.read_csv(\"C:\\\\Users\\\\Joanna Kang\\\\Desktop\\\\TASK\\\\5. Data Anaylsis\\\\6월판매추이\\\\스토어업데이츠\\\\sales_2020-06-01_2020-06-30.csv\")"
   ]
  },
  {
   "cell_type": "code",
   "execution_count": 31,
   "metadata": {},
   "outputs": [
    {
     "output_type": "execute_result",
     "data": {
      "text/plain": "                                       product_title variant_sku         day  \\\n0              Portable Fan with Cradle Stand - Ryan      F08846  2020-06-25   \n1             Yumyum Friends, Tote bag - Little Ryan      F10931  2020-06-05   \n2          Skateboard Cotton Face Socks - Ryan, Heel    93009450  2020-06-06   \n3                 Silicone Mood Lamp - Little Apeach      F09049  2020-06-12   \n4     Baby Dreaming Theme, Mini Pillow - Little Ryan      F10671  2020-06-15   \n...                                              ...         ...         ...   \n1699       Skateboard Cotton Face Socks - Ryan, Heel    93009450  2020-06-29   \n1700                            Socks, Pink - Apeach      F10983  2020-06-12   \n1701                       Mini Pillow - Lovely Ryan      F09923  2020-06-22   \n1702           Portable Fan with Cradle Stand - Ryan    93008882  2020-06-08   \n1703       Skateboard Cotton Face Socks - Ryan, Heel    93009450  2020-06-16   \n\n      net_quantity  gross_sales  discounts  returns  net_sales  taxes  \\\n0                5       133.27     -21.30     0.00     111.97  22.40   \n1                5       114.95      -3.43     0.00     111.52   0.00   \n2                4        12.96       0.00     0.00      12.96   0.00   \n3                4       103.56       0.00     0.00     103.56   0.00   \n4                4        69.95     -13.97   -11.19      44.79   0.00   \n...            ...          ...        ...      ...        ...    ...   \n1699            -1         0.00       0.00    -3.24      -3.24   0.00   \n1700            -1         0.00       0.00    -6.30      -6.30   0.00   \n1701            -2         0.00       0.00   -24.00     -24.00   0.00   \n1702            -2         0.00       0.00   -35.82     -35.82  -7.16   \n1703            -2         0.00       0.00    -6.48      -6.48   0.00   \n\n      total_sales  \n0          134.37  \n1          111.52  \n2           12.96  \n3          103.56  \n4           44.79  \n...           ...  \n1699        -3.24  \n1700        -6.30  \n1701       -24.00  \n1702       -42.98  \n1703        -6.48  \n\n[1704 rows x 10 columns]",
      "text/html": "<div>\n<style scoped>\n    .dataframe tbody tr th:only-of-type {\n        vertical-align: middle;\n    }\n\n    .dataframe tbody tr th {\n        vertical-align: top;\n    }\n\n    .dataframe thead th {\n        text-align: right;\n    }\n</style>\n<table border=\"1\" class=\"dataframe\">\n  <thead>\n    <tr style=\"text-align: right;\">\n      <th></th>\n      <th>product_title</th>\n      <th>variant_sku</th>\n      <th>day</th>\n      <th>net_quantity</th>\n      <th>gross_sales</th>\n      <th>discounts</th>\n      <th>returns</th>\n      <th>net_sales</th>\n      <th>taxes</th>\n      <th>total_sales</th>\n    </tr>\n  </thead>\n  <tbody>\n    <tr>\n      <th>0</th>\n      <td>Portable Fan with Cradle Stand - Ryan</td>\n      <td>F08846</td>\n      <td>2020-06-25</td>\n      <td>5</td>\n      <td>133.27</td>\n      <td>-21.30</td>\n      <td>0.00</td>\n      <td>111.97</td>\n      <td>22.40</td>\n      <td>134.37</td>\n    </tr>\n    <tr>\n      <th>1</th>\n      <td>Yumyum Friends, Tote bag - Little Ryan</td>\n      <td>F10931</td>\n      <td>2020-06-05</td>\n      <td>5</td>\n      <td>114.95</td>\n      <td>-3.43</td>\n      <td>0.00</td>\n      <td>111.52</td>\n      <td>0.00</td>\n      <td>111.52</td>\n    </tr>\n    <tr>\n      <th>2</th>\n      <td>Skateboard Cotton Face Socks - Ryan, Heel</td>\n      <td>93009450</td>\n      <td>2020-06-06</td>\n      <td>4</td>\n      <td>12.96</td>\n      <td>0.00</td>\n      <td>0.00</td>\n      <td>12.96</td>\n      <td>0.00</td>\n      <td>12.96</td>\n    </tr>\n    <tr>\n      <th>3</th>\n      <td>Silicone Mood Lamp - Little Apeach</td>\n      <td>F09049</td>\n      <td>2020-06-12</td>\n      <td>4</td>\n      <td>103.56</td>\n      <td>0.00</td>\n      <td>0.00</td>\n      <td>103.56</td>\n      <td>0.00</td>\n      <td>103.56</td>\n    </tr>\n    <tr>\n      <th>4</th>\n      <td>Baby Dreaming Theme, Mini Pillow - Little Ryan</td>\n      <td>F10671</td>\n      <td>2020-06-15</td>\n      <td>4</td>\n      <td>69.95</td>\n      <td>-13.97</td>\n      <td>-11.19</td>\n      <td>44.79</td>\n      <td>0.00</td>\n      <td>44.79</td>\n    </tr>\n    <tr>\n      <th>...</th>\n      <td>...</td>\n      <td>...</td>\n      <td>...</td>\n      <td>...</td>\n      <td>...</td>\n      <td>...</td>\n      <td>...</td>\n      <td>...</td>\n      <td>...</td>\n      <td>...</td>\n    </tr>\n    <tr>\n      <th>1699</th>\n      <td>Skateboard Cotton Face Socks - Ryan, Heel</td>\n      <td>93009450</td>\n      <td>2020-06-29</td>\n      <td>-1</td>\n      <td>0.00</td>\n      <td>0.00</td>\n      <td>-3.24</td>\n      <td>-3.24</td>\n      <td>0.00</td>\n      <td>-3.24</td>\n    </tr>\n    <tr>\n      <th>1700</th>\n      <td>Socks, Pink - Apeach</td>\n      <td>F10983</td>\n      <td>2020-06-12</td>\n      <td>-1</td>\n      <td>0.00</td>\n      <td>0.00</td>\n      <td>-6.30</td>\n      <td>-6.30</td>\n      <td>0.00</td>\n      <td>-6.30</td>\n    </tr>\n    <tr>\n      <th>1701</th>\n      <td>Mini Pillow - Lovely Ryan</td>\n      <td>F09923</td>\n      <td>2020-06-22</td>\n      <td>-2</td>\n      <td>0.00</td>\n      <td>0.00</td>\n      <td>-24.00</td>\n      <td>-24.00</td>\n      <td>0.00</td>\n      <td>-24.00</td>\n    </tr>\n    <tr>\n      <th>1702</th>\n      <td>Portable Fan with Cradle Stand - Ryan</td>\n      <td>93008882</td>\n      <td>2020-06-08</td>\n      <td>-2</td>\n      <td>0.00</td>\n      <td>0.00</td>\n      <td>-35.82</td>\n      <td>-35.82</td>\n      <td>-7.16</td>\n      <td>-42.98</td>\n    </tr>\n    <tr>\n      <th>1703</th>\n      <td>Skateboard Cotton Face Socks - Ryan, Heel</td>\n      <td>93009450</td>\n      <td>2020-06-16</td>\n      <td>-2</td>\n      <td>0.00</td>\n      <td>0.00</td>\n      <td>-6.48</td>\n      <td>-6.48</td>\n      <td>0.00</td>\n      <td>-6.48</td>\n    </tr>\n  </tbody>\n</table>\n<p>1704 rows × 10 columns</p>\n</div>"
     },
     "metadata": {},
     "execution_count": 31
    }
   ],
   "source": [
    "saletrend"
   ]
  },
  {
   "cell_type": "code",
   "execution_count": 32,
   "metadata": {},
   "outputs": [],
   "source": [
    "saletrend.columns.values[1] = 'SKU'"
   ]
  },
  {
   "cell_type": "code",
   "execution_count": null,
   "metadata": {},
   "outputs": [],
   "source": [
    "saletrend"
   ]
  },
  {
   "cell_type": "code",
   "execution_count": 22,
   "metadata": {},
   "outputs": [
    {
     "output_type": "error",
     "ename": "TypeError",
     "evalue": "Can only merge Series or DataFrame objects, a <class 'str'> was passed",
     "traceback": [
      "\u001b[1;31m---------------------------------------------------------------------------\u001b[0m",
      "\u001b[1;31mTypeError\u001b[0m                                 Traceback (most recent call last)",
      "\u001b[1;32m<ipython-input-22-ceced45e5783>\u001b[0m in \u001b[0;36m<module>\u001b[1;34m\u001b[0m\n\u001b[1;32m----> 1\u001b[1;33m \u001b[0msaletrend\u001b[0m \u001b[1;33m=\u001b[0m \u001b[0mpd\u001b[0m\u001b[1;33m.\u001b[0m\u001b[0mmerge\u001b[0m\u001b[1;33m(\u001b[0m\u001b[0msaletrend\u001b[0m\u001b[1;33m,\u001b[0m \u001b[0mproductlist\u001b[0m\u001b[1;33m,\u001b[0m \u001b[0mhow\u001b[0m\u001b[1;33m=\u001b[0m\u001b[1;34m'left'\u001b[0m\u001b[1;33m,\u001b[0m \u001b[0mon\u001b[0m\u001b[1;33m=\u001b[0m\u001b[1;34m'SKU'\u001b[0m\u001b[1;33m)\u001b[0m\u001b[1;33m\u001b[0m\u001b[1;33m\u001b[0m\u001b[0m\n\u001b[0m",
      "\u001b[1;32mC:\\ProgramData\\Anaconda3\\lib\\site-packages\\pandas\\core\\reshape\\merge.py\u001b[0m in \u001b[0;36mmerge\u001b[1;34m(left, right, how, on, left_on, right_on, left_index, right_index, sort, suffixes, copy, indicator, validate)\u001b[0m\n\u001b[0;32m     84\u001b[0m         \u001b[0mcopy\u001b[0m\u001b[1;33m=\u001b[0m\u001b[0mcopy\u001b[0m\u001b[1;33m,\u001b[0m\u001b[1;33m\u001b[0m\u001b[1;33m\u001b[0m\u001b[0m\n\u001b[0;32m     85\u001b[0m         \u001b[0mindicator\u001b[0m\u001b[1;33m=\u001b[0m\u001b[0mindicator\u001b[0m\u001b[1;33m,\u001b[0m\u001b[1;33m\u001b[0m\u001b[1;33m\u001b[0m\u001b[0m\n\u001b[1;32m---> 86\u001b[1;33m         \u001b[0mvalidate\u001b[0m\u001b[1;33m=\u001b[0m\u001b[0mvalidate\u001b[0m\u001b[1;33m,\u001b[0m\u001b[1;33m\u001b[0m\u001b[1;33m\u001b[0m\u001b[0m\n\u001b[0m\u001b[0;32m     87\u001b[0m     )\n\u001b[0;32m     88\u001b[0m     \u001b[1;32mreturn\u001b[0m \u001b[0mop\u001b[0m\u001b[1;33m.\u001b[0m\u001b[0mget_result\u001b[0m\u001b[1;33m(\u001b[0m\u001b[1;33m)\u001b[0m\u001b[1;33m\u001b[0m\u001b[1;33m\u001b[0m\u001b[0m\n",
      "\u001b[1;32mC:\\ProgramData\\Anaconda3\\lib\\site-packages\\pandas\\core\\reshape\\merge.py\u001b[0m in \u001b[0;36m__init__\u001b[1;34m(self, left, right, how, on, left_on, right_on, axis, left_index, right_index, sort, suffixes, copy, indicator, validate)\u001b[0m\n\u001b[0;32m    569\u001b[0m         \u001b[0mvalidate\u001b[0m\u001b[1;33m=\u001b[0m\u001b[1;32mNone\u001b[0m\u001b[1;33m,\u001b[0m\u001b[1;33m\u001b[0m\u001b[1;33m\u001b[0m\u001b[0m\n\u001b[0;32m    570\u001b[0m     ):\n\u001b[1;32m--> 571\u001b[1;33m         \u001b[0m_left\u001b[0m \u001b[1;33m=\u001b[0m \u001b[0m_validate_operand\u001b[0m\u001b[1;33m(\u001b[0m\u001b[0mleft\u001b[0m\u001b[1;33m)\u001b[0m\u001b[1;33m\u001b[0m\u001b[1;33m\u001b[0m\u001b[0m\n\u001b[0m\u001b[0;32m    572\u001b[0m         \u001b[0m_right\u001b[0m \u001b[1;33m=\u001b[0m \u001b[0m_validate_operand\u001b[0m\u001b[1;33m(\u001b[0m\u001b[0mright\u001b[0m\u001b[1;33m)\u001b[0m\u001b[1;33m\u001b[0m\u001b[1;33m\u001b[0m\u001b[0m\n\u001b[0;32m    573\u001b[0m         \u001b[0mself\u001b[0m\u001b[1;33m.\u001b[0m\u001b[0mleft\u001b[0m \u001b[1;33m=\u001b[0m \u001b[0mself\u001b[0m\u001b[1;33m.\u001b[0m\u001b[0morig_left\u001b[0m \u001b[1;33m=\u001b[0m \u001b[0m_left\u001b[0m\u001b[1;33m\u001b[0m\u001b[1;33m\u001b[0m\u001b[0m\n",
      "\u001b[1;32mC:\\ProgramData\\Anaconda3\\lib\\site-packages\\pandas\\core\\reshape\\merge.py\u001b[0m in \u001b[0;36m_validate_operand\u001b[1;34m(obj)\u001b[0m\n\u001b[0;32m   2006\u001b[0m         raise TypeError(\n\u001b[0;32m   2007\u001b[0m             \u001b[1;34m\"Can only merge Series or DataFrame objects, \"\u001b[0m\u001b[1;33m\u001b[0m\u001b[1;33m\u001b[0m\u001b[0m\n\u001b[1;32m-> 2008\u001b[1;33m             \u001b[1;34m\"a {obj} was passed\"\u001b[0m\u001b[1;33m.\u001b[0m\u001b[0mformat\u001b[0m\u001b[1;33m(\u001b[0m\u001b[0mobj\u001b[0m\u001b[1;33m=\u001b[0m\u001b[0mtype\u001b[0m\u001b[1;33m(\u001b[0m\u001b[0mobj\u001b[0m\u001b[1;33m)\u001b[0m\u001b[1;33m)\u001b[0m\u001b[1;33m\u001b[0m\u001b[1;33m\u001b[0m\u001b[0m\n\u001b[0m\u001b[0;32m   2009\u001b[0m         )\n\u001b[0;32m   2010\u001b[0m \u001b[1;33m\u001b[0m\u001b[0m\n",
      "\u001b[1;31mTypeError\u001b[0m: Can only merge Series or DataFrame objects, a <class 'str'> was passed"
     ]
    }
   ],
   "source": [
    "saletrend = pd.merge(saletrend, productlist, how='left', on='SKU')"
   ]
  }
 ],
 "metadata": {
  "kernelspec": {
   "name": "python_defaultSpec_1593525429367",
   "display_name": "Python 3.7.6 64-bit ('base': conda)"
  }
 },
 "nbformat": 4,
 "nbformat_minor": 4
}
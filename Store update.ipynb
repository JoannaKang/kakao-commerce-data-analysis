{
 "cells": [
  {
   "cell_type": "code",
   "execution_count": 220,
   "metadata": {},
   "outputs": [],
   "source": [
    "import pandas as pd\n",
    "import numpy as np"
   ]
  },
  {
   "cell_type": "code",
   "execution_count": 221,
   "metadata": {
    "tags": []
   },
   "outputs": [
    {
     "output_type": "stream",
     "name": "stdout",
     "text": "The google.cloud.bigquery extension is already loaded. To reload it, use:\n  %reload_ext google.cloud.bigquery\n"
    }
   ],
   "source": [
    "#import product list\n",
    "from google.cloud import bigquery\n",
    "from google.oauth2 import service_account\n",
    "\n",
    "credentials = service_account.Credentials.from_service_account_file(\"C:\\\\Users\\\\Joanna Kang\\\\Documents\\\\GitHub\\\\Sales-dashboard\\\\My First Project-c1aa474eca74.json\")\n",
    "project_id = 'rare-shuttle-279916'\n",
    "\n",
    "client = bigquery.Client()\n",
    "%load_ext google.cloud.bigquery\n",
    "\n",
    "import google.auth\n",
    "from google.cloud import bigquery\n",
    "from google.cloud import bigquery_storage_v1beta1\n",
    "\n",
    "credentials, your_project_id = google.auth.default(\n",
    "    scopes=[\"https://www.googleapis.com/auth/cloud-platform\"]\n",
    ")\n",
    "\n",
    "# Make clients.\n",
    "bqclient = bigquery.Client(\n",
    "    credentials=credentials,\n",
    "    project= 'rare-shuttle-279916',\n",
    ")\n",
    "bqstorageclient = bigquery_storage_v1beta1.BigQueryStorageClient(\n",
    "    credentials=credentials\n",
    ")\n",
    "\n",
    "query_job_1 = client.query('''SELECT * FROM `rare-shuttle-279916.Amazon.productlist_200625` LIMIT 20000\n",
    "''')\n",
    "productlist = query_job_1.to_dataframe()\n",
    "\n",
    "def column_replace(productlist, columns, new_column):\n",
    "    productlist_before = []\n",
    "    productlist_new = new_column\n",
    "    for i in range(len(columns)):\n",
    "        productlist_before.append(columns[i])\n",
    "\n",
    "    for i in range(len(new_column)):\n",
    "        productlist_new.append(new_column[i])\n",
    "\n",
    "    for i in range(len(productlist_before)):\n",
    "        productlist = productlist.rename({productlist_before[i] : productlist_new[i]}, axis = 'columns')\n",
    "    \n",
    "    productlist = productlist.drop([productlist.index[0]])\n",
    "\n",
    "    return productlist\n",
    "\n",
    "productlist = column_replace(productlist, productlist.columns, ['Batch', 'SKU', 'ASIN', 'BARCODE', 'NAME(KR)', 'SKU_2', 'ASIN_2', 'CHARACTER', 'CATEGORY', 'ITEM', 'THEME', 'PRODUCT_NAME(KR)'])\n",
    "\n",
    "#productlist = productlist.drop([productlist.index[0]])\n",
    "productlist = productlist.sort_values(by='Batch')\n",
    "productlist = productlist.drop_duplicates(['SKU'])\n"
   ]
  },
  {
   "cell_type": "code",
   "execution_count": 222,
   "metadata": {},
   "outputs": [
    {
     "output_type": "execute_result",
     "data": {
      "text/plain": "      Batch       SKU        ASIN        BARCODE             NAME(KR)  \\\n227       1  93005990  B07NNW8MP2  FRPBAPJPL0002       리틀프렌즈페이스젤펜-어피치   \n1446      1  93008324  B07NVSHVQW  8809641461728  클리어파우치 4P SET-리틀라이언   \n445       1  93007972  B07NVR3HRM  FRPBRYBPJ8407      스타 홈웨어 남성용L-라이언   \n1196      1  93008311  B07NVF19TM  8809641461599      실리콘 전신네임택-리틀라이언   \n613       1  93007924  B07NTZKD13  FRPBRYDCS0001         봉제인형 슬리퍼_라이언   \n...     ...       ...         ...            ...                  ...   \n1306  팝업 4차    F08518    93008554  8809641463951       리틀스케치북_편지지_어피치   \n857   팝업 4차    F08031        None  FRPBAPMFM0006        메리_꼬마자석인형_어피치   \n246   팝업 4차    F09906           0  8809656139094          미니잔3P세트_어피치   \n194   팝업 4차    F09650    93009475  8809656137373    리틀스케치북_3색 멀티펜 라이언   \n245   팝업 4차    F09905           0  8809656139087          미니잔3P세트_라이언   \n\n         SKU_2      ASIN_2 CHARACTER    CATEGORY            ITEM  \\\n227   93005990  B07NNW8MP2    Apeach  Stationery             Pen   \n1446  93008324  B07NVSHVQW      Ryan      Travel  Travel Pouches   \n445   93007972  B07NVR3HRM      Ryan      Living         Pyjamas   \n1196  93008311  B07NVF19TM      Ryan      Travel    Luggage Tags   \n613   93007924  B07NTZKD13      Ryan      Living        Slippers   \n...        ...         ...       ...         ...             ...   \n1306        30           0    Apeach  Stationery   Message Cards   \n857         20        None    Apeach       Plush      Plush Toys   \n246         20           0    Apeach      Living            Cups   \n194         50           0      Ryan  Stationery             Pen   \n245         20           0      Ryan      Living            Cups   \n\n               THEME     PRODUCT_NAME(KR)  \n227   Little friends       리틀프렌즈페이스젤펜-어피치  \n1446  Little friends  클리어파우치 4P SET-리틀라이언  \n445            Basic      스타 홈웨어 남성용L-라이언  \n1196  Little friends      실리콘 전신네임택-리틀라이언  \n613            Basic         봉제인형 슬리퍼_라이언  \n...              ...                  ...  \n1306  Little Friends       리틀스케치북_편지지_어피치  \n857   Little Friends        메리_꼬마자석인형_어피치  \n246            Basic          미니잔3P세트_어피치  \n194   Little Friends    리틀스케치북_3색 멀티펜 라이언  \n245            Basic          미니잔3P세트_라이언  \n\n[906 rows x 12 columns]",
      "text/html": "<div>\n<style scoped>\n    .dataframe tbody tr th:only-of-type {\n        vertical-align: middle;\n    }\n\n    .dataframe tbody tr th {\n        vertical-align: top;\n    }\n\n    .dataframe thead th {\n        text-align: right;\n    }\n</style>\n<table border=\"1\" class=\"dataframe\">\n  <thead>\n    <tr style=\"text-align: right;\">\n      <th></th>\n      <th>Batch</th>\n      <th>SKU</th>\n      <th>ASIN</th>\n      <th>BARCODE</th>\n      <th>NAME(KR)</th>\n      <th>SKU_2</th>\n      <th>ASIN_2</th>\n      <th>CHARACTER</th>\n      <th>CATEGORY</th>\n      <th>ITEM</th>\n      <th>THEME</th>\n      <th>PRODUCT_NAME(KR)</th>\n    </tr>\n  </thead>\n  <tbody>\n    <tr>\n      <th>227</th>\n      <td>1</td>\n      <td>93005990</td>\n      <td>B07NNW8MP2</td>\n      <td>FRPBAPJPL0002</td>\n      <td>리틀프렌즈페이스젤펜-어피치</td>\n      <td>93005990</td>\n      <td>B07NNW8MP2</td>\n      <td>Apeach</td>\n      <td>Stationery</td>\n      <td>Pen</td>\n      <td>Little friends</td>\n      <td>리틀프렌즈페이스젤펜-어피치</td>\n    </tr>\n    <tr>\n      <th>1446</th>\n      <td>1</td>\n      <td>93008324</td>\n      <td>B07NVSHVQW</td>\n      <td>8809641461728</td>\n      <td>클리어파우치 4P SET-리틀라이언</td>\n      <td>93008324</td>\n      <td>B07NVSHVQW</td>\n      <td>Ryan</td>\n      <td>Travel</td>\n      <td>Travel Pouches</td>\n      <td>Little friends</td>\n      <td>클리어파우치 4P SET-리틀라이언</td>\n    </tr>\n    <tr>\n      <th>445</th>\n      <td>1</td>\n      <td>93007972</td>\n      <td>B07NVR3HRM</td>\n      <td>FRPBRYBPJ8407</td>\n      <td>스타 홈웨어 남성용L-라이언</td>\n      <td>93007972</td>\n      <td>B07NVR3HRM</td>\n      <td>Ryan</td>\n      <td>Living</td>\n      <td>Pyjamas</td>\n      <td>Basic</td>\n      <td>스타 홈웨어 남성용L-라이언</td>\n    </tr>\n    <tr>\n      <th>1196</th>\n      <td>1</td>\n      <td>93008311</td>\n      <td>B07NVF19TM</td>\n      <td>8809641461599</td>\n      <td>실리콘 전신네임택-리틀라이언</td>\n      <td>93008311</td>\n      <td>B07NVF19TM</td>\n      <td>Ryan</td>\n      <td>Travel</td>\n      <td>Luggage Tags</td>\n      <td>Little friends</td>\n      <td>실리콘 전신네임택-리틀라이언</td>\n    </tr>\n    <tr>\n      <th>613</th>\n      <td>1</td>\n      <td>93007924</td>\n      <td>B07NTZKD13</td>\n      <td>FRPBRYDCS0001</td>\n      <td>봉제인형 슬리퍼_라이언</td>\n      <td>93007924</td>\n      <td>B07NTZKD13</td>\n      <td>Ryan</td>\n      <td>Living</td>\n      <td>Slippers</td>\n      <td>Basic</td>\n      <td>봉제인형 슬리퍼_라이언</td>\n    </tr>\n    <tr>\n      <th>...</th>\n      <td>...</td>\n      <td>...</td>\n      <td>...</td>\n      <td>...</td>\n      <td>...</td>\n      <td>...</td>\n      <td>...</td>\n      <td>...</td>\n      <td>...</td>\n      <td>...</td>\n      <td>...</td>\n      <td>...</td>\n    </tr>\n    <tr>\n      <th>1306</th>\n      <td>팝업 4차</td>\n      <td>F08518</td>\n      <td>93008554</td>\n      <td>8809641463951</td>\n      <td>리틀스케치북_편지지_어피치</td>\n      <td>30</td>\n      <td>0</td>\n      <td>Apeach</td>\n      <td>Stationery</td>\n      <td>Message Cards</td>\n      <td>Little Friends</td>\n      <td>리틀스케치북_편지지_어피치</td>\n    </tr>\n    <tr>\n      <th>857</th>\n      <td>팝업 4차</td>\n      <td>F08031</td>\n      <td>None</td>\n      <td>FRPBAPMFM0006</td>\n      <td>메리_꼬마자석인형_어피치</td>\n      <td>20</td>\n      <td>None</td>\n      <td>Apeach</td>\n      <td>Plush</td>\n      <td>Plush Toys</td>\n      <td>Little Friends</td>\n      <td>메리_꼬마자석인형_어피치</td>\n    </tr>\n    <tr>\n      <th>246</th>\n      <td>팝업 4차</td>\n      <td>F09906</td>\n      <td>0</td>\n      <td>8809656139094</td>\n      <td>미니잔3P세트_어피치</td>\n      <td>20</td>\n      <td>0</td>\n      <td>Apeach</td>\n      <td>Living</td>\n      <td>Cups</td>\n      <td>Basic</td>\n      <td>미니잔3P세트_어피치</td>\n    </tr>\n    <tr>\n      <th>194</th>\n      <td>팝업 4차</td>\n      <td>F09650</td>\n      <td>93009475</td>\n      <td>8809656137373</td>\n      <td>리틀스케치북_3색 멀티펜 라이언</td>\n      <td>50</td>\n      <td>0</td>\n      <td>Ryan</td>\n      <td>Stationery</td>\n      <td>Pen</td>\n      <td>Little Friends</td>\n      <td>리틀스케치북_3색 멀티펜 라이언</td>\n    </tr>\n    <tr>\n      <th>245</th>\n      <td>팝업 4차</td>\n      <td>F09905</td>\n      <td>0</td>\n      <td>8809656139087</td>\n      <td>미니잔3P세트_라이언</td>\n      <td>20</td>\n      <td>0</td>\n      <td>Ryan</td>\n      <td>Living</td>\n      <td>Cups</td>\n      <td>Basic</td>\n      <td>미니잔3P세트_라이언</td>\n    </tr>\n  </tbody>\n</table>\n<p>906 rows × 12 columns</p>\n</div>"
     },
     "metadata": {},
     "execution_count": 222
    }
   ],
   "source": [
    "productlist"
   ]
  },
  {
   "cell_type": "code",
   "execution_count": 223,
   "metadata": {
    "tags": []
   },
   "outputs": [
    {
     "output_type": "stream",
     "name": "stdout",
     "text": "<class 'pandas.core.frame.DataFrame'>\nInt64Index: 906 entries, 227 to 245\nData columns (total 12 columns):\n #   Column            Non-Null Count  Dtype \n---  ------            --------------  ----- \n 0   Batch             906 non-null    object\n 1   SKU               906 non-null    object\n 2   ASIN              761 non-null    object\n 3   BARCODE           906 non-null    object\n 4   NAME(KR)          906 non-null    object\n 5   SKU_2             906 non-null    object\n 6   ASIN_2            758 non-null    object\n 7   CHARACTER         906 non-null    object\n 8   CATEGORY          906 non-null    object\n 9   ITEM              906 non-null    object\n 10  THEME             906 non-null    object\n 11  PRODUCT_NAME(KR)  906 non-null    object\ndtypes: object(12)\nmemory usage: 92.0+ KB\n"
    }
   ],
   "source": [
    "productlist.info()"
   ]
  },
  {
   "cell_type": "code",
   "execution_count": 224,
   "metadata": {},
   "outputs": [],
   "source": [
    "saletrend = pd.read_csv(\"C:\\\\Users\\\\Joanna Kang\\\\Desktop\\\\TASK\\\\5. Data Anaylsis\\\\6월판매추이\\\\스토어업데이츠\\\\sales_2020-06-01_2020-06-30.csv\")"
   ]
  },
  {
   "cell_type": "code",
   "execution_count": 225,
   "metadata": {},
   "outputs": [
    {
     "output_type": "execute_result",
     "data": {
      "text/plain": "                                       product_title variant_sku         day  \\\n0              Portable Fan with Cradle Stand - Ryan      F08846  2020-06-25   \n1             Yumyum Friends, Tote bag - Little Ryan      F10931  2020-06-05   \n2          Skateboard Cotton Face Socks - Ryan, Heel    93009450  2020-06-06   \n3                 Silicone Mood Lamp - Little Apeach      F09049  2020-06-12   \n4     Baby Dreaming Theme, Mini Pillow - Little Ryan      F10671  2020-06-15   \n...                                              ...         ...         ...   \n1699       Skateboard Cotton Face Socks - Ryan, Heel    93009450  2020-06-29   \n1700                            Socks, Pink - Apeach      F10983  2020-06-12   \n1701                       Mini Pillow - Lovely Ryan      F09923  2020-06-22   \n1702           Portable Fan with Cradle Stand - Ryan    93008882  2020-06-08   \n1703       Skateboard Cotton Face Socks - Ryan, Heel    93009450  2020-06-16   \n\n      net_quantity  gross_sales  discounts  returns  net_sales  taxes  \\\n0                5       133.27     -21.30     0.00     111.97  22.40   \n1                5       114.95      -3.43     0.00     111.52   0.00   \n2                4        12.96       0.00     0.00      12.96   0.00   \n3                4       103.56       0.00     0.00     103.56   0.00   \n4                4        69.95     -13.97   -11.19      44.79   0.00   \n...            ...          ...        ...      ...        ...    ...   \n1699            -1         0.00       0.00    -3.24      -3.24   0.00   \n1700            -1         0.00       0.00    -6.30      -6.30   0.00   \n1701            -2         0.00       0.00   -24.00     -24.00   0.00   \n1702            -2         0.00       0.00   -35.82     -35.82  -7.16   \n1703            -2         0.00       0.00    -6.48      -6.48   0.00   \n\n      total_sales  \n0          134.37  \n1          111.52  \n2           12.96  \n3          103.56  \n4           44.79  \n...           ...  \n1699        -3.24  \n1700        -6.30  \n1701       -24.00  \n1702       -42.98  \n1703        -6.48  \n\n[1704 rows x 10 columns]",
      "text/html": "<div>\n<style scoped>\n    .dataframe tbody tr th:only-of-type {\n        vertical-align: middle;\n    }\n\n    .dataframe tbody tr th {\n        vertical-align: top;\n    }\n\n    .dataframe thead th {\n        text-align: right;\n    }\n</style>\n<table border=\"1\" class=\"dataframe\">\n  <thead>\n    <tr style=\"text-align: right;\">\n      <th></th>\n      <th>product_title</th>\n      <th>variant_sku</th>\n      <th>day</th>\n      <th>net_quantity</th>\n      <th>gross_sales</th>\n      <th>discounts</th>\n      <th>returns</th>\n      <th>net_sales</th>\n      <th>taxes</th>\n      <th>total_sales</th>\n    </tr>\n  </thead>\n  <tbody>\n    <tr>\n      <th>0</th>\n      <td>Portable Fan with Cradle Stand - Ryan</td>\n      <td>F08846</td>\n      <td>2020-06-25</td>\n      <td>5</td>\n      <td>133.27</td>\n      <td>-21.30</td>\n      <td>0.00</td>\n      <td>111.97</td>\n      <td>22.40</td>\n      <td>134.37</td>\n    </tr>\n    <tr>\n      <th>1</th>\n      <td>Yumyum Friends, Tote bag - Little Ryan</td>\n      <td>F10931</td>\n      <td>2020-06-05</td>\n      <td>5</td>\n      <td>114.95</td>\n      <td>-3.43</td>\n      <td>0.00</td>\n      <td>111.52</td>\n      <td>0.00</td>\n      <td>111.52</td>\n    </tr>\n    <tr>\n      <th>2</th>\n      <td>Skateboard Cotton Face Socks - Ryan, Heel</td>\n      <td>93009450</td>\n      <td>2020-06-06</td>\n      <td>4</td>\n      <td>12.96</td>\n      <td>0.00</td>\n      <td>0.00</td>\n      <td>12.96</td>\n      <td>0.00</td>\n      <td>12.96</td>\n    </tr>\n    <tr>\n      <th>3</th>\n      <td>Silicone Mood Lamp - Little Apeach</td>\n      <td>F09049</td>\n      <td>2020-06-12</td>\n      <td>4</td>\n      <td>103.56</td>\n      <td>0.00</td>\n      <td>0.00</td>\n      <td>103.56</td>\n      <td>0.00</td>\n      <td>103.56</td>\n    </tr>\n    <tr>\n      <th>4</th>\n      <td>Baby Dreaming Theme, Mini Pillow - Little Ryan</td>\n      <td>F10671</td>\n      <td>2020-06-15</td>\n      <td>4</td>\n      <td>69.95</td>\n      <td>-13.97</td>\n      <td>-11.19</td>\n      <td>44.79</td>\n      <td>0.00</td>\n      <td>44.79</td>\n    </tr>\n    <tr>\n      <th>...</th>\n      <td>...</td>\n      <td>...</td>\n      <td>...</td>\n      <td>...</td>\n      <td>...</td>\n      <td>...</td>\n      <td>...</td>\n      <td>...</td>\n      <td>...</td>\n      <td>...</td>\n    </tr>\n    <tr>\n      <th>1699</th>\n      <td>Skateboard Cotton Face Socks - Ryan, Heel</td>\n      <td>93009450</td>\n      <td>2020-06-29</td>\n      <td>-1</td>\n      <td>0.00</td>\n      <td>0.00</td>\n      <td>-3.24</td>\n      <td>-3.24</td>\n      <td>0.00</td>\n      <td>-3.24</td>\n    </tr>\n    <tr>\n      <th>1700</th>\n      <td>Socks, Pink - Apeach</td>\n      <td>F10983</td>\n      <td>2020-06-12</td>\n      <td>-1</td>\n      <td>0.00</td>\n      <td>0.00</td>\n      <td>-6.30</td>\n      <td>-6.30</td>\n      <td>0.00</td>\n      <td>-6.30</td>\n    </tr>\n    <tr>\n      <th>1701</th>\n      <td>Mini Pillow - Lovely Ryan</td>\n      <td>F09923</td>\n      <td>2020-06-22</td>\n      <td>-2</td>\n      <td>0.00</td>\n      <td>0.00</td>\n      <td>-24.00</td>\n      <td>-24.00</td>\n      <td>0.00</td>\n      <td>-24.00</td>\n    </tr>\n    <tr>\n      <th>1702</th>\n      <td>Portable Fan with Cradle Stand - Ryan</td>\n      <td>93008882</td>\n      <td>2020-06-08</td>\n      <td>-2</td>\n      <td>0.00</td>\n      <td>0.00</td>\n      <td>-35.82</td>\n      <td>-35.82</td>\n      <td>-7.16</td>\n      <td>-42.98</td>\n    </tr>\n    <tr>\n      <th>1703</th>\n      <td>Skateboard Cotton Face Socks - Ryan, Heel</td>\n      <td>93009450</td>\n      <td>2020-06-16</td>\n      <td>-2</td>\n      <td>0.00</td>\n      <td>0.00</td>\n      <td>-6.48</td>\n      <td>-6.48</td>\n      <td>0.00</td>\n      <td>-6.48</td>\n    </tr>\n  </tbody>\n</table>\n<p>1704 rows × 10 columns</p>\n</div>"
     },
     "metadata": {},
     "execution_count": 225
    }
   ],
   "source": [
    "saletrend"
   ]
  },
  {
   "cell_type": "code",
   "execution_count": 226,
   "metadata": {},
   "outputs": [],
   "source": [
    "saletrend.rename(columns = {saletrend.columns[1]:'SKU'}, inplace = True)"
   ]
  },
  {
   "cell_type": "code",
   "execution_count": 227,
   "metadata": {},
   "outputs": [
    {
     "output_type": "execute_result",
     "data": {
      "text/plain": "                                       product_title       SKU         day  \\\n0              Portable Fan with Cradle Stand - Ryan    F08846  2020-06-25   \n1             Yumyum Friends, Tote bag - Little Ryan    F10931  2020-06-05   \n2          Skateboard Cotton Face Socks - Ryan, Heel  93009450  2020-06-06   \n3                 Silicone Mood Lamp - Little Apeach    F09049  2020-06-12   \n4     Baby Dreaming Theme, Mini Pillow - Little Ryan    F10671  2020-06-15   \n...                                              ...       ...         ...   \n1699       Skateboard Cotton Face Socks - Ryan, Heel  93009450  2020-06-29   \n1700                            Socks, Pink - Apeach    F10983  2020-06-12   \n1701                       Mini Pillow - Lovely Ryan    F09923  2020-06-22   \n1702           Portable Fan with Cradle Stand - Ryan  93008882  2020-06-08   \n1703       Skateboard Cotton Face Socks - Ryan, Heel  93009450  2020-06-16   \n\n      net_quantity  gross_sales  discounts  returns  net_sales  taxes  \\\n0                5       133.27     -21.30     0.00     111.97  22.40   \n1                5       114.95      -3.43     0.00     111.52   0.00   \n2                4        12.96       0.00     0.00      12.96   0.00   \n3                4       103.56       0.00     0.00     103.56   0.00   \n4                4        69.95     -13.97   -11.19      44.79   0.00   \n...            ...          ...        ...      ...        ...    ...   \n1699            -1         0.00       0.00    -3.24      -3.24   0.00   \n1700            -1         0.00       0.00    -6.30      -6.30   0.00   \n1701            -2         0.00       0.00   -24.00     -24.00   0.00   \n1702            -2         0.00       0.00   -35.82     -35.82  -7.16   \n1703            -2         0.00       0.00    -6.48      -6.48   0.00   \n\n      total_sales  \n0          134.37  \n1          111.52  \n2           12.96  \n3          103.56  \n4           44.79  \n...           ...  \n1699        -3.24  \n1700        -6.30  \n1701       -24.00  \n1702       -42.98  \n1703        -6.48  \n\n[1704 rows x 10 columns]",
      "text/html": "<div>\n<style scoped>\n    .dataframe tbody tr th:only-of-type {\n        vertical-align: middle;\n    }\n\n    .dataframe tbody tr th {\n        vertical-align: top;\n    }\n\n    .dataframe thead th {\n        text-align: right;\n    }\n</style>\n<table border=\"1\" class=\"dataframe\">\n  <thead>\n    <tr style=\"text-align: right;\">\n      <th></th>\n      <th>product_title</th>\n      <th>SKU</th>\n      <th>day</th>\n      <th>net_quantity</th>\n      <th>gross_sales</th>\n      <th>discounts</th>\n      <th>returns</th>\n      <th>net_sales</th>\n      <th>taxes</th>\n      <th>total_sales</th>\n    </tr>\n  </thead>\n  <tbody>\n    <tr>\n      <th>0</th>\n      <td>Portable Fan with Cradle Stand - Ryan</td>\n      <td>F08846</td>\n      <td>2020-06-25</td>\n      <td>5</td>\n      <td>133.27</td>\n      <td>-21.30</td>\n      <td>0.00</td>\n      <td>111.97</td>\n      <td>22.40</td>\n      <td>134.37</td>\n    </tr>\n    <tr>\n      <th>1</th>\n      <td>Yumyum Friends, Tote bag - Little Ryan</td>\n      <td>F10931</td>\n      <td>2020-06-05</td>\n      <td>5</td>\n      <td>114.95</td>\n      <td>-3.43</td>\n      <td>0.00</td>\n      <td>111.52</td>\n      <td>0.00</td>\n      <td>111.52</td>\n    </tr>\n    <tr>\n      <th>2</th>\n      <td>Skateboard Cotton Face Socks - Ryan, Heel</td>\n      <td>93009450</td>\n      <td>2020-06-06</td>\n      <td>4</td>\n      <td>12.96</td>\n      <td>0.00</td>\n      <td>0.00</td>\n      <td>12.96</td>\n      <td>0.00</td>\n      <td>12.96</td>\n    </tr>\n    <tr>\n      <th>3</th>\n      <td>Silicone Mood Lamp - Little Apeach</td>\n      <td>F09049</td>\n      <td>2020-06-12</td>\n      <td>4</td>\n      <td>103.56</td>\n      <td>0.00</td>\n      <td>0.00</td>\n      <td>103.56</td>\n      <td>0.00</td>\n      <td>103.56</td>\n    </tr>\n    <tr>\n      <th>4</th>\n      <td>Baby Dreaming Theme, Mini Pillow - Little Ryan</td>\n      <td>F10671</td>\n      <td>2020-06-15</td>\n      <td>4</td>\n      <td>69.95</td>\n      <td>-13.97</td>\n      <td>-11.19</td>\n      <td>44.79</td>\n      <td>0.00</td>\n      <td>44.79</td>\n    </tr>\n    <tr>\n      <th>...</th>\n      <td>...</td>\n      <td>...</td>\n      <td>...</td>\n      <td>...</td>\n      <td>...</td>\n      <td>...</td>\n      <td>...</td>\n      <td>...</td>\n      <td>...</td>\n      <td>...</td>\n    </tr>\n    <tr>\n      <th>1699</th>\n      <td>Skateboard Cotton Face Socks - Ryan, Heel</td>\n      <td>93009450</td>\n      <td>2020-06-29</td>\n      <td>-1</td>\n      <td>0.00</td>\n      <td>0.00</td>\n      <td>-3.24</td>\n      <td>-3.24</td>\n      <td>0.00</td>\n      <td>-3.24</td>\n    </tr>\n    <tr>\n      <th>1700</th>\n      <td>Socks, Pink - Apeach</td>\n      <td>F10983</td>\n      <td>2020-06-12</td>\n      <td>-1</td>\n      <td>0.00</td>\n      <td>0.00</td>\n      <td>-6.30</td>\n      <td>-6.30</td>\n      <td>0.00</td>\n      <td>-6.30</td>\n    </tr>\n    <tr>\n      <th>1701</th>\n      <td>Mini Pillow - Lovely Ryan</td>\n      <td>F09923</td>\n      <td>2020-06-22</td>\n      <td>-2</td>\n      <td>0.00</td>\n      <td>0.00</td>\n      <td>-24.00</td>\n      <td>-24.00</td>\n      <td>0.00</td>\n      <td>-24.00</td>\n    </tr>\n    <tr>\n      <th>1702</th>\n      <td>Portable Fan with Cradle Stand - Ryan</td>\n      <td>93008882</td>\n      <td>2020-06-08</td>\n      <td>-2</td>\n      <td>0.00</td>\n      <td>0.00</td>\n      <td>-35.82</td>\n      <td>-35.82</td>\n      <td>-7.16</td>\n      <td>-42.98</td>\n    </tr>\n    <tr>\n      <th>1703</th>\n      <td>Skateboard Cotton Face Socks - Ryan, Heel</td>\n      <td>93009450</td>\n      <td>2020-06-16</td>\n      <td>-2</td>\n      <td>0.00</td>\n      <td>0.00</td>\n      <td>-6.48</td>\n      <td>-6.48</td>\n      <td>0.00</td>\n      <td>-6.48</td>\n    </tr>\n  </tbody>\n</table>\n<p>1704 rows × 10 columns</p>\n</div>"
     },
     "metadata": {},
     "execution_count": 227
    }
   ],
   "source": [
    "saletrend"
   ]
  },
  {
   "cell_type": "code",
   "execution_count": 228,
   "metadata": {},
   "outputs": [
    {
     "output_type": "execute_result",
     "data": {
      "text/plain": "      Batch       SKU        ASIN        BARCODE             NAME(KR)  \\\n227       1  93005990  B07NNW8MP2  FRPBAPJPL0002       리틀프렌즈페이스젤펜-어피치   \n1446      1  93008324  B07NVSHVQW  8809641461728  클리어파우치 4P SET-리틀라이언   \n445       1  93007972  B07NVR3HRM  FRPBRYBPJ8407      스타 홈웨어 남성용L-라이언   \n1196      1  93008311  B07NVF19TM  8809641461599      실리콘 전신네임택-리틀라이언   \n613       1  93007924  B07NTZKD13  FRPBRYDCS0001         봉제인형 슬리퍼_라이언   \n...     ...       ...         ...            ...                  ...   \n1306  팝업 4차    F08518    93008554  8809641463951       리틀스케치북_편지지_어피치   \n857   팝업 4차    F08031        None  FRPBAPMFM0006        메리_꼬마자석인형_어피치   \n246   팝업 4차    F09906           0  8809656139094          미니잔3P세트_어피치   \n194   팝업 4차    F09650    93009475  8809656137373    리틀스케치북_3색 멀티펜 라이언   \n245   팝업 4차    F09905           0  8809656139087          미니잔3P세트_라이언   \n\n         SKU_2      ASIN_2 CHARACTER    CATEGORY            ITEM  \\\n227   93005990  B07NNW8MP2    Apeach  Stationery             Pen   \n1446  93008324  B07NVSHVQW      Ryan      Travel  Travel Pouches   \n445   93007972  B07NVR3HRM      Ryan      Living         Pyjamas   \n1196  93008311  B07NVF19TM      Ryan      Travel    Luggage Tags   \n613   93007924  B07NTZKD13      Ryan      Living        Slippers   \n...        ...         ...       ...         ...             ...   \n1306        30           0    Apeach  Stationery   Message Cards   \n857         20        None    Apeach       Plush      Plush Toys   \n246         20           0    Apeach      Living            Cups   \n194         50           0      Ryan  Stationery             Pen   \n245         20           0      Ryan      Living            Cups   \n\n               THEME     PRODUCT_NAME(KR)  \n227   Little friends       리틀프렌즈페이스젤펜-어피치  \n1446  Little friends  클리어파우치 4P SET-리틀라이언  \n445            Basic      스타 홈웨어 남성용L-라이언  \n1196  Little friends      실리콘 전신네임택-리틀라이언  \n613            Basic         봉제인형 슬리퍼_라이언  \n...              ...                  ...  \n1306  Little Friends       리틀스케치북_편지지_어피치  \n857   Little Friends        메리_꼬마자석인형_어피치  \n246            Basic          미니잔3P세트_어피치  \n194   Little Friends    리틀스케치북_3색 멀티펜 라이언  \n245            Basic          미니잔3P세트_라이언  \n\n[906 rows x 12 columns]",
      "text/html": "<div>\n<style scoped>\n    .dataframe tbody tr th:only-of-type {\n        vertical-align: middle;\n    }\n\n    .dataframe tbody tr th {\n        vertical-align: top;\n    }\n\n    .dataframe thead th {\n        text-align: right;\n    }\n</style>\n<table border=\"1\" class=\"dataframe\">\n  <thead>\n    <tr style=\"text-align: right;\">\n      <th></th>\n      <th>Batch</th>\n      <th>SKU</th>\n      <th>ASIN</th>\n      <th>BARCODE</th>\n      <th>NAME(KR)</th>\n      <th>SKU_2</th>\n      <th>ASIN_2</th>\n      <th>CHARACTER</th>\n      <th>CATEGORY</th>\n      <th>ITEM</th>\n      <th>THEME</th>\n      <th>PRODUCT_NAME(KR)</th>\n    </tr>\n  </thead>\n  <tbody>\n    <tr>\n      <th>227</th>\n      <td>1</td>\n      <td>93005990</td>\n      <td>B07NNW8MP2</td>\n      <td>FRPBAPJPL0002</td>\n      <td>리틀프렌즈페이스젤펜-어피치</td>\n      <td>93005990</td>\n      <td>B07NNW8MP2</td>\n      <td>Apeach</td>\n      <td>Stationery</td>\n      <td>Pen</td>\n      <td>Little friends</td>\n      <td>리틀프렌즈페이스젤펜-어피치</td>\n    </tr>\n    <tr>\n      <th>1446</th>\n      <td>1</td>\n      <td>93008324</td>\n      <td>B07NVSHVQW</td>\n      <td>8809641461728</td>\n      <td>클리어파우치 4P SET-리틀라이언</td>\n      <td>93008324</td>\n      <td>B07NVSHVQW</td>\n      <td>Ryan</td>\n      <td>Travel</td>\n      <td>Travel Pouches</td>\n      <td>Little friends</td>\n      <td>클리어파우치 4P SET-리틀라이언</td>\n    </tr>\n    <tr>\n      <th>445</th>\n      <td>1</td>\n      <td>93007972</td>\n      <td>B07NVR3HRM</td>\n      <td>FRPBRYBPJ8407</td>\n      <td>스타 홈웨어 남성용L-라이언</td>\n      <td>93007972</td>\n      <td>B07NVR3HRM</td>\n      <td>Ryan</td>\n      <td>Living</td>\n      <td>Pyjamas</td>\n      <td>Basic</td>\n      <td>스타 홈웨어 남성용L-라이언</td>\n    </tr>\n    <tr>\n      <th>1196</th>\n      <td>1</td>\n      <td>93008311</td>\n      <td>B07NVF19TM</td>\n      <td>8809641461599</td>\n      <td>실리콘 전신네임택-리틀라이언</td>\n      <td>93008311</td>\n      <td>B07NVF19TM</td>\n      <td>Ryan</td>\n      <td>Travel</td>\n      <td>Luggage Tags</td>\n      <td>Little friends</td>\n      <td>실리콘 전신네임택-리틀라이언</td>\n    </tr>\n    <tr>\n      <th>613</th>\n      <td>1</td>\n      <td>93007924</td>\n      <td>B07NTZKD13</td>\n      <td>FRPBRYDCS0001</td>\n      <td>봉제인형 슬리퍼_라이언</td>\n      <td>93007924</td>\n      <td>B07NTZKD13</td>\n      <td>Ryan</td>\n      <td>Living</td>\n      <td>Slippers</td>\n      <td>Basic</td>\n      <td>봉제인형 슬리퍼_라이언</td>\n    </tr>\n    <tr>\n      <th>...</th>\n      <td>...</td>\n      <td>...</td>\n      <td>...</td>\n      <td>...</td>\n      <td>...</td>\n      <td>...</td>\n      <td>...</td>\n      <td>...</td>\n      <td>...</td>\n      <td>...</td>\n      <td>...</td>\n      <td>...</td>\n    </tr>\n    <tr>\n      <th>1306</th>\n      <td>팝업 4차</td>\n      <td>F08518</td>\n      <td>93008554</td>\n      <td>8809641463951</td>\n      <td>리틀스케치북_편지지_어피치</td>\n      <td>30</td>\n      <td>0</td>\n      <td>Apeach</td>\n      <td>Stationery</td>\n      <td>Message Cards</td>\n      <td>Little Friends</td>\n      <td>리틀스케치북_편지지_어피치</td>\n    </tr>\n    <tr>\n      <th>857</th>\n      <td>팝업 4차</td>\n      <td>F08031</td>\n      <td>None</td>\n      <td>FRPBAPMFM0006</td>\n      <td>메리_꼬마자석인형_어피치</td>\n      <td>20</td>\n      <td>None</td>\n      <td>Apeach</td>\n      <td>Plush</td>\n      <td>Plush Toys</td>\n      <td>Little Friends</td>\n      <td>메리_꼬마자석인형_어피치</td>\n    </tr>\n    <tr>\n      <th>246</th>\n      <td>팝업 4차</td>\n      <td>F09906</td>\n      <td>0</td>\n      <td>8809656139094</td>\n      <td>미니잔3P세트_어피치</td>\n      <td>20</td>\n      <td>0</td>\n      <td>Apeach</td>\n      <td>Living</td>\n      <td>Cups</td>\n      <td>Basic</td>\n      <td>미니잔3P세트_어피치</td>\n    </tr>\n    <tr>\n      <th>194</th>\n      <td>팝업 4차</td>\n      <td>F09650</td>\n      <td>93009475</td>\n      <td>8809656137373</td>\n      <td>리틀스케치북_3색 멀티펜 라이언</td>\n      <td>50</td>\n      <td>0</td>\n      <td>Ryan</td>\n      <td>Stationery</td>\n      <td>Pen</td>\n      <td>Little Friends</td>\n      <td>리틀스케치북_3색 멀티펜 라이언</td>\n    </tr>\n    <tr>\n      <th>245</th>\n      <td>팝업 4차</td>\n      <td>F09905</td>\n      <td>0</td>\n      <td>8809656139087</td>\n      <td>미니잔3P세트_라이언</td>\n      <td>20</td>\n      <td>0</td>\n      <td>Ryan</td>\n      <td>Living</td>\n      <td>Cups</td>\n      <td>Basic</td>\n      <td>미니잔3P세트_라이언</td>\n    </tr>\n  </tbody>\n</table>\n<p>906 rows × 12 columns</p>\n</div>"
     },
     "metadata": {},
     "execution_count": 228
    }
   ],
   "source": [
    "productlist"
   ]
  },
  {
   "cell_type": "code",
   "execution_count": 229,
   "metadata": {},
   "outputs": [],
   "source": [
    "saletrend = pd.merge(saletrend, productlist, on='SKU', how='left')"
   ]
  },
  {
   "cell_type": "code",
   "execution_count": 230,
   "metadata": {},
   "outputs": [
    {
     "output_type": "execute_result",
     "data": {
      "text/plain": "                                       product_title       SKU         day  \\\n0              Portable Fan with Cradle Stand - Ryan    F08846  2020-06-25   \n1             Yumyum Friends, Tote bag - Little Ryan    F10931  2020-06-05   \n2          Skateboard Cotton Face Socks - Ryan, Heel  93009450  2020-06-06   \n3                 Silicone Mood Lamp - Little Apeach    F09049  2020-06-12   \n4     Baby Dreaming Theme, Mini Pillow - Little Ryan    F10671  2020-06-15   \n...                                              ...       ...         ...   \n1699       Skateboard Cotton Face Socks - Ryan, Heel  93009450  2020-06-29   \n1700                            Socks, Pink - Apeach    F10983  2020-06-12   \n1701                       Mini Pillow - Lovely Ryan    F09923  2020-06-22   \n1702           Portable Fan with Cradle Stand - Ryan  93008882  2020-06-08   \n1703       Skateboard Cotton Face Socks - Ryan, Heel  93009450  2020-06-16   \n\n      net_quantity  gross_sales  discounts  returns  net_sales  taxes  \\\n0                5       133.27     -21.30     0.00     111.97  22.40   \n1                5       114.95      -3.43     0.00     111.52   0.00   \n2                4        12.96       0.00     0.00      12.96   0.00   \n3                4       103.56       0.00     0.00     103.56   0.00   \n4                4        69.95     -13.97   -11.19      44.79   0.00   \n...            ...          ...        ...      ...        ...    ...   \n1699            -1         0.00       0.00    -3.24      -3.24   0.00   \n1700            -1         0.00       0.00    -6.30      -6.30   0.00   \n1701            -2         0.00       0.00   -24.00     -24.00   0.00   \n1702            -2         0.00       0.00   -35.82     -35.82  -7.16   \n1703            -2         0.00       0.00    -6.48      -6.48   0.00   \n\n      total_sales  ...        ASIN        BARCODE            NAME(KR)  \\\n0          134.37  ...        None  8809641467386     크레들 핸디형 선풍기_라이언   \n1          111.52  ...        None  8809681708968        얌얌 에코백_리틀라이언   \n2           12.96  ...  B07RYN2GKC  8809656137113          라인보드삭스-라이언   \n3          103.56  ...  B07W8V49GC  8809656134594        실리콘무드등_리틀어피치   \n4           44.79  ...  B086MQ57RX  8809681706742   베이비드리밍 타이니프렌즈_라이언   \n...           ...  ...         ...            ...                 ...   \n1699        -3.24  ...  B07RYN2GKC  8809656137113          라인보드삭스-라이언   \n1700        -6.30  ...        #N/A  8809681709705  프렌즈미디움삭스(공용)_핑크어피치   \n1701       -24.00  ...  B07WW872QM  8809641469113       베이비필로우_러블리라이언   \n1702       -42.98  ...         NaN            NaN                 NaN   \n1703        -6.48  ...  B07RYN2GKC  8809656137113          라인보드삭스-라이언   \n\n         SKU_2      ASIN_2 CHARACTER     CATEGORY         ITEM  \\\n0       F08846        None      Ryan    Tech&Accs         Fans   \n1       F10931        None      Ryan  Accessories   Canvas bag   \n2     93009450  B07RYN2GKC      Ryan  Accessories        Socks   \n3       F09049  B07W8V49GC    Apeach         Home    Mood lamp   \n4       F10671  B086MQ57RX      Ryan        Plush  Mini Pillow   \n...        ...         ...       ...          ...          ...   \n1699  93009450  B07RYN2GKC      Ryan  Accessories        Socks   \n1700    F10983        #N/A    Apeach  Accessories        Socks   \n1701    F09923  B07WW872QM      Ryan        Plush  Mini Pillow   \n1702       NaN         NaN       NaN          NaN          NaN   \n1703  93009450  B07RYN2GKC      Ryan  Accessories        Socks   \n\n               THEME    PRODUCT_NAME(KR)  \n0              Basic     크레들 핸디형 선풍기_라이언  \n1       Lemon Terras        얌얌 에코백_리틀라이언  \n2              Basic          라인보드삭스-라이언  \n3     Little Friends        실리콘무드등_리틀어피치  \n4      Baby Dreaming   베이비드리밍 타이니프렌즈_라이언  \n...              ...                 ...  \n1699           Basic          라인보드삭스-라이언  \n1700     Happy Weeks  프렌즈미디움삭스(공용)_핑크어피치  \n1701  Lovely Friends       베이비필로우_러블리라이언  \n1702             NaN                 NaN  \n1703           Basic          라인보드삭스-라이언  \n\n[1704 rows x 21 columns]",
      "text/html": "<div>\n<style scoped>\n    .dataframe tbody tr th:only-of-type {\n        vertical-align: middle;\n    }\n\n    .dataframe tbody tr th {\n        vertical-align: top;\n    }\n\n    .dataframe thead th {\n        text-align: right;\n    }\n</style>\n<table border=\"1\" class=\"dataframe\">\n  <thead>\n    <tr style=\"text-align: right;\">\n      <th></th>\n      <th>product_title</th>\n      <th>SKU</th>\n      <th>day</th>\n      <th>net_quantity</th>\n      <th>gross_sales</th>\n      <th>discounts</th>\n      <th>returns</th>\n      <th>net_sales</th>\n      <th>taxes</th>\n      <th>total_sales</th>\n      <th>...</th>\n      <th>ASIN</th>\n      <th>BARCODE</th>\n      <th>NAME(KR)</th>\n      <th>SKU_2</th>\n      <th>ASIN_2</th>\n      <th>CHARACTER</th>\n      <th>CATEGORY</th>\n      <th>ITEM</th>\n      <th>THEME</th>\n      <th>PRODUCT_NAME(KR)</th>\n    </tr>\n  </thead>\n  <tbody>\n    <tr>\n      <th>0</th>\n      <td>Portable Fan with Cradle Stand - Ryan</td>\n      <td>F08846</td>\n      <td>2020-06-25</td>\n      <td>5</td>\n      <td>133.27</td>\n      <td>-21.30</td>\n      <td>0.00</td>\n      <td>111.97</td>\n      <td>22.40</td>\n      <td>134.37</td>\n      <td>...</td>\n      <td>None</td>\n      <td>8809641467386</td>\n      <td>크레들 핸디형 선풍기_라이언</td>\n      <td>F08846</td>\n      <td>None</td>\n      <td>Ryan</td>\n      <td>Tech&amp;Accs</td>\n      <td>Fans</td>\n      <td>Basic</td>\n      <td>크레들 핸디형 선풍기_라이언</td>\n    </tr>\n    <tr>\n      <th>1</th>\n      <td>Yumyum Friends, Tote bag - Little Ryan</td>\n      <td>F10931</td>\n      <td>2020-06-05</td>\n      <td>5</td>\n      <td>114.95</td>\n      <td>-3.43</td>\n      <td>0.00</td>\n      <td>111.52</td>\n      <td>0.00</td>\n      <td>111.52</td>\n      <td>...</td>\n      <td>None</td>\n      <td>8809681708968</td>\n      <td>얌얌 에코백_리틀라이언</td>\n      <td>F10931</td>\n      <td>None</td>\n      <td>Ryan</td>\n      <td>Accessories</td>\n      <td>Canvas bag</td>\n      <td>Lemon Terras</td>\n      <td>얌얌 에코백_리틀라이언</td>\n    </tr>\n    <tr>\n      <th>2</th>\n      <td>Skateboard Cotton Face Socks - Ryan, Heel</td>\n      <td>93009450</td>\n      <td>2020-06-06</td>\n      <td>4</td>\n      <td>12.96</td>\n      <td>0.00</td>\n      <td>0.00</td>\n      <td>12.96</td>\n      <td>0.00</td>\n      <td>12.96</td>\n      <td>...</td>\n      <td>B07RYN2GKC</td>\n      <td>8809656137113</td>\n      <td>라인보드삭스-라이언</td>\n      <td>93009450</td>\n      <td>B07RYN2GKC</td>\n      <td>Ryan</td>\n      <td>Accessories</td>\n      <td>Socks</td>\n      <td>Basic</td>\n      <td>라인보드삭스-라이언</td>\n    </tr>\n    <tr>\n      <th>3</th>\n      <td>Silicone Mood Lamp - Little Apeach</td>\n      <td>F09049</td>\n      <td>2020-06-12</td>\n      <td>4</td>\n      <td>103.56</td>\n      <td>0.00</td>\n      <td>0.00</td>\n      <td>103.56</td>\n      <td>0.00</td>\n      <td>103.56</td>\n      <td>...</td>\n      <td>B07W8V49GC</td>\n      <td>8809656134594</td>\n      <td>실리콘무드등_리틀어피치</td>\n      <td>F09049</td>\n      <td>B07W8V49GC</td>\n      <td>Apeach</td>\n      <td>Home</td>\n      <td>Mood lamp</td>\n      <td>Little Friends</td>\n      <td>실리콘무드등_리틀어피치</td>\n    </tr>\n    <tr>\n      <th>4</th>\n      <td>Baby Dreaming Theme, Mini Pillow - Little Ryan</td>\n      <td>F10671</td>\n      <td>2020-06-15</td>\n      <td>4</td>\n      <td>69.95</td>\n      <td>-13.97</td>\n      <td>-11.19</td>\n      <td>44.79</td>\n      <td>0.00</td>\n      <td>44.79</td>\n      <td>...</td>\n      <td>B086MQ57RX</td>\n      <td>8809681706742</td>\n      <td>베이비드리밍 타이니프렌즈_라이언</td>\n      <td>F10671</td>\n      <td>B086MQ57RX</td>\n      <td>Ryan</td>\n      <td>Plush</td>\n      <td>Mini Pillow</td>\n      <td>Baby Dreaming</td>\n      <td>베이비드리밍 타이니프렌즈_라이언</td>\n    </tr>\n    <tr>\n      <th>...</th>\n      <td>...</td>\n      <td>...</td>\n      <td>...</td>\n      <td>...</td>\n      <td>...</td>\n      <td>...</td>\n      <td>...</td>\n      <td>...</td>\n      <td>...</td>\n      <td>...</td>\n      <td>...</td>\n      <td>...</td>\n      <td>...</td>\n      <td>...</td>\n      <td>...</td>\n      <td>...</td>\n      <td>...</td>\n      <td>...</td>\n      <td>...</td>\n      <td>...</td>\n      <td>...</td>\n    </tr>\n    <tr>\n      <th>1699</th>\n      <td>Skateboard Cotton Face Socks - Ryan, Heel</td>\n      <td>93009450</td>\n      <td>2020-06-29</td>\n      <td>-1</td>\n      <td>0.00</td>\n      <td>0.00</td>\n      <td>-3.24</td>\n      <td>-3.24</td>\n      <td>0.00</td>\n      <td>-3.24</td>\n      <td>...</td>\n      <td>B07RYN2GKC</td>\n      <td>8809656137113</td>\n      <td>라인보드삭스-라이언</td>\n      <td>93009450</td>\n      <td>B07RYN2GKC</td>\n      <td>Ryan</td>\n      <td>Accessories</td>\n      <td>Socks</td>\n      <td>Basic</td>\n      <td>라인보드삭스-라이언</td>\n    </tr>\n    <tr>\n      <th>1700</th>\n      <td>Socks, Pink - Apeach</td>\n      <td>F10983</td>\n      <td>2020-06-12</td>\n      <td>-1</td>\n      <td>0.00</td>\n      <td>0.00</td>\n      <td>-6.30</td>\n      <td>-6.30</td>\n      <td>0.00</td>\n      <td>-6.30</td>\n      <td>...</td>\n      <td>#N/A</td>\n      <td>8809681709705</td>\n      <td>프렌즈미디움삭스(공용)_핑크어피치</td>\n      <td>F10983</td>\n      <td>#N/A</td>\n      <td>Apeach</td>\n      <td>Accessories</td>\n      <td>Socks</td>\n      <td>Happy Weeks</td>\n      <td>프렌즈미디움삭스(공용)_핑크어피치</td>\n    </tr>\n    <tr>\n      <th>1701</th>\n      <td>Mini Pillow - Lovely Ryan</td>\n      <td>F09923</td>\n      <td>2020-06-22</td>\n      <td>-2</td>\n      <td>0.00</td>\n      <td>0.00</td>\n      <td>-24.00</td>\n      <td>-24.00</td>\n      <td>0.00</td>\n      <td>-24.00</td>\n      <td>...</td>\n      <td>B07WW872QM</td>\n      <td>8809641469113</td>\n      <td>베이비필로우_러블리라이언</td>\n      <td>F09923</td>\n      <td>B07WW872QM</td>\n      <td>Ryan</td>\n      <td>Plush</td>\n      <td>Mini Pillow</td>\n      <td>Lovely Friends</td>\n      <td>베이비필로우_러블리라이언</td>\n    </tr>\n    <tr>\n      <th>1702</th>\n      <td>Portable Fan with Cradle Stand - Ryan</td>\n      <td>93008882</td>\n      <td>2020-06-08</td>\n      <td>-2</td>\n      <td>0.00</td>\n      <td>0.00</td>\n      <td>-35.82</td>\n      <td>-35.82</td>\n      <td>-7.16</td>\n      <td>-42.98</td>\n      <td>...</td>\n      <td>NaN</td>\n      <td>NaN</td>\n      <td>NaN</td>\n      <td>NaN</td>\n      <td>NaN</td>\n      <td>NaN</td>\n      <td>NaN</td>\n      <td>NaN</td>\n      <td>NaN</td>\n      <td>NaN</td>\n    </tr>\n    <tr>\n      <th>1703</th>\n      <td>Skateboard Cotton Face Socks - Ryan, Heel</td>\n      <td>93009450</td>\n      <td>2020-06-16</td>\n      <td>-2</td>\n      <td>0.00</td>\n      <td>0.00</td>\n      <td>-6.48</td>\n      <td>-6.48</td>\n      <td>0.00</td>\n      <td>-6.48</td>\n      <td>...</td>\n      <td>B07RYN2GKC</td>\n      <td>8809656137113</td>\n      <td>라인보드삭스-라이언</td>\n      <td>93009450</td>\n      <td>B07RYN2GKC</td>\n      <td>Ryan</td>\n      <td>Accessories</td>\n      <td>Socks</td>\n      <td>Basic</td>\n      <td>라인보드삭스-라이언</td>\n    </tr>\n  </tbody>\n</table>\n<p>1704 rows × 21 columns</p>\n</div>"
     },
     "metadata": {},
     "execution_count": 230
    }
   ],
   "source": [
    "saletrend"
   ]
  },
  {
   "cell_type": "code",
   "execution_count": 231,
   "metadata": {},
   "outputs": [],
   "source": [
    "saletrend['weekofmonth'] = '0'"
   ]
  },
  {
   "cell_type": "code",
   "execution_count": 251,
   "metadata": {},
   "outputs": [
    {
     "output_type": "error",
     "ename": "ModuleNotFoundError",
     "evalue": "No module named 'date'",
     "traceback": [
      "\u001b[1;31m---------------------------------------------------------------------------\u001b[0m",
      "\u001b[1;31mModuleNotFoundError\u001b[0m                       Traceback (most recent call last)",
      "\u001b[1;32m<ipython-input-251-ebf959d60fa5>\u001b[0m in \u001b[0;36m<module>\u001b[1;34m\u001b[0m\n\u001b[1;32m----> 1\u001b[1;33m \u001b[1;32mimport\u001b[0m \u001b[0mdate\u001b[0m\u001b[1;33m\u001b[0m\u001b[1;33m\u001b[0m\u001b[0m\n\u001b[0m",
      "\u001b[1;31mModuleNotFoundError\u001b[0m: No module named 'date'"
     ]
    }
   ],
   "source": [
    "import date"
   ]
  },
  {
   "cell_type": "code",
   "execution_count": 252,
   "metadata": {
    "tags": []
   },
   "outputs": [
    {
     "output_type": "error",
     "ename": "NameError",
     "evalue": "name 'dateime' is not defined",
     "traceback": [
      "\u001b[1;31m---------------------------------------------------------------------------\u001b[0m",
      "\u001b[1;31mNameError\u001b[0m                                 Traceback (most recent call last)",
      "\u001b[1;32m<ipython-input-252-96a57465ef37>\u001b[0m in \u001b[0;36m<module>\u001b[1;34m\u001b[0m\n\u001b[0;32m     15\u001b[0m     \u001b[1;32mreturn\u001b[0m \u001b[0msaletrend\u001b[0m\u001b[1;33m\u001b[0m\u001b[1;33m\u001b[0m\u001b[0m\n\u001b[0;32m     16\u001b[0m \u001b[1;33m\u001b[0m\u001b[0m\n\u001b[1;32m---> 17\u001b[1;33m \u001b[0msaletrend\u001b[0m \u001b[1;33m=\u001b[0m \u001b[0mset_weekofmonth\u001b[0m\u001b[1;33m(\u001b[0m\u001b[0mdateime\u001b[0m\u001b[1;33m.\u001b[0m\u001b[0mdatetime\u001b[0m\u001b[1;33m.\u001b[0m\u001b[0mstrptime\u001b[0m\u001b[1;33m(\u001b[0m\u001b[1;34m'2020-06'\u001b[0m\u001b[1;33m,\u001b[0m \u001b[1;34m\"%Y%m\"\u001b[0m\u001b[1;33m)\u001b[0m\u001b[1;33m.\u001b[0m\u001b[0mdate\u001b[0m\u001b[1;33m,\u001b[0m \u001b[0msaletrend\u001b[0m\u001b[1;33m,\u001b[0m \u001b[1;36m1\u001b[0m\u001b[1;33m,\u001b[0m \u001b[1;34m'1st'\u001b[0m\u001b[1;33m)\u001b[0m\u001b[1;33m\u001b[0m\u001b[1;33m\u001b[0m\u001b[0m\n\u001b[0m\u001b[0;32m     18\u001b[0m \u001b[0msaletrend\u001b[0m \u001b[1;33m=\u001b[0m \u001b[0mset_weekofmonth\u001b[0m\u001b[1;33m(\u001b[0m\u001b[1;34m'2020-06-0'\u001b[0m\u001b[1;33m,\u001b[0m \u001b[0msaletrend\u001b[0m\u001b[1;33m,\u001b[0m \u001b[1;36m8\u001b[0m\u001b[1;33m,\u001b[0m \u001b[1;34m'2nd'\u001b[0m\u001b[1;33m)\u001b[0m\u001b[1;33m\u001b[0m\u001b[1;33m\u001b[0m\u001b[0m\n\u001b[0;32m     19\u001b[0m \u001b[0msaletrend\u001b[0m \u001b[1;33m=\u001b[0m \u001b[0mset_weekofmonth\u001b[0m\u001b[1;33m(\u001b[0m\u001b[1;34m'2020-06-'\u001b[0m\u001b[1;33m,\u001b[0m \u001b[0msaletrend\u001b[0m\u001b[1;33m,\u001b[0m \u001b[1;36m15\u001b[0m\u001b[1;33m,\u001b[0m \u001b[1;34m'3rd'\u001b[0m\u001b[1;33m)\u001b[0m\u001b[1;33m\u001b[0m\u001b[1;33m\u001b[0m\u001b[0m\n",
      "\u001b[1;31mNameError\u001b[0m: name 'dateime' is not defined"
     ]
    }
   ],
   "source": [
    "\n",
    "\n",
    "#if saletrend['day'][i].isin(['2020-06-01','2020-06-02','2020-06-03','2020-06-04','2020-06-05','2020-06-06','2020-06-07']):\n",
    "#    saletrend['weekofmonth'][i] = '1stweek'\n",
    "\n",
    "\n",
    "#week_1 = saletrend[saletrend['day'].isin(['2020-06-01','2020-06-02','2020-06-03','2020-06-04','2020-06-05','2020-06-06','2020-06-07'])]\n",
    "\n",
    "def set_weekofmonth(month_start_date, saletrend, day_start, week):\n",
    "    date_arr = []\n",
    "    for i in range(day_start, day_start + 7):\n",
    "        date_arr.append(week_start + str(i))\n",
    "\n",
    "    for i in range (len(saletrend['day'])):\n",
    "        if saletrend['day'][i] in date_arr: \n",
    "            saletrend['weekofmonth'][i] = week\n",
    "    return saletrend\n",
    "\n",
    "saletrend = set_weekofmonth(dateime.datetime.strptime('2020-06', \"%Y%m\").date, saletrend, 1, '1st')\n",
    "saletrend = set_weekofmonth('2020-06-0', saletrend, 8, '2nd')\n",
    "saletrend = set_weekofmonth('2020-06-', saletrend, 15, '3rd')\n",
    "saletrend = set_weekofmonth('2020-06-', saletrend, 22, '4th')\n",
    "saletrend = set_weekofmonth('2020-06-', saletrend, 29, '5th')\n",
    "   \n",
    "saletrend"
   ]
  },
  {
   "cell_type": "code",
   "execution_count": 236,
   "metadata": {},
   "outputs": [
    {
     "output_type": "execute_result",
     "data": {
      "text/plain": "                                       product_title       SKU         day  \\\n0              Portable Fan with Cradle Stand - Ryan    F08846  2020-06-25   \n1             Yumyum Friends, Tote bag - Little Ryan    F10931  2020-06-05   \n2          Skateboard Cotton Face Socks - Ryan, Heel  93009450  2020-06-06   \n3                 Silicone Mood Lamp - Little Apeach    F09049  2020-06-12   \n4     Baby Dreaming Theme, Mini Pillow - Little Ryan    F10671  2020-06-15   \n...                                              ...       ...         ...   \n1699       Skateboard Cotton Face Socks - Ryan, Heel  93009450  2020-06-29   \n1700                            Socks, Pink - Apeach    F10983  2020-06-12   \n1701                       Mini Pillow - Lovely Ryan    F09923  2020-06-22   \n1702           Portable Fan with Cradle Stand - Ryan  93008882  2020-06-08   \n1703       Skateboard Cotton Face Socks - Ryan, Heel  93009450  2020-06-16   \n\n      net_quantity  gross_sales  discounts  returns  net_sales  taxes  \\\n0                5       133.27     -21.30     0.00     111.97  22.40   \n1                5       114.95      -3.43     0.00     111.52   0.00   \n2                4        12.96       0.00     0.00      12.96   0.00   \n3                4       103.56       0.00     0.00     103.56   0.00   \n4                4        69.95     -13.97   -11.19      44.79   0.00   \n...            ...          ...        ...      ...        ...    ...   \n1699            -1         0.00       0.00    -3.24      -3.24   0.00   \n1700            -1         0.00       0.00    -6.30      -6.30   0.00   \n1701            -2         0.00       0.00   -24.00     -24.00   0.00   \n1702            -2         0.00       0.00   -35.82     -35.82  -7.16   \n1703            -2         0.00       0.00    -6.48      -6.48   0.00   \n\n      total_sales  ...        BARCODE            NAME(KR)     SKU_2  \\\n0          134.37  ...  8809641467386     크레들 핸디형 선풍기_라이언    F08846   \n1          111.52  ...  8809681708968        얌얌 에코백_리틀라이언    F10931   \n2           12.96  ...  8809656137113          라인보드삭스-라이언  93009450   \n3          103.56  ...  8809656134594        실리콘무드등_리틀어피치    F09049   \n4           44.79  ...  8809681706742   베이비드리밍 타이니프렌즈_라이언    F10671   \n...           ...  ...            ...                 ...       ...   \n1699        -3.24  ...  8809656137113          라인보드삭스-라이언  93009450   \n1700        -6.30  ...  8809681709705  프렌즈미디움삭스(공용)_핑크어피치    F10983   \n1701       -24.00  ...  8809641469113       베이비필로우_러블리라이언    F09923   \n1702       -42.98  ...            NaN                 NaN       NaN   \n1703        -6.48  ...  8809656137113          라인보드삭스-라이언  93009450   \n\n          ASIN_2 CHARACTER     CATEGORY         ITEM           THEME  \\\n0           None      Ryan    Tech&Accs         Fans           Basic   \n1           None      Ryan  Accessories   Canvas bag    Lemon Terras   \n2     B07RYN2GKC      Ryan  Accessories        Socks           Basic   \n3     B07W8V49GC    Apeach         Home    Mood lamp  Little Friends   \n4     B086MQ57RX      Ryan        Plush  Mini Pillow   Baby Dreaming   \n...          ...       ...          ...          ...             ...   \n1699  B07RYN2GKC      Ryan  Accessories        Socks           Basic   \n1700        #N/A    Apeach  Accessories        Socks     Happy Weeks   \n1701  B07WW872QM      Ryan        Plush  Mini Pillow  Lovely Friends   \n1702         NaN       NaN          NaN          NaN             NaN   \n1703  B07RYN2GKC      Ryan  Accessories        Socks           Basic   \n\n        PRODUCT_NAME(KR) weekofmonth  \n0        크레들 핸디형 선풍기_라이언           0  \n1           얌얌 에코백_리틀라이언         1st  \n2             라인보드삭스-라이언         1st  \n3           실리콘무드등_리틀어피치           0  \n4      베이비드리밍 타이니프렌즈_라이언           0  \n...                  ...         ...  \n1699          라인보드삭스-라이언           0  \n1700  프렌즈미디움삭스(공용)_핑크어피치           0  \n1701       베이비필로우_러블리라이언           0  \n1702                 NaN           0  \n1703          라인보드삭스-라이언           0  \n\n[1704 rows x 22 columns]",
      "text/html": "<div>\n<style scoped>\n    .dataframe tbody tr th:only-of-type {\n        vertical-align: middle;\n    }\n\n    .dataframe tbody tr th {\n        vertical-align: top;\n    }\n\n    .dataframe thead th {\n        text-align: right;\n    }\n</style>\n<table border=\"1\" class=\"dataframe\">\n  <thead>\n    <tr style=\"text-align: right;\">\n      <th></th>\n      <th>product_title</th>\n      <th>SKU</th>\n      <th>day</th>\n      <th>net_quantity</th>\n      <th>gross_sales</th>\n      <th>discounts</th>\n      <th>returns</th>\n      <th>net_sales</th>\n      <th>taxes</th>\n      <th>total_sales</th>\n      <th>...</th>\n      <th>BARCODE</th>\n      <th>NAME(KR)</th>\n      <th>SKU_2</th>\n      <th>ASIN_2</th>\n      <th>CHARACTER</th>\n      <th>CATEGORY</th>\n      <th>ITEM</th>\n      <th>THEME</th>\n      <th>PRODUCT_NAME(KR)</th>\n      <th>weekofmonth</th>\n    </tr>\n  </thead>\n  <tbody>\n    <tr>\n      <th>0</th>\n      <td>Portable Fan with Cradle Stand - Ryan</td>\n      <td>F08846</td>\n      <td>2020-06-25</td>\n      <td>5</td>\n      <td>133.27</td>\n      <td>-21.30</td>\n      <td>0.00</td>\n      <td>111.97</td>\n      <td>22.40</td>\n      <td>134.37</td>\n      <td>...</td>\n      <td>8809641467386</td>\n      <td>크레들 핸디형 선풍기_라이언</td>\n      <td>F08846</td>\n      <td>None</td>\n      <td>Ryan</td>\n      <td>Tech&amp;Accs</td>\n      <td>Fans</td>\n      <td>Basic</td>\n      <td>크레들 핸디형 선풍기_라이언</td>\n      <td>0</td>\n    </tr>\n    <tr>\n      <th>1</th>\n      <td>Yumyum Friends, Tote bag - Little Ryan</td>\n      <td>F10931</td>\n      <td>2020-06-05</td>\n      <td>5</td>\n      <td>114.95</td>\n      <td>-3.43</td>\n      <td>0.00</td>\n      <td>111.52</td>\n      <td>0.00</td>\n      <td>111.52</td>\n      <td>...</td>\n      <td>8809681708968</td>\n      <td>얌얌 에코백_리틀라이언</td>\n      <td>F10931</td>\n      <td>None</td>\n      <td>Ryan</td>\n      <td>Accessories</td>\n      <td>Canvas bag</td>\n      <td>Lemon Terras</td>\n      <td>얌얌 에코백_리틀라이언</td>\n      <td>1st</td>\n    </tr>\n    <tr>\n      <th>2</th>\n      <td>Skateboard Cotton Face Socks - Ryan, Heel</td>\n      <td>93009450</td>\n      <td>2020-06-06</td>\n      <td>4</td>\n      <td>12.96</td>\n      <td>0.00</td>\n      <td>0.00</td>\n      <td>12.96</td>\n      <td>0.00</td>\n      <td>12.96</td>\n      <td>...</td>\n      <td>8809656137113</td>\n      <td>라인보드삭스-라이언</td>\n      <td>93009450</td>\n      <td>B07RYN2GKC</td>\n      <td>Ryan</td>\n      <td>Accessories</td>\n      <td>Socks</td>\n      <td>Basic</td>\n      <td>라인보드삭스-라이언</td>\n      <td>1st</td>\n    </tr>\n    <tr>\n      <th>3</th>\n      <td>Silicone Mood Lamp - Little Apeach</td>\n      <td>F09049</td>\n      <td>2020-06-12</td>\n      <td>4</td>\n      <td>103.56</td>\n      <td>0.00</td>\n      <td>0.00</td>\n      <td>103.56</td>\n      <td>0.00</td>\n      <td>103.56</td>\n      <td>...</td>\n      <td>8809656134594</td>\n      <td>실리콘무드등_리틀어피치</td>\n      <td>F09049</td>\n      <td>B07W8V49GC</td>\n      <td>Apeach</td>\n      <td>Home</td>\n      <td>Mood lamp</td>\n      <td>Little Friends</td>\n      <td>실리콘무드등_리틀어피치</td>\n      <td>0</td>\n    </tr>\n    <tr>\n      <th>4</th>\n      <td>Baby Dreaming Theme, Mini Pillow - Little Ryan</td>\n      <td>F10671</td>\n      <td>2020-06-15</td>\n      <td>4</td>\n      <td>69.95</td>\n      <td>-13.97</td>\n      <td>-11.19</td>\n      <td>44.79</td>\n      <td>0.00</td>\n      <td>44.79</td>\n      <td>...</td>\n      <td>8809681706742</td>\n      <td>베이비드리밍 타이니프렌즈_라이언</td>\n      <td>F10671</td>\n      <td>B086MQ57RX</td>\n      <td>Ryan</td>\n      <td>Plush</td>\n      <td>Mini Pillow</td>\n      <td>Baby Dreaming</td>\n      <td>베이비드리밍 타이니프렌즈_라이언</td>\n      <td>0</td>\n    </tr>\n    <tr>\n      <th>...</th>\n      <td>...</td>\n      <td>...</td>\n      <td>...</td>\n      <td>...</td>\n      <td>...</td>\n      <td>...</td>\n      <td>...</td>\n      <td>...</td>\n      <td>...</td>\n      <td>...</td>\n      <td>...</td>\n      <td>...</td>\n      <td>...</td>\n      <td>...</td>\n      <td>...</td>\n      <td>...</td>\n      <td>...</td>\n      <td>...</td>\n      <td>...</td>\n      <td>...</td>\n      <td>...</td>\n    </tr>\n    <tr>\n      <th>1699</th>\n      <td>Skateboard Cotton Face Socks - Ryan, Heel</td>\n      <td>93009450</td>\n      <td>2020-06-29</td>\n      <td>-1</td>\n      <td>0.00</td>\n      <td>0.00</td>\n      <td>-3.24</td>\n      <td>-3.24</td>\n      <td>0.00</td>\n      <td>-3.24</td>\n      <td>...</td>\n      <td>8809656137113</td>\n      <td>라인보드삭스-라이언</td>\n      <td>93009450</td>\n      <td>B07RYN2GKC</td>\n      <td>Ryan</td>\n      <td>Accessories</td>\n      <td>Socks</td>\n      <td>Basic</td>\n      <td>라인보드삭스-라이언</td>\n      <td>0</td>\n    </tr>\n    <tr>\n      <th>1700</th>\n      <td>Socks, Pink - Apeach</td>\n      <td>F10983</td>\n      <td>2020-06-12</td>\n      <td>-1</td>\n      <td>0.00</td>\n      <td>0.00</td>\n      <td>-6.30</td>\n      <td>-6.30</td>\n      <td>0.00</td>\n      <td>-6.30</td>\n      <td>...</td>\n      <td>8809681709705</td>\n      <td>프렌즈미디움삭스(공용)_핑크어피치</td>\n      <td>F10983</td>\n      <td>#N/A</td>\n      <td>Apeach</td>\n      <td>Accessories</td>\n      <td>Socks</td>\n      <td>Happy Weeks</td>\n      <td>프렌즈미디움삭스(공용)_핑크어피치</td>\n      <td>0</td>\n    </tr>\n    <tr>\n      <th>1701</th>\n      <td>Mini Pillow - Lovely Ryan</td>\n      <td>F09923</td>\n      <td>2020-06-22</td>\n      <td>-2</td>\n      <td>0.00</td>\n      <td>0.00</td>\n      <td>-24.00</td>\n      <td>-24.00</td>\n      <td>0.00</td>\n      <td>-24.00</td>\n      <td>...</td>\n      <td>8809641469113</td>\n      <td>베이비필로우_러블리라이언</td>\n      <td>F09923</td>\n      <td>B07WW872QM</td>\n      <td>Ryan</td>\n      <td>Plush</td>\n      <td>Mini Pillow</td>\n      <td>Lovely Friends</td>\n      <td>베이비필로우_러블리라이언</td>\n      <td>0</td>\n    </tr>\n    <tr>\n      <th>1702</th>\n      <td>Portable Fan with Cradle Stand - Ryan</td>\n      <td>93008882</td>\n      <td>2020-06-08</td>\n      <td>-2</td>\n      <td>0.00</td>\n      <td>0.00</td>\n      <td>-35.82</td>\n      <td>-35.82</td>\n      <td>-7.16</td>\n      <td>-42.98</td>\n      <td>...</td>\n      <td>NaN</td>\n      <td>NaN</td>\n      <td>NaN</td>\n      <td>NaN</td>\n      <td>NaN</td>\n      <td>NaN</td>\n      <td>NaN</td>\n      <td>NaN</td>\n      <td>NaN</td>\n      <td>0</td>\n    </tr>\n    <tr>\n      <th>1703</th>\n      <td>Skateboard Cotton Face Socks - Ryan, Heel</td>\n      <td>93009450</td>\n      <td>2020-06-16</td>\n      <td>-2</td>\n      <td>0.00</td>\n      <td>0.00</td>\n      <td>-6.48</td>\n      <td>-6.48</td>\n      <td>0.00</td>\n      <td>-6.48</td>\n      <td>...</td>\n      <td>8809656137113</td>\n      <td>라인보드삭스-라이언</td>\n      <td>93009450</td>\n      <td>B07RYN2GKC</td>\n      <td>Ryan</td>\n      <td>Accessories</td>\n      <td>Socks</td>\n      <td>Basic</td>\n      <td>라인보드삭스-라이언</td>\n      <td>0</td>\n    </tr>\n  </tbody>\n</table>\n<p>1704 rows × 22 columns</p>\n</div>"
     },
     "metadata": {},
     "execution_count": 236
    }
   ],
   "source": []
  },
  {
   "cell_type": "code",
   "execution_count": 204,
   "metadata": {},
   "outputs": [],
   "source": [
    "week_1 = week_1.replace({'weekofmonth':'0'}, {'weekofmonth':'1'})"
   ]
  },
  {
   "cell_type": "code",
   "execution_count": 186,
   "metadata": {},
   "outputs": [
    {
     "output_type": "execute_result",
     "data": {
      "text/plain": "                                       product_title       SKU         day  \\\n0              Portable Fan with Cradle Stand - Ryan    F08846  2020-06-25   \n1             Yumyum Friends, Tote bag - Little Ryan    F10931  2020-06-05   \n2          Skateboard Cotton Face Socks - Ryan, Heel  93009450  2020-06-06   \n3                 Silicone Mood Lamp - Little Apeach    F09049  2020-06-12   \n4     Baby Dreaming Theme, Mini Pillow - Little Ryan    F10671  2020-06-15   \n...                                              ...       ...         ...   \n1699       Skateboard Cotton Face Socks - Ryan, Heel  93009450  2020-06-29   \n1700                            Socks, Pink - Apeach    F10983  2020-06-12   \n1701                       Mini Pillow - Lovely Ryan    F09923  2020-06-22   \n1702           Portable Fan with Cradle Stand - Ryan  93008882  2020-06-08   \n1703       Skateboard Cotton Face Socks - Ryan, Heel  93009450  2020-06-16   \n\n      net_quantity  gross_sales  discounts  returns  net_sales  taxes  \\\n0                5       133.27     -21.30     0.00     111.97  22.40   \n1                5       114.95      -3.43     0.00     111.52   0.00   \n2                4        12.96       0.00     0.00      12.96   0.00   \n3                4       103.56       0.00     0.00     103.56   0.00   \n4                4        69.95     -13.97   -11.19      44.79   0.00   \n...            ...          ...        ...      ...        ...    ...   \n1699            -1         0.00       0.00    -3.24      -3.24   0.00   \n1700            -1         0.00       0.00    -6.30      -6.30   0.00   \n1701            -2         0.00       0.00   -24.00     -24.00   0.00   \n1702            -2         0.00       0.00   -35.82     -35.82  -7.16   \n1703            -2         0.00       0.00    -6.48      -6.48   0.00   \n\n      total_sales  ...        BARCODE            NAME(KR)     SKU_2  \\\n0          134.37  ...  8809641467386     크레들 핸디형 선풍기_라이언    F08846   \n1          111.52  ...  8809681708968        얌얌 에코백_리틀라이언    F10931   \n2           12.96  ...  8809656137113          라인보드삭스-라이언  93009450   \n3          103.56  ...  8809656134594        실리콘무드등_리틀어피치    F09049   \n4           44.79  ...  8809681706742   베이비드리밍 타이니프렌즈_라이언    F10671   \n...           ...  ...            ...                 ...       ...   \n1699        -3.24  ...  8809656137113          라인보드삭스-라이언  93009450   \n1700        -6.30  ...  8809681709705  프렌즈미디움삭스(공용)_핑크어피치    F10983   \n1701       -24.00  ...  8809641469113       베이비필로우_러블리라이언    F09923   \n1702       -42.98  ...            NaN                 NaN       NaN   \n1703        -6.48  ...  8809656137113          라인보드삭스-라이언  93009450   \n\n          ASIN_2 CHARACTER     CATEGORY         ITEM           THEME  \\\n0           None      Ryan    Tech&Accs         Fans           Basic   \n1           None      Ryan  Accessories   Canvas bag    Lemon Terras   \n2     B07RYN2GKC      Ryan  Accessories        Socks           Basic   \n3     B07W8V49GC    Apeach         Home    Mood lamp  Little Friends   \n4     B086MQ57RX      Ryan        Plush  Mini Pillow   Baby Dreaming   \n...          ...       ...          ...          ...             ...   \n1699  B07RYN2GKC      Ryan  Accessories        Socks           Basic   \n1700        #N/A    Apeach  Accessories        Socks     Happy Weeks   \n1701  B07WW872QM      Ryan        Plush  Mini Pillow  Lovely Friends   \n1702         NaN       NaN          NaN          NaN             NaN   \n1703  B07RYN2GKC      Ryan  Accessories        Socks           Basic   \n\n        PRODUCT_NAME(KR) weekofmonth  \n0        크레들 핸디형 선풍기_라이언     1stweek  \n1           얌얌 에코백_리틀라이언           0  \n2             라인보드삭스-라이언           0  \n3           실리콘무드등_리틀어피치           0  \n4      베이비드리밍 타이니프렌즈_라이언           0  \n...                  ...         ...  \n1699          라인보드삭스-라이언           0  \n1700  프렌즈미디움삭스(공용)_핑크어피치           0  \n1701       베이비필로우_러블리라이언           0  \n1702                 NaN           0  \n1703          라인보드삭스-라이언           0  \n\n[1704 rows x 22 columns]",
      "text/html": "<div>\n<style scoped>\n    .dataframe tbody tr th:only-of-type {\n        vertical-align: middle;\n    }\n\n    .dataframe tbody tr th {\n        vertical-align: top;\n    }\n\n    .dataframe thead th {\n        text-align: right;\n    }\n</style>\n<table border=\"1\" class=\"dataframe\">\n  <thead>\n    <tr style=\"text-align: right;\">\n      <th></th>\n      <th>product_title</th>\n      <th>SKU</th>\n      <th>day</th>\n      <th>net_quantity</th>\n      <th>gross_sales</th>\n      <th>discounts</th>\n      <th>returns</th>\n      <th>net_sales</th>\n      <th>taxes</th>\n      <th>total_sales</th>\n      <th>...</th>\n      <th>BARCODE</th>\n      <th>NAME(KR)</th>\n      <th>SKU_2</th>\n      <th>ASIN_2</th>\n      <th>CHARACTER</th>\n      <th>CATEGORY</th>\n      <th>ITEM</th>\n      <th>THEME</th>\n      <th>PRODUCT_NAME(KR)</th>\n      <th>weekofmonth</th>\n    </tr>\n  </thead>\n  <tbody>\n    <tr>\n      <th>0</th>\n      <td>Portable Fan with Cradle Stand - Ryan</td>\n      <td>F08846</td>\n      <td>2020-06-25</td>\n      <td>5</td>\n      <td>133.27</td>\n      <td>-21.30</td>\n      <td>0.00</td>\n      <td>111.97</td>\n      <td>22.40</td>\n      <td>134.37</td>\n      <td>...</td>\n      <td>8809641467386</td>\n      <td>크레들 핸디형 선풍기_라이언</td>\n      <td>F08846</td>\n      <td>None</td>\n      <td>Ryan</td>\n      <td>Tech&amp;Accs</td>\n      <td>Fans</td>\n      <td>Basic</td>\n      <td>크레들 핸디형 선풍기_라이언</td>\n      <td>1stweek</td>\n    </tr>\n    <tr>\n      <th>1</th>\n      <td>Yumyum Friends, Tote bag - Little Ryan</td>\n      <td>F10931</td>\n      <td>2020-06-05</td>\n      <td>5</td>\n      <td>114.95</td>\n      <td>-3.43</td>\n      <td>0.00</td>\n      <td>111.52</td>\n      <td>0.00</td>\n      <td>111.52</td>\n      <td>...</td>\n      <td>8809681708968</td>\n      <td>얌얌 에코백_리틀라이언</td>\n      <td>F10931</td>\n      <td>None</td>\n      <td>Ryan</td>\n      <td>Accessories</td>\n      <td>Canvas bag</td>\n      <td>Lemon Terras</td>\n      <td>얌얌 에코백_리틀라이언</td>\n      <td>0</td>\n    </tr>\n    <tr>\n      <th>2</th>\n      <td>Skateboard Cotton Face Socks - Ryan, Heel</td>\n      <td>93009450</td>\n      <td>2020-06-06</td>\n      <td>4</td>\n      <td>12.96</td>\n      <td>0.00</td>\n      <td>0.00</td>\n      <td>12.96</td>\n      <td>0.00</td>\n      <td>12.96</td>\n      <td>...</td>\n      <td>8809656137113</td>\n      <td>라인보드삭스-라이언</td>\n      <td>93009450</td>\n      <td>B07RYN2GKC</td>\n      <td>Ryan</td>\n      <td>Accessories</td>\n      <td>Socks</td>\n      <td>Basic</td>\n      <td>라인보드삭스-라이언</td>\n      <td>0</td>\n    </tr>\n    <tr>\n      <th>3</th>\n      <td>Silicone Mood Lamp - Little Apeach</td>\n      <td>F09049</td>\n      <td>2020-06-12</td>\n      <td>4</td>\n      <td>103.56</td>\n      <td>0.00</td>\n      <td>0.00</td>\n      <td>103.56</td>\n      <td>0.00</td>\n      <td>103.56</td>\n      <td>...</td>\n      <td>8809656134594</td>\n      <td>실리콘무드등_리틀어피치</td>\n      <td>F09049</td>\n      <td>B07W8V49GC</td>\n      <td>Apeach</td>\n      <td>Home</td>\n      <td>Mood lamp</td>\n      <td>Little Friends</td>\n      <td>실리콘무드등_리틀어피치</td>\n      <td>0</td>\n    </tr>\n    <tr>\n      <th>4</th>\n      <td>Baby Dreaming Theme, Mini Pillow - Little Ryan</td>\n      <td>F10671</td>\n      <td>2020-06-15</td>\n      <td>4</td>\n      <td>69.95</td>\n      <td>-13.97</td>\n      <td>-11.19</td>\n      <td>44.79</td>\n      <td>0.00</td>\n      <td>44.79</td>\n      <td>...</td>\n      <td>8809681706742</td>\n      <td>베이비드리밍 타이니프렌즈_라이언</td>\n      <td>F10671</td>\n      <td>B086MQ57RX</td>\n      <td>Ryan</td>\n      <td>Plush</td>\n      <td>Mini Pillow</td>\n      <td>Baby Dreaming</td>\n      <td>베이비드리밍 타이니프렌즈_라이언</td>\n      <td>0</td>\n    </tr>\n    <tr>\n      <th>...</th>\n      <td>...</td>\n      <td>...</td>\n      <td>...</td>\n      <td>...</td>\n      <td>...</td>\n      <td>...</td>\n      <td>...</td>\n      <td>...</td>\n      <td>...</td>\n      <td>...</td>\n      <td>...</td>\n      <td>...</td>\n      <td>...</td>\n      <td>...</td>\n      <td>...</td>\n      <td>...</td>\n      <td>...</td>\n      <td>...</td>\n      <td>...</td>\n      <td>...</td>\n      <td>...</td>\n    </tr>\n    <tr>\n      <th>1699</th>\n      <td>Skateboard Cotton Face Socks - Ryan, Heel</td>\n      <td>93009450</td>\n      <td>2020-06-29</td>\n      <td>-1</td>\n      <td>0.00</td>\n      <td>0.00</td>\n      <td>-3.24</td>\n      <td>-3.24</td>\n      <td>0.00</td>\n      <td>-3.24</td>\n      <td>...</td>\n      <td>8809656137113</td>\n      <td>라인보드삭스-라이언</td>\n      <td>93009450</td>\n      <td>B07RYN2GKC</td>\n      <td>Ryan</td>\n      <td>Accessories</td>\n      <td>Socks</td>\n      <td>Basic</td>\n      <td>라인보드삭스-라이언</td>\n      <td>0</td>\n    </tr>\n    <tr>\n      <th>1700</th>\n      <td>Socks, Pink - Apeach</td>\n      <td>F10983</td>\n      <td>2020-06-12</td>\n      <td>-1</td>\n      <td>0.00</td>\n      <td>0.00</td>\n      <td>-6.30</td>\n      <td>-6.30</td>\n      <td>0.00</td>\n      <td>-6.30</td>\n      <td>...</td>\n      <td>8809681709705</td>\n      <td>프렌즈미디움삭스(공용)_핑크어피치</td>\n      <td>F10983</td>\n      <td>#N/A</td>\n      <td>Apeach</td>\n      <td>Accessories</td>\n      <td>Socks</td>\n      <td>Happy Weeks</td>\n      <td>프렌즈미디움삭스(공용)_핑크어피치</td>\n      <td>0</td>\n    </tr>\n    <tr>\n      <th>1701</th>\n      <td>Mini Pillow - Lovely Ryan</td>\n      <td>F09923</td>\n      <td>2020-06-22</td>\n      <td>-2</td>\n      <td>0.00</td>\n      <td>0.00</td>\n      <td>-24.00</td>\n      <td>-24.00</td>\n      <td>0.00</td>\n      <td>-24.00</td>\n      <td>...</td>\n      <td>8809641469113</td>\n      <td>베이비필로우_러블리라이언</td>\n      <td>F09923</td>\n      <td>B07WW872QM</td>\n      <td>Ryan</td>\n      <td>Plush</td>\n      <td>Mini Pillow</td>\n      <td>Lovely Friends</td>\n      <td>베이비필로우_러블리라이언</td>\n      <td>0</td>\n    </tr>\n    <tr>\n      <th>1702</th>\n      <td>Portable Fan with Cradle Stand - Ryan</td>\n      <td>93008882</td>\n      <td>2020-06-08</td>\n      <td>-2</td>\n      <td>0.00</td>\n      <td>0.00</td>\n      <td>-35.82</td>\n      <td>-35.82</td>\n      <td>-7.16</td>\n      <td>-42.98</td>\n      <td>...</td>\n      <td>NaN</td>\n      <td>NaN</td>\n      <td>NaN</td>\n      <td>NaN</td>\n      <td>NaN</td>\n      <td>NaN</td>\n      <td>NaN</td>\n      <td>NaN</td>\n      <td>NaN</td>\n      <td>0</td>\n    </tr>\n    <tr>\n      <th>1703</th>\n      <td>Skateboard Cotton Face Socks - Ryan, Heel</td>\n      <td>93009450</td>\n      <td>2020-06-16</td>\n      <td>-2</td>\n      <td>0.00</td>\n      <td>0.00</td>\n      <td>-6.48</td>\n      <td>-6.48</td>\n      <td>0.00</td>\n      <td>-6.48</td>\n      <td>...</td>\n      <td>8809656137113</td>\n      <td>라인보드삭스-라이언</td>\n      <td>93009450</td>\n      <td>B07RYN2GKC</td>\n      <td>Ryan</td>\n      <td>Accessories</td>\n      <td>Socks</td>\n      <td>Basic</td>\n      <td>라인보드삭스-라이언</td>\n      <td>0</td>\n    </tr>\n  </tbody>\n</table>\n<p>1704 rows × 22 columns</p>\n</div>"
     },
     "metadata": {},
     "execution_count": 186
    }
   ],
   "source": [
    "saletrend"
   ]
  },
  {
   "cell_type": "code",
   "execution_count": 148,
   "metadata": {},
   "outputs": [
    {
     "output_type": "execute_result",
     "data": {
      "text/plain": "0       1\n1       1\n2       1\n3       1\n4       1\n       ..\n1699    1\n1700    1\n1701    1\n1702    1\n1703    1\nName: weekofmonth, Length: 1704, dtype: object"
     },
     "metadata": {},
     "execution_count": 148
    }
   ],
   "source": [
    "saletrend['weekofmonth']"
   ]
  },
  {
   "cell_type": "code",
   "execution_count": 109,
   "metadata": {},
   "outputs": [],
   "source": [
    "#category_trend = pd.pivot_table(saletrend, index='CATEGORY', columns='day',values='net_quantity', aggfunc = np.sum)"
   ]
  },
  {
   "cell_type": "code",
   "execution_count": 110,
   "metadata": {},
   "outputs": [],
   "source": [
    "#category_trend = category_trend.fillna(0)"
   ]
  },
  {
   "cell_type": "code",
   "execution_count": 111,
   "metadata": {},
   "outputs": [],
   "source": [
    "#category_trend"
   ]
  },
  {
   "cell_type": "code",
   "execution_count": 112,
   "metadata": {},
   "outputs": [],
   "source": [
    "# category_trend.columns.values[0:7] = 1\n",
    "# category_trend.columns.values[7:14] = 2"
   ]
  },
  {
   "cell_type": "code",
   "execution_count": 113,
   "metadata": {},
   "outputs": [],
   "source": [
    "# category_trend.columns.values[14:21] = 3\n",
    "# category_trend.columns.values[21:28] = 4\n",
    "# category_trend.columns.values[28:30] = 5\n"
   ]
  },
  {
   "cell_type": "code",
   "execution_count": 114,
   "metadata": {},
   "outputs": [],
   "source": [
    "# category_trend"
   ]
  },
  {
   "cell_type": "code",
   "execution_count": 115,
   "metadata": {},
   "outputs": [],
   "source": [
    "# pd.pivot_table(category_trend, index = 'CATEGORY', columns = 'day', aggfunc=np.sum)"
   ]
  },
  {
   "cell_type": "code",
   "execution_count": 116,
   "metadata": {},
   "outputs": [],
   "source": [
    "# import matplotlib.pyplot as plt\n",
    "# import seaborn as sns\n",
    "\n",
    "# def heatmap (chart, chartsize, font_size):\n",
    "#     plt.rcParams['figure.figsize'] = [chartsize, chartsize]\n",
    "#     plt.pcolor(chart)\n",
    "#     plt.xticks(np.arange(0.5, len(chart.columns), 1), chart.columns)\n",
    "#     plt.yticks(np.arange(0.5, len(chart.index), 1), chart.index)\n",
    "#     plt.title('Heatmap by plt.pcolor()', fontsize=font_size)\n",
    "#     plt.xlabel('Year', fontsize=font_size)\n",
    "#     plt.ylabel('Month', fontsize=font_size)\n",
    "#     plt.colorbar()\n",
    "\n",
    "\n",
    "\n",
    "# heatmap(category_trend, 40, 10)"
   ]
  }
 ],
 "metadata": {
  "kernelspec": {
   "name": "python_defaultSpec_1593526515196",
   "display_name": "Python 3.7.6 64-bit ('base': conda)"
  }
 },
 "nbformat": 4,
 "nbformat_minor": 4
}
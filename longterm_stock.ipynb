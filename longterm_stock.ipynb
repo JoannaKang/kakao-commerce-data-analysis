{
 "cells": [
  {
   "cell_type": "code",
   "execution_count": 1,
   "metadata": {},
   "outputs": [],
   "source": [
    "import pandas as pd\n",
    "import numpy as np\n",
    "\n",
    "from google.cloud import bigquery\n",
    "from google.oauth2 import service_account\n",
    "\n",
    "credentials = service_account.Credentials.from_service_account_file(\"C:\\\\Users\\\\Joanna Kang\\\\Documents\\\\GitHub\\\\Sales-dashboard\\\\My First Project-c1aa474eca74.json\")\n",
    "project_id = 'rare-shuttle-279916'"
   ]
  },
  {
   "cell_type": "code",
   "execution_count": 2,
   "metadata": {},
   "outputs": [],
   "source": [
    "client = bigquery.Client()"
   ]
  },
  {
   "cell_type": "code",
   "execution_count": 3,
   "metadata": {},
   "outputs": [],
   "source": [
    "%load_ext google.cloud.bigquery"
   ]
  },
  {
   "cell_type": "code",
   "execution_count": 4,
   "metadata": {},
   "outputs": [],
   "source": [
    "import google.auth\n",
    "from google.cloud import bigquery\n",
    "from google.cloud import bigquery_storage_v1beta1\n",
    "\n",
    "credentials, your_project_id = google.auth.default(\n",
    "    scopes=[\"https://www.googleapis.com/auth/cloud-platform\"]\n",
    ")\n",
    "\n",
    "# Make clients.\n",
    "bqclient = bigquery.Client(\n",
    "    credentials=credentials,\n",
    "    project= 'rare-shuttle-279916',\n",
    ")\n",
    "bqstorageclient = bigquery_storage_v1beta1.BigQueryStorageClient(\n",
    "    credentials=credentials\n",
    ")"
   ]
  },
  {
   "cell_type": "code",
   "execution_count": 5,
   "metadata": {},
   "outputs": [],
   "source": [
    "query_job_1 = client.query('''SELECT * FROM `rare-shuttle-279916.Amazon.productlist_200625` LIMIT 20000\n",
    "''')\n",
    "productlist = query_job_1.to_dataframe()"
   ]
  },
  {
   "cell_type": "code",
   "execution_count": 6,
   "metadata": {},
   "outputs": [],
   "source": [
    "longtermstock = pd.read_csv(\"C:\\\\Users\\\\Joanna Kang\\\\Desktop\\\\longtermstock.csv\")"
   ]
  },
  {
   "cell_type": "code",
   "execution_count": 8,
   "metadata": {},
   "outputs": [],
   "source": [
    "longtermstock = longtermstock.drop([longtermstock.index[0]])"
   ]
  },
  {
   "cell_type": "code",
   "execution_count": 13,
   "metadata": {},
   "outputs": [],
   "source": [
    "def column_replace(productlist, columns, new_column):\n",
    "    productlist_before = []\n",
    "    productlist_new = new_column\n",
    "    for i in range(len(columns)):\n",
    "        productlist_before.append(columns[i])\n",
    "\n",
    "    for i in range(len(new_column)):\n",
    "        productlist_new.append(new_column[i])\n",
    "\n",
    "    for i in range(len(productlist_before)):\n",
    "        productlist = productlist.rename({productlist_before[i] : productlist_new[i]}, axis = 'columns')\n",
    "    \n",
    "    productlist = productlist.drop([productlist.index[0]])\n",
    "\n",
    "    return productlist\n",
    "\n",
    "productlist = column_replace(productlist, productlist.columns, ['Batch', 'SKU', 'ASIN', 'BARCODE', 'NAME(KR)', 'SKU_2', 'ASIN_2', 'CHARACTER', 'CATEGORY', 'ITEM', 'THEME', 'PRODUCT_NAME(KR)'])\n",
    "\n",
    "#productlist = productlist.drop([productlist.index[0]])\n",
    "productlist = productlist.sort_values(by='Batch')"
   ]
  },
  {
   "cell_type": "code",
   "execution_count": 15,
   "metadata": {},
   "outputs": [],
   "source": [
    "longtermstock = pd.merge(longtermstock, productlist, how='left', on = 'SKU')"
   ]
  },
  {
   "cell_type": "code",
   "execution_count": 18,
   "metadata": {},
   "outputs": [],
   "source": [
    "longtermstock.to_excel(\"C:\\\\Users\\\\Joanna Kang\\\\Desktop\\\\longtermstocklist.xlsx\", na_rep='NAN')"
   ]
  }
 ],
 "metadata": {
  "kernelspec": {
   "name": "python_defaultSpec_1593521133904",
   "display_name": "Python 3.7.6 64-bit ('base': conda)"
  }
 },
 "nbformat": 4,
 "nbformat_minor": 4
}